{
  "nbformat": 4,
  "nbformat_minor": 0,
  "metadata": {
    "colab": {
      "provenance": []
    },
    "kernelspec": {
      "name": "python3",
      "display_name": "Python 3"
    },
    "language_info": {
      "name": "python"
    }
  },
  "cells": [
    {
      "cell_type": "code",
      "execution_count": null,
      "metadata": {
        "id": "L88h9mlaUSvP"
      },
      "outputs": [],
      "source": [
        "import pandas as pd\n",
        "import numpy\n",
        "\n",
        "df_female_subjects = pd.read_csv('/content/drive/MyDrive/Colab Notebooks/honors thesis/new df male, female etc/df_female_subjects.csv')\n",
        "df_male_subjects = pd.read_csv('/content/drive/MyDrive/Colab Notebooks/honors thesis/new df male, female etc/df_male_subjects.csv')\n",
        "df_with_i = pd.read_csv('/content/drive/MyDrive/Colab Notebooks/honors thesis/new df male, female etc/df_with_i.csv')\n",
        "df_taming = pd.read_csv('/content/drive/MyDrive/Colab Notebooks/honors thesis/new df male, female etc/df_2.csv')"
      ]
    },
    {
      "cell_type": "code",
      "source": [
        "df_male_subjects"
      ],
      "metadata": {
        "colab": {
          "base_uri": "https://localhost:8080/",
          "height": 1000
        },
        "id": "k5tRUJTYXRfS",
        "outputId": "6dca230f-a1d0-4b75-b79d-8e631090b786"
      },
      "execution_count": null,
      "outputs": [
        {
          "output_type": "execute_result",
          "data": {
            "text/plain": [
              "     Unnamed: 0  Unnamed: 0.1  index       id    speaker direction_type  \\\n",
              "0             4             4      4  sp-0016     Tranio            NaN   \n",
              "1             5             5      5  sp-0021     Moroso            NaN   \n",
              "2             7             7      7  sp-0025     Tranio            NaN   \n",
              "3             9             9      8  sp-0026  Sophocles            NaN   \n",
              "4            11            11     10  sp-0030  Sophocles            NaN   \n",
              "..          ...           ...    ...      ...        ...            ...   \n",
              "152        1682          1682   1385  sp-3335  Petronius            NaN   \n",
              "153        1698          1698   1397  sp-3357  Petruchio            NaN   \n",
              "154        1717          1717   1413  sp-3386  Petruchio            NaN   \n",
              "155        1724          1724   1420  sp-3401  Petruchio            NaN   \n",
              "156        1724          1724   1420  sp-3401  Petruchio            NaN   \n",
              "\n",
              "     position  act  scene                                               text  \\\n",
              "0           4    1      1  ’Tis too true : Certain , Methinks her father ...   \n",
              "1           5    1      1  Methinks now , He’s not so terrible as people ...   \n",
              "2           7    1      1                            But shall he have her ?   \n",
              "3           8    1      1  Yes , when I have Rome . And yet the father’s ...   \n",
              "4          10    1      1  Yes sure a wealthy , But whether a good woman’...   \n",
              "..        ...  ...    ...                                                ...   \n",
              "152      1385    5      4  Go to him whore ; — if he perish , I’ll see th...   \n",
              "153      1397    5      4  Go Jaques , Get all the best meat may be bough...   \n",
              "154      1413    5      4  A match then , I’ll be the maker up of this : ...   \n",
              "155      1420    5      4  Let’s in , and drink of all hands , and be jov...   \n",
              "156      1420    5      4  Let’s in , and drink of all hands , and be jov...   \n",
              "\n",
              "     ... power_equal power_theme  speaker_gender  character_list  sd_gender  \\\n",
              "0    ...         2.0         0.0               M              []         []   \n",
              "1    ...         1.0         0.0               M              []         []   \n",
              "2    ...         0.0         0.0               M              []         []   \n",
              "3    ...         0.0         0.0               M              []         []   \n",
              "4    ...         0.0         0.0               M              []         []   \n",
              "..   ...         ...         ...             ...             ...        ...   \n",
              "152  ...         2.0         0.0               M              []         []   \n",
              "153  ...         3.0         2.0               M              []         []   \n",
              "154  ...         1.0         0.0               M      ['Moroso']      ['M']   \n",
              "155  ...         1.0         0.0               M              []         []   \n",
              "156  ...         1.0         0.0               M              []         []   \n",
              "\n",
              "     male_gender_count  female_gender_count  subjects male_subject_match  \\\n",
              "0                  0.0                  0.0    father             father   \n",
              "1                  0.0                  0.0        He                 He   \n",
              "2                  0.0                  0.0        he                 he   \n",
              "3                  0.0                  0.0    father             father   \n",
              "4                  0.0                  0.0       man                man   \n",
              "..                 ...                  ...       ...                ...   \n",
              "152                0.0                  0.0        he                 he   \n",
              "153                0.0                  0.0        he                 he   \n",
              "154                1.0                  0.0        he                 he   \n",
              "155                0.0                  0.0       him                him   \n",
              "156                0.0                  0.0        he                 he   \n",
              "\n",
              "    female_subject_match  \n",
              "0                    NaN  \n",
              "1                    NaN  \n",
              "2                    NaN  \n",
              "3                    NaN  \n",
              "4                    NaN  \n",
              "..                   ...  \n",
              "152                  NaN  \n",
              "153                  NaN  \n",
              "154                  NaN  \n",
              "155                  NaN  \n",
              "156                  NaN  \n",
              "\n",
              "[157 rows x 26 columns]"
            ],
            "text/html": [
              "\n",
              "  <div id=\"df-4af9b140-ec5e-4940-a85c-c362093798ad\">\n",
              "    <div class=\"colab-df-container\">\n",
              "      <div>\n",
              "<style scoped>\n",
              "    .dataframe tbody tr th:only-of-type {\n",
              "        vertical-align: middle;\n",
              "    }\n",
              "\n",
              "    .dataframe tbody tr th {\n",
              "        vertical-align: top;\n",
              "    }\n",
              "\n",
              "    .dataframe thead th {\n",
              "        text-align: right;\n",
              "    }\n",
              "</style>\n",
              "<table border=\"1\" class=\"dataframe\">\n",
              "  <thead>\n",
              "    <tr style=\"text-align: right;\">\n",
              "      <th></th>\n",
              "      <th>Unnamed: 0</th>\n",
              "      <th>Unnamed: 0.1</th>\n",
              "      <th>index</th>\n",
              "      <th>id</th>\n",
              "      <th>speaker</th>\n",
              "      <th>direction_type</th>\n",
              "      <th>position</th>\n",
              "      <th>act</th>\n",
              "      <th>scene</th>\n",
              "      <th>text</th>\n",
              "      <th>...</th>\n",
              "      <th>power_equal</th>\n",
              "      <th>power_theme</th>\n",
              "      <th>speaker_gender</th>\n",
              "      <th>character_list</th>\n",
              "      <th>sd_gender</th>\n",
              "      <th>male_gender_count</th>\n",
              "      <th>female_gender_count</th>\n",
              "      <th>subjects</th>\n",
              "      <th>male_subject_match</th>\n",
              "      <th>female_subject_match</th>\n",
              "    </tr>\n",
              "  </thead>\n",
              "  <tbody>\n",
              "    <tr>\n",
              "      <th>0</th>\n",
              "      <td>4</td>\n",
              "      <td>4</td>\n",
              "      <td>4</td>\n",
              "      <td>sp-0016</td>\n",
              "      <td>Tranio</td>\n",
              "      <td>NaN</td>\n",
              "      <td>4</td>\n",
              "      <td>1</td>\n",
              "      <td>1</td>\n",
              "      <td>’Tis too true : Certain , Methinks her father ...</td>\n",
              "      <td>...</td>\n",
              "      <td>2.0</td>\n",
              "      <td>0.0</td>\n",
              "      <td>M</td>\n",
              "      <td>[]</td>\n",
              "      <td>[]</td>\n",
              "      <td>0.0</td>\n",
              "      <td>0.0</td>\n",
              "      <td>father</td>\n",
              "      <td>father</td>\n",
              "      <td>NaN</td>\n",
              "    </tr>\n",
              "    <tr>\n",
              "      <th>1</th>\n",
              "      <td>5</td>\n",
              "      <td>5</td>\n",
              "      <td>5</td>\n",
              "      <td>sp-0021</td>\n",
              "      <td>Moroso</td>\n",
              "      <td>NaN</td>\n",
              "      <td>5</td>\n",
              "      <td>1</td>\n",
              "      <td>1</td>\n",
              "      <td>Methinks now , He’s not so terrible as people ...</td>\n",
              "      <td>...</td>\n",
              "      <td>1.0</td>\n",
              "      <td>0.0</td>\n",
              "      <td>M</td>\n",
              "      <td>[]</td>\n",
              "      <td>[]</td>\n",
              "      <td>0.0</td>\n",
              "      <td>0.0</td>\n",
              "      <td>He</td>\n",
              "      <td>He</td>\n",
              "      <td>NaN</td>\n",
              "    </tr>\n",
              "    <tr>\n",
              "      <th>2</th>\n",
              "      <td>7</td>\n",
              "      <td>7</td>\n",
              "      <td>7</td>\n",
              "      <td>sp-0025</td>\n",
              "      <td>Tranio</td>\n",
              "      <td>NaN</td>\n",
              "      <td>7</td>\n",
              "      <td>1</td>\n",
              "      <td>1</td>\n",
              "      <td>But shall he have her ?</td>\n",
              "      <td>...</td>\n",
              "      <td>0.0</td>\n",
              "      <td>0.0</td>\n",
              "      <td>M</td>\n",
              "      <td>[]</td>\n",
              "      <td>[]</td>\n",
              "      <td>0.0</td>\n",
              "      <td>0.0</td>\n",
              "      <td>he</td>\n",
              "      <td>he</td>\n",
              "      <td>NaN</td>\n",
              "    </tr>\n",
              "    <tr>\n",
              "      <th>3</th>\n",
              "      <td>9</td>\n",
              "      <td>9</td>\n",
              "      <td>8</td>\n",
              "      <td>sp-0026</td>\n",
              "      <td>Sophocles</td>\n",
              "      <td>NaN</td>\n",
              "      <td>8</td>\n",
              "      <td>1</td>\n",
              "      <td>1</td>\n",
              "      <td>Yes , when I have Rome . And yet the father’s ...</td>\n",
              "      <td>...</td>\n",
              "      <td>0.0</td>\n",
              "      <td>0.0</td>\n",
              "      <td>M</td>\n",
              "      <td>[]</td>\n",
              "      <td>[]</td>\n",
              "      <td>0.0</td>\n",
              "      <td>0.0</td>\n",
              "      <td>father</td>\n",
              "      <td>father</td>\n",
              "      <td>NaN</td>\n",
              "    </tr>\n",
              "    <tr>\n",
              "      <th>4</th>\n",
              "      <td>11</td>\n",
              "      <td>11</td>\n",
              "      <td>10</td>\n",
              "      <td>sp-0030</td>\n",
              "      <td>Sophocles</td>\n",
              "      <td>NaN</td>\n",
              "      <td>10</td>\n",
              "      <td>1</td>\n",
              "      <td>1</td>\n",
              "      <td>Yes sure a wealthy , But whether a good woman’...</td>\n",
              "      <td>...</td>\n",
              "      <td>0.0</td>\n",
              "      <td>0.0</td>\n",
              "      <td>M</td>\n",
              "      <td>[]</td>\n",
              "      <td>[]</td>\n",
              "      <td>0.0</td>\n",
              "      <td>0.0</td>\n",
              "      <td>man</td>\n",
              "      <td>man</td>\n",
              "      <td>NaN</td>\n",
              "    </tr>\n",
              "    <tr>\n",
              "      <th>...</th>\n",
              "      <td>...</td>\n",
              "      <td>...</td>\n",
              "      <td>...</td>\n",
              "      <td>...</td>\n",
              "      <td>...</td>\n",
              "      <td>...</td>\n",
              "      <td>...</td>\n",
              "      <td>...</td>\n",
              "      <td>...</td>\n",
              "      <td>...</td>\n",
              "      <td>...</td>\n",
              "      <td>...</td>\n",
              "      <td>...</td>\n",
              "      <td>...</td>\n",
              "      <td>...</td>\n",
              "      <td>...</td>\n",
              "      <td>...</td>\n",
              "      <td>...</td>\n",
              "      <td>...</td>\n",
              "      <td>...</td>\n",
              "      <td>...</td>\n",
              "    </tr>\n",
              "    <tr>\n",
              "      <th>152</th>\n",
              "      <td>1682</td>\n",
              "      <td>1682</td>\n",
              "      <td>1385</td>\n",
              "      <td>sp-3335</td>\n",
              "      <td>Petronius</td>\n",
              "      <td>NaN</td>\n",
              "      <td>1385</td>\n",
              "      <td>5</td>\n",
              "      <td>4</td>\n",
              "      <td>Go to him whore ; — if he perish , I’ll see th...</td>\n",
              "      <td>...</td>\n",
              "      <td>2.0</td>\n",
              "      <td>0.0</td>\n",
              "      <td>M</td>\n",
              "      <td>[]</td>\n",
              "      <td>[]</td>\n",
              "      <td>0.0</td>\n",
              "      <td>0.0</td>\n",
              "      <td>he</td>\n",
              "      <td>he</td>\n",
              "      <td>NaN</td>\n",
              "    </tr>\n",
              "    <tr>\n",
              "      <th>153</th>\n",
              "      <td>1698</td>\n",
              "      <td>1698</td>\n",
              "      <td>1397</td>\n",
              "      <td>sp-3357</td>\n",
              "      <td>Petruchio</td>\n",
              "      <td>NaN</td>\n",
              "      <td>1397</td>\n",
              "      <td>5</td>\n",
              "      <td>4</td>\n",
              "      <td>Go Jaques , Get all the best meat may be bough...</td>\n",
              "      <td>...</td>\n",
              "      <td>3.0</td>\n",
              "      <td>2.0</td>\n",
              "      <td>M</td>\n",
              "      <td>[]</td>\n",
              "      <td>[]</td>\n",
              "      <td>0.0</td>\n",
              "      <td>0.0</td>\n",
              "      <td>he</td>\n",
              "      <td>he</td>\n",
              "      <td>NaN</td>\n",
              "    </tr>\n",
              "    <tr>\n",
              "      <th>154</th>\n",
              "      <td>1717</td>\n",
              "      <td>1717</td>\n",
              "      <td>1413</td>\n",
              "      <td>sp-3386</td>\n",
              "      <td>Petruchio</td>\n",
              "      <td>NaN</td>\n",
              "      <td>1413</td>\n",
              "      <td>5</td>\n",
              "      <td>4</td>\n",
              "      <td>A match then , I’ll be the maker up of this : ...</td>\n",
              "      <td>...</td>\n",
              "      <td>1.0</td>\n",
              "      <td>0.0</td>\n",
              "      <td>M</td>\n",
              "      <td>['Moroso']</td>\n",
              "      <td>['M']</td>\n",
              "      <td>1.0</td>\n",
              "      <td>0.0</td>\n",
              "      <td>he</td>\n",
              "      <td>he</td>\n",
              "      <td>NaN</td>\n",
              "    </tr>\n",
              "    <tr>\n",
              "      <th>155</th>\n",
              "      <td>1724</td>\n",
              "      <td>1724</td>\n",
              "      <td>1420</td>\n",
              "      <td>sp-3401</td>\n",
              "      <td>Petruchio</td>\n",
              "      <td>NaN</td>\n",
              "      <td>1420</td>\n",
              "      <td>5</td>\n",
              "      <td>4</td>\n",
              "      <td>Let’s in , and drink of all hands , and be jov...</td>\n",
              "      <td>...</td>\n",
              "      <td>1.0</td>\n",
              "      <td>0.0</td>\n",
              "      <td>M</td>\n",
              "      <td>[]</td>\n",
              "      <td>[]</td>\n",
              "      <td>0.0</td>\n",
              "      <td>0.0</td>\n",
              "      <td>him</td>\n",
              "      <td>him</td>\n",
              "      <td>NaN</td>\n",
              "    </tr>\n",
              "    <tr>\n",
              "      <th>156</th>\n",
              "      <td>1724</td>\n",
              "      <td>1724</td>\n",
              "      <td>1420</td>\n",
              "      <td>sp-3401</td>\n",
              "      <td>Petruchio</td>\n",
              "      <td>NaN</td>\n",
              "      <td>1420</td>\n",
              "      <td>5</td>\n",
              "      <td>4</td>\n",
              "      <td>Let’s in , and drink of all hands , and be jov...</td>\n",
              "      <td>...</td>\n",
              "      <td>1.0</td>\n",
              "      <td>0.0</td>\n",
              "      <td>M</td>\n",
              "      <td>[]</td>\n",
              "      <td>[]</td>\n",
              "      <td>0.0</td>\n",
              "      <td>0.0</td>\n",
              "      <td>he</td>\n",
              "      <td>he</td>\n",
              "      <td>NaN</td>\n",
              "    </tr>\n",
              "  </tbody>\n",
              "</table>\n",
              "<p>157 rows × 26 columns</p>\n",
              "</div>\n",
              "      <button class=\"colab-df-convert\" onclick=\"convertToInteractive('df-4af9b140-ec5e-4940-a85c-c362093798ad')\"\n",
              "              title=\"Convert this dataframe to an interactive table.\"\n",
              "              style=\"display:none;\">\n",
              "        \n",
              "  <svg xmlns=\"http://www.w3.org/2000/svg\" height=\"24px\"viewBox=\"0 0 24 24\"\n",
              "       width=\"24px\">\n",
              "    <path d=\"M0 0h24v24H0V0z\" fill=\"none\"/>\n",
              "    <path d=\"M18.56 5.44l.94 2.06.94-2.06 2.06-.94-2.06-.94-.94-2.06-.94 2.06-2.06.94zm-11 1L8.5 8.5l.94-2.06 2.06-.94-2.06-.94L8.5 2.5l-.94 2.06-2.06.94zm10 10l.94 2.06.94-2.06 2.06-.94-2.06-.94-.94-2.06-.94 2.06-2.06.94z\"/><path d=\"M17.41 7.96l-1.37-1.37c-.4-.4-.92-.59-1.43-.59-.52 0-1.04.2-1.43.59L10.3 9.45l-7.72 7.72c-.78.78-.78 2.05 0 2.83L4 21.41c.39.39.9.59 1.41.59.51 0 1.02-.2 1.41-.59l7.78-7.78 2.81-2.81c.8-.78.8-2.07 0-2.86zM5.41 20L4 18.59l7.72-7.72 1.47 1.35L5.41 20z\"/>\n",
              "  </svg>\n",
              "      </button>\n",
              "      \n",
              "  <style>\n",
              "    .colab-df-container {\n",
              "      display:flex;\n",
              "      flex-wrap:wrap;\n",
              "      gap: 12px;\n",
              "    }\n",
              "\n",
              "    .colab-df-convert {\n",
              "      background-color: #E8F0FE;\n",
              "      border: none;\n",
              "      border-radius: 50%;\n",
              "      cursor: pointer;\n",
              "      display: none;\n",
              "      fill: #1967D2;\n",
              "      height: 32px;\n",
              "      padding: 0 0 0 0;\n",
              "      width: 32px;\n",
              "    }\n",
              "\n",
              "    .colab-df-convert:hover {\n",
              "      background-color: #E2EBFA;\n",
              "      box-shadow: 0px 1px 2px rgba(60, 64, 67, 0.3), 0px 1px 3px 1px rgba(60, 64, 67, 0.15);\n",
              "      fill: #174EA6;\n",
              "    }\n",
              "\n",
              "    [theme=dark] .colab-df-convert {\n",
              "      background-color: #3B4455;\n",
              "      fill: #D2E3FC;\n",
              "    }\n",
              "\n",
              "    [theme=dark] .colab-df-convert:hover {\n",
              "      background-color: #434B5C;\n",
              "      box-shadow: 0px 1px 3px 1px rgba(0, 0, 0, 0.15);\n",
              "      filter: drop-shadow(0px 1px 2px rgba(0, 0, 0, 0.3));\n",
              "      fill: #FFFFFF;\n",
              "    }\n",
              "  </style>\n",
              "\n",
              "      <script>\n",
              "        const buttonEl =\n",
              "          document.querySelector('#df-4af9b140-ec5e-4940-a85c-c362093798ad button.colab-df-convert');\n",
              "        buttonEl.style.display =\n",
              "          google.colab.kernel.accessAllowed ? 'block' : 'none';\n",
              "\n",
              "        async function convertToInteractive(key) {\n",
              "          const element = document.querySelector('#df-4af9b140-ec5e-4940-a85c-c362093798ad');\n",
              "          const dataTable =\n",
              "            await google.colab.kernel.invokeFunction('convertToInteractive',\n",
              "                                                     [key], {});\n",
              "          if (!dataTable) return;\n",
              "\n",
              "          const docLinkHtml = 'Like what you see? Visit the ' +\n",
              "            '<a target=\"_blank\" href=https://colab.research.google.com/notebooks/data_table.ipynb>data table notebook</a>'\n",
              "            + ' to learn more about interactive tables.';\n",
              "          element.innerHTML = '';\n",
              "          dataTable['output_type'] = 'display_data';\n",
              "          await google.colab.output.renderOutput(dataTable, element);\n",
              "          const docLink = document.createElement('div');\n",
              "          docLink.innerHTML = docLinkHtml;\n",
              "          element.appendChild(docLink);\n",
              "        }\n",
              "      </script>\n",
              "    </div>\n",
              "  </div>\n",
              "  "
            ]
          },
          "metadata": {},
          "execution_count": 3
        }
      ]
    },
    {
      "cell_type": "code",
      "source": [
        "df_taming['sentence']"
      ],
      "metadata": {
        "colab": {
          "base_uri": "https://localhost:8080/"
        },
        "id": "_cXJ07W5dsBQ",
        "outputId": "bbb20a64-45e9-460f-857f-7579c51d187e"
      },
      "execution_count": null,
      "outputs": [
        {
          "output_type": "execute_result",
          "data": {
            "text/plain": [
              "0       Enter Moroso , Sophocles , and Tranio , with R...\n",
              "1                                       GOd give ’em joy \n",
              "2                                                   Amen \n",
              "3       Amen , say I too : The Puddings now i’ th’ pro...\n",
              "4       Amen , say I too : The Puddings now i’ th’ pro...\n",
              "                              ...                        \n",
              "3526    Let’s in , and drink of all hands , and be jov...\n",
              "3527    Let’s in , and drink of all hands , and be jov...\n",
              "3528    Let’s in , and drink of all hands , and be jov...\n",
              "3529    Let’s in , and drink of all hands , and be jov...\n",
              "3530                                              Exeunt \n",
              "Name: sentence, Length: 3531, dtype: object"
            ]
          },
          "metadata": {},
          "execution_count": 4
        }
      ]
    },
    {
      "cell_type": "code",
      "source": [
        "#when men speak about women, when women speak about men, when men speak about men, when women speak about women"
      ],
      "metadata": {
        "id": "575RBdLIVjvB"
      },
      "execution_count": null,
      "outputs": []
    },
    {
      "cell_type": "code",
      "source": [
        "#normalized gender counts"
      ],
      "metadata": {
        "id": "BRMx8GppVPzo"
      },
      "execution_count": null,
      "outputs": []
    },
    {
      "cell_type": "code",
      "source": [
        "#analytics by character as well?"
      ],
      "metadata": {
        "id": "lE4kdttGVRlU"
      },
      "execution_count": null,
      "outputs": []
    },
    {
      "cell_type": "code",
      "source": [
        "for index, row in df_taming.iterrows():\n",
        "  sentence_count = 1\n",
        "  word_count_taming = 0\n",
        "  words = row['sentence'].split(' ')\n",
        "  for word in words:\n",
        "    word_count_taming +=1\n",
        "df_taming.at[index, 'word_count'] = word_count_taming\n",
        "\n",
        "for index, row in df_taming.iterrows():\n",
        "  verb_count_taming = 0\n",
        "  verb_lemmas = row['verb_lemmas']\n",
        "  for verb_lemma in verb_lemmas:\n",
        "    verb_count_taming +=1\n",
        "    df_taming.at[index, 'verb_count'] = verb_count_taming\n"
      ],
      "metadata": {
        "id": "z6tuDrn-WgWP"
      },
      "execution_count": null,
      "outputs": []
    },
    {
      "cell_type": "code",
      "source": [
        "#repeat for the other dataframe slices? or no?\n",
        "\n",
        "for index, row in df_female_subjects.iterrows():\n",
        "  sentence_count = 1\n",
        "  word_count_f = 0\n",
        "  words = row['sentence'].split(' ')\n",
        "  for word in words:\n",
        "    word_count_f +=1\n",
        "  df_female_subjects.at[index, 'word_count'] = word_count_f\n",
        "\n",
        "for index, row in df_female_subjects.iterrows():\n",
        "  verb_count_f = 0\n",
        "  verb_lemmas = row['verb_lemmas']\n",
        "  for verb_lemma in verb_lemmas:\n",
        "    verb_count_f +=1\n",
        "    df_female_subjects.at[index, 'verb_count'] = verb_count_f"
      ],
      "metadata": {
        "id": "7Jkd1ShkW1HB"
      },
      "execution_count": null,
      "outputs": []
    },
    {
      "cell_type": "code",
      "source": [
        "df_verb_count_female_subj = df_female_subjects['verb_count'].sum()\n",
        "\n",
        "#14867"
      ],
      "metadata": {
        "id": "F8StRTXkX6nW"
      },
      "execution_count": null,
      "outputs": []
    },
    {
      "cell_type": "code",
      "source": [
        "femalesubj_neg_agency = df_female_subjects['agency_neg'].sum()/df_verb_count_female_subj\n",
        "femalesubj_pos_agency = df_female_subjects['agency_pos'].sum()/df_verb_count_female_subj\n"
      ],
      "metadata": {
        "id": "bJF_gYR2W8ya"
      },
      "execution_count": null,
      "outputs": []
    },
    {
      "cell_type": "code",
      "source": [
        "femalesubj_neg_agency"
      ],
      "metadata": {
        "colab": {
          "base_uri": "https://localhost:8080/"
        },
        "id": "NJ0vsPiEYPR8",
        "outputId": "42d4e6ab-a1e0-4598-c601-8c04222e7d42"
      },
      "execution_count": null,
      "outputs": [
        {
          "output_type": "execute_result",
          "data": {
            "text/plain": [
              "0.023542073047689512"
            ]
          },
          "metadata": {},
          "execution_count": 12
        }
      ]
    },
    {
      "cell_type": "code",
      "source": [
        "femalesubj_pos_agency"
      ],
      "metadata": {
        "colab": {
          "base_uri": "https://localhost:8080/"
        },
        "id": "2Wg8Rnn0YT9G",
        "outputId": "3ed56a3c-1961-4d07-c280-b1125a1dfc3d"
      },
      "execution_count": null,
      "outputs": [
        {
          "output_type": "execute_result",
          "data": {
            "text/plain": [
              "0.06295822963610681"
            ]
          },
          "metadata": {},
          "execution_count": 13
        }
      ]
    },
    {
      "cell_type": "code",
      "source": [
        "\n",
        "for index, row in df_male_subjects.iterrows():\n",
        "  sentence_count = 1\n",
        "  word_count = 0\n",
        "  words = row['sentence'].split(' ')\n",
        "  for word in words:\n",
        "    word_count +=1\n",
        "  df_male_subjects.at[index, 'word_count'] = word_count\n",
        "\n",
        "for index, row in df_male_subjects.iterrows():\n",
        "  verb_count = 0\n",
        "  verb_lemmas = row['verb_lemmas']\n",
        "  for verb_lemma in verb_lemmas:\n",
        "    verb_count +=1\n",
        "    df_male_subjects.at[index, 'verb_count'] = verb_count "
      ],
      "metadata": {
        "id": "c5gr4fHbYfby"
      },
      "execution_count": null,
      "outputs": []
    },
    {
      "cell_type": "code",
      "source": [
        "df_verb_count_male_subj = df_male_subjects['verb_count'].sum()\n"
      ],
      "metadata": {
        "id": "Mn1NlTYmYk0x"
      },
      "execution_count": null,
      "outputs": []
    },
    {
      "cell_type": "code",
      "source": [
        "malesubj_neg_agency = df_male_subjects['agency_neg'].sum()/df_verb_count_male_subj\n",
        "malesubj_pos_agency = df_male_subjects['agency_pos'].sum()/df_verb_count_male_subj\n"
      ],
      "metadata": {
        "id": "z2Ns5oKgYo8j"
      },
      "execution_count": null,
      "outputs": []
    },
    {
      "cell_type": "code",
      "source": [
        "malesubj_neg_agency "
      ],
      "metadata": {
        "colab": {
          "base_uri": "https://localhost:8080/"
        },
        "id": "clx4HTkYYwOG",
        "outputId": "963f42bd-951b-4199-e8f4-2764bdcc26fe"
      },
      "execution_count": null,
      "outputs": [
        {
          "output_type": "execute_result",
          "data": {
            "text/plain": [
              "0.023542517638321575"
            ]
          },
          "metadata": {},
          "execution_count": 17
        }
      ]
    },
    {
      "cell_type": "code",
      "source": [
        "malesubj_pos_agency"
      ],
      "metadata": {
        "colab": {
          "base_uri": "https://localhost:8080/"
        },
        "id": "CnECwj3nYy66",
        "outputId": "6fdca77a-4633-43e5-c9a7-2eb7f5a6c8c4"
      },
      "execution_count": null,
      "outputs": [
        {
          "output_type": "execute_result",
          "data": {
            "text/plain": [
              "0.06416635722242851"
            ]
          },
          "metadata": {},
          "execution_count": 18
        }
      ]
    },
    {
      "cell_type": "code",
      "source": [
        "# initialize list of lists\n",
        "data = [[malesubj_neg_agency, femalesubj_neg_agency], [malesubj_pos_agency, femalesubj_pos_agency] ]\n",
        "  \n",
        "# Create the pandas DataFrame\n",
        "df_agency_by_gender = pd.DataFrame(data, columns=['male','female'], index=['neg_agency','pos_agency'])\n",
        "  \n",
        "# print dataframe.\n",
        "df_agency_by_gender"
      ],
      "metadata": {
        "colab": {
          "base_uri": "https://localhost:8080/",
          "height": 112
        },
        "id": "xpbsRCneY6qn",
        "outputId": "1d675a37-e65d-4a5b-d4a3-296f52cd99fc"
      },
      "execution_count": null,
      "outputs": [
        {
          "output_type": "execute_result",
          "data": {
            "text/plain": [
              "                male    female\n",
              "neg_agency  0.023543  0.023542\n",
              "pos_agency  0.064166  0.062958"
            ],
            "text/html": [
              "\n",
              "  <div id=\"df-3fc626c5-7718-413a-84a4-4f8df057ec3a\">\n",
              "    <div class=\"colab-df-container\">\n",
              "      <div>\n",
              "<style scoped>\n",
              "    .dataframe tbody tr th:only-of-type {\n",
              "        vertical-align: middle;\n",
              "    }\n",
              "\n",
              "    .dataframe tbody tr th {\n",
              "        vertical-align: top;\n",
              "    }\n",
              "\n",
              "    .dataframe thead th {\n",
              "        text-align: right;\n",
              "    }\n",
              "</style>\n",
              "<table border=\"1\" class=\"dataframe\">\n",
              "  <thead>\n",
              "    <tr style=\"text-align: right;\">\n",
              "      <th></th>\n",
              "      <th>male</th>\n",
              "      <th>female</th>\n",
              "    </tr>\n",
              "  </thead>\n",
              "  <tbody>\n",
              "    <tr>\n",
              "      <th>neg_agency</th>\n",
              "      <td>0.023543</td>\n",
              "      <td>0.023542</td>\n",
              "    </tr>\n",
              "    <tr>\n",
              "      <th>pos_agency</th>\n",
              "      <td>0.064166</td>\n",
              "      <td>0.062958</td>\n",
              "    </tr>\n",
              "  </tbody>\n",
              "</table>\n",
              "</div>\n",
              "      <button class=\"colab-df-convert\" onclick=\"convertToInteractive('df-3fc626c5-7718-413a-84a4-4f8df057ec3a')\"\n",
              "              title=\"Convert this dataframe to an interactive table.\"\n",
              "              style=\"display:none;\">\n",
              "        \n",
              "  <svg xmlns=\"http://www.w3.org/2000/svg\" height=\"24px\"viewBox=\"0 0 24 24\"\n",
              "       width=\"24px\">\n",
              "    <path d=\"M0 0h24v24H0V0z\" fill=\"none\"/>\n",
              "    <path d=\"M18.56 5.44l.94 2.06.94-2.06 2.06-.94-2.06-.94-.94-2.06-.94 2.06-2.06.94zm-11 1L8.5 8.5l.94-2.06 2.06-.94-2.06-.94L8.5 2.5l-.94 2.06-2.06.94zm10 10l.94 2.06.94-2.06 2.06-.94-2.06-.94-.94-2.06-.94 2.06-2.06.94z\"/><path d=\"M17.41 7.96l-1.37-1.37c-.4-.4-.92-.59-1.43-.59-.52 0-1.04.2-1.43.59L10.3 9.45l-7.72 7.72c-.78.78-.78 2.05 0 2.83L4 21.41c.39.39.9.59 1.41.59.51 0 1.02-.2 1.41-.59l7.78-7.78 2.81-2.81c.8-.78.8-2.07 0-2.86zM5.41 20L4 18.59l7.72-7.72 1.47 1.35L5.41 20z\"/>\n",
              "  </svg>\n",
              "      </button>\n",
              "      \n",
              "  <style>\n",
              "    .colab-df-container {\n",
              "      display:flex;\n",
              "      flex-wrap:wrap;\n",
              "      gap: 12px;\n",
              "    }\n",
              "\n",
              "    .colab-df-convert {\n",
              "      background-color: #E8F0FE;\n",
              "      border: none;\n",
              "      border-radius: 50%;\n",
              "      cursor: pointer;\n",
              "      display: none;\n",
              "      fill: #1967D2;\n",
              "      height: 32px;\n",
              "      padding: 0 0 0 0;\n",
              "      width: 32px;\n",
              "    }\n",
              "\n",
              "    .colab-df-convert:hover {\n",
              "      background-color: #E2EBFA;\n",
              "      box-shadow: 0px 1px 2px rgba(60, 64, 67, 0.3), 0px 1px 3px 1px rgba(60, 64, 67, 0.15);\n",
              "      fill: #174EA6;\n",
              "    }\n",
              "\n",
              "    [theme=dark] .colab-df-convert {\n",
              "      background-color: #3B4455;\n",
              "      fill: #D2E3FC;\n",
              "    }\n",
              "\n",
              "    [theme=dark] .colab-df-convert:hover {\n",
              "      background-color: #434B5C;\n",
              "      box-shadow: 0px 1px 3px 1px rgba(0, 0, 0, 0.15);\n",
              "      filter: drop-shadow(0px 1px 2px rgba(0, 0, 0, 0.3));\n",
              "      fill: #FFFFFF;\n",
              "    }\n",
              "  </style>\n",
              "\n",
              "      <script>\n",
              "        const buttonEl =\n",
              "          document.querySelector('#df-3fc626c5-7718-413a-84a4-4f8df057ec3a button.colab-df-convert');\n",
              "        buttonEl.style.display =\n",
              "          google.colab.kernel.accessAllowed ? 'block' : 'none';\n",
              "\n",
              "        async function convertToInteractive(key) {\n",
              "          const element = document.querySelector('#df-3fc626c5-7718-413a-84a4-4f8df057ec3a');\n",
              "          const dataTable =\n",
              "            await google.colab.kernel.invokeFunction('convertToInteractive',\n",
              "                                                     [key], {});\n",
              "          if (!dataTable) return;\n",
              "\n",
              "          const docLinkHtml = 'Like what you see? Visit the ' +\n",
              "            '<a target=\"_blank\" href=https://colab.research.google.com/notebooks/data_table.ipynb>data table notebook</a>'\n",
              "            + ' to learn more about interactive tables.';\n",
              "          element.innerHTML = '';\n",
              "          dataTable['output_type'] = 'display_data';\n",
              "          await google.colab.output.renderOutput(dataTable, element);\n",
              "          const docLink = document.createElement('div');\n",
              "          docLink.innerHTML = docLinkHtml;\n",
              "          element.appendChild(docLink);\n",
              "        }\n",
              "      </script>\n",
              "    </div>\n",
              "  </div>\n",
              "  "
            ]
          },
          "metadata": {},
          "execution_count": 19
        }
      ]
    },
    {
      "cell_type": "code",
      "source": [
        "df_agency_by_gender.plot(kind='bar', title='Normalized Agency By Gender')\n",
        "\n",
        "#women have slightly less positive agency? but barely when by verbs"
      ],
      "metadata": {
        "colab": {
          "base_uri": "https://localhost:8080/",
          "height": 350
        },
        "id": "yMqDwmkRY_3V",
        "outputId": "f6c76ffe-2af7-4eae-8367-1e449f99cdd0"
      },
      "execution_count": null,
      "outputs": [
        {
          "output_type": "execute_result",
          "data": {
            "text/plain": [
              "<matplotlib.axes._subplots.AxesSubplot at 0x7f1e71e2f0d0>"
            ]
          },
          "metadata": {},
          "execution_count": 20
        },
        {
          "output_type": "display_data",
          "data": {
            "text/plain": [
              "<Figure size 432x288 with 1 Axes>"
            ],
            "image/png": "[encoded data removed]"
          },
          "metadata": {
            "needs_background": "light"
          }
        }
      ]
    },
    {
      "cell_type": "code",
      "source": [
        "#repeat everything for character and then also for Taming as well, form the sentences etc, everthing I did on Jan 20\n",
        "\n",
        "#taming of the shrew\n",
        "#speaker for normalization\n",
        "#by character\n",
        "\n",
        "#intransitive verbs prob picked up by spacy for transitive vs intransitive verbs\n",
        "\n",
        "#spacy hierarchy of tags, doing action vs recieving action?\n",
        "\n",
        "#he as doing action, him as recieving action\n",
        "\n",
        "#co ref resolution for drama\n",
        "#find paper/code associated w/ it \n",
        "\n",
        "#plan the honors thesis, email everyone on the committee\n",
        "\n",
        "#deadline for the draft is later? but final draft in feburary? \n",
        "\n",
        "#friday march 17, deadline for circulating to advisors, friday march 24 circ, april 3rd around defense\n",
        "#feburary first draft about 6 weeks to write, \n",
        "#carefully describing the process, charts to show process steps/methodology \n",
        "\n",
        "#every 2-3 weeks, check-in with \n",
        "#mon tues wed some fri etc\n",
        "\n",
        "#descriptopm of process at least 20 pages etc, best way to structure"
      ],
      "metadata": {
        "id": "q6eOcBR8Zzuv"
      },
      "execution_count": null,
      "outputs": []
    },
    {
      "cell_type": "code",
      "source": [
        "#by character\n",
        "#slice dialouge dataframe by character pt 2\n",
        "bianca_filter = df_taming['speaker'] == 'Bianca'\n",
        "bianca_slice = df_taming[bianca_filter]\n",
        "\n",
        "petruchio_filter = df_taming['speaker'] == 'Petruchio'\n",
        "petruchio_slice = df_taming[petruchio_filter]\n",
        "\n",
        "maria_filter = df_taming['speaker'] == 'Maria'\n",
        "maria_slice = df_taming[maria_filter]\n",
        "\n",
        "livia_filter = df_taming['speaker'] == 'Livia'\n",
        "livia_slice = df_taming[livia_filter]\n",
        "\n",
        "rowland_filter = df_taming['speaker'] == 'Rowland'\n",
        "rowland_slice = df_taming[rowland_filter]\n",
        "\n",
        "moroso_filter = df_taming['speaker'] == 'Moroso'\n",
        "moroso_slice = df_taming[moroso_filter]\n",
        "\n",
        "tranio_filter = df_taming['speaker'] == 'Tranio'\n",
        "tranio_slice = df_taming[tranio_filter]\n",
        "\n",
        "sophocles_filter = df_taming['speaker'] == 'Sophocles'\n",
        "sophocles_slice = df_taming[sophocles_filter]\n",
        "\n",
        "jaques_filter = df_taming['speaker'] == 'Jaques'\n",
        "jaques_slice = df_taming[jaques_filter]\n",
        "\n",
        "petronius_filter = df_taming['speaker'] == 'Petronius'\n",
        "petronius_slice = df_taming[petronius_filter]\n",
        "\n",
        "pedro_filter = df_taming['speaker'] == 'Pedro'\n",
        "pedro_slice = df_taming[pedro_filter]\n"
      ],
      "metadata": {
        "id": "KKdbfsktjPbE"
      },
      "execution_count": null,
      "outputs": []
    },
    {
      "cell_type": "code",
      "source": [
        "import gdown\n",
        "\n",
        "gdown.download('https://drive.google.com/uc?export=download&id=1WPmuJjBS8-Tz-05Kkk85qFuj7AEk5bMr', quiet=False) \n",
        "\n",
        "df_speaker_word_counts = pd.read_json('df2_speaker_line_word_verb_sentence_counts.json', orient ='split', compression = 'infer')\n",
        "\n",
        "df_speaker_word_counts"
      ],
      "metadata": {
        "colab": {
          "base_uri": "https://localhost:8080/",
          "height": 465
        },
        "id": "BHifOn5dn5Lh",
        "outputId": "ecde25bf-6a37-4cad-b01d-b0c14dde8dc7"
      },
      "execution_count": null,
      "outputs": [
        {
          "output_type": "stream",
          "name": "stderr",
          "text": [
            "Downloading...\n",
            "From: https://drive.google.com/uc?export=download&id=1WPmuJjBS8-Tz-05Kkk85qFuj7AEk5bMr\n",
            "To: /content/df2_speaker_line_word_verb_sentence_counts.json\n",
            "100%|██████████| 482/482 [00:00<00:00, 738kB/s]\n"
          ]
        },
        {
          "output_type": "execute_result",
          "data": {
            "text/plain": [
              "           line_count  word_count  verb_count  sentence_count\n",
              "Bianca            117        2028         315             117\n",
              "Petruchio         187        4787         725             725\n",
              "Maria             151        4233         656             151\n",
              "Livia             102        1711         263             102\n",
              "Rowland           155        2145         332             155\n",
              "Moroso             72         999         136              73\n",
              "Tranio            112        1006         159             112\n",
              "Sophocles         104        1236         214             104\n",
              "Jaques             76        1737         241              76\n",
              "Petronius         124        1572         263             125\n",
              "Pedro              49         598          86              49"
            ],
            "text/html": [
              "\n",
              "  <div id=\"df-d4adf79c-7f18-42b6-a15e-dce9d1daf625\">\n",
              "    <div class=\"colab-df-container\">\n",
              "      <div>\n",
              "<style scoped>\n",
              "    .dataframe tbody tr th:only-of-type {\n",
              "        vertical-align: middle;\n",
              "    }\n",
              "\n",
              "    .dataframe tbody tr th {\n",
              "        vertical-align: top;\n",
              "    }\n",
              "\n",
              "    .dataframe thead th {\n",
              "        text-align: right;\n",
              "    }\n",
              "</style>\n",
              "<table border=\"1\" class=\"dataframe\">\n",
              "  <thead>\n",
              "    <tr style=\"text-align: right;\">\n",
              "      <th></th>\n",
              "      <th>line_count</th>\n",
              "      <th>word_count</th>\n",
              "      <th>verb_count</th>\n",
              "      <th>sentence_count</th>\n",
              "    </tr>\n",
              "  </thead>\n",
              "  <tbody>\n",
              "    <tr>\n",
              "      <th>Bianca</th>\n",
              "      <td>117</td>\n",
              "      <td>2028</td>\n",
              "      <td>315</td>\n",
              "      <td>117</td>\n",
              "    </tr>\n",
              "    <tr>\n",
              "      <th>Petruchio</th>\n",
              "      <td>187</td>\n",
              "      <td>4787</td>\n",
              "      <td>725</td>\n",
              "      <td>725</td>\n",
              "    </tr>\n",
              "    <tr>\n",
              "      <th>Maria</th>\n",
              "      <td>151</td>\n",
              "      <td>4233</td>\n",
              "      <td>656</td>\n",
              "      <td>151</td>\n",
              "    </tr>\n",
              "    <tr>\n",
              "      <th>Livia</th>\n",
              "      <td>102</td>\n",
              "      <td>1711</td>\n",
              "      <td>263</td>\n",
              "      <td>102</td>\n",
              "    </tr>\n",
              "    <tr>\n",
              "      <th>Rowland</th>\n",
              "      <td>155</td>\n",
              "      <td>2145</td>\n",
              "      <td>332</td>\n",
              "      <td>155</td>\n",
              "    </tr>\n",
              "    <tr>\n",
              "      <th>Moroso</th>\n",
              "      <td>72</td>\n",
              "      <td>999</td>\n",
              "      <td>136</td>\n",
              "      <td>73</td>\n",
              "    </tr>\n",
              "    <tr>\n",
              "      <th>Tranio</th>\n",
              "      <td>112</td>\n",
              "      <td>1006</td>\n",
              "      <td>159</td>\n",
              "      <td>112</td>\n",
              "    </tr>\n",
              "    <tr>\n",
              "      <th>Sophocles</th>\n",
              "      <td>104</td>\n",
              "      <td>1236</td>\n",
              "      <td>214</td>\n",
              "      <td>104</td>\n",
              "    </tr>\n",
              "    <tr>\n",
              "      <th>Jaques</th>\n",
              "      <td>76</td>\n",
              "      <td>1737</td>\n",
              "      <td>241</td>\n",
              "      <td>76</td>\n",
              "    </tr>\n",
              "    <tr>\n",
              "      <th>Petronius</th>\n",
              "      <td>124</td>\n",
              "      <td>1572</td>\n",
              "      <td>263</td>\n",
              "      <td>125</td>\n",
              "    </tr>\n",
              "    <tr>\n",
              "      <th>Pedro</th>\n",
              "      <td>49</td>\n",
              "      <td>598</td>\n",
              "      <td>86</td>\n",
              "      <td>49</td>\n",
              "    </tr>\n",
              "  </tbody>\n",
              "</table>\n",
              "</div>\n",
              "      <button class=\"colab-df-convert\" onclick=\"convertToInteractive('df-d4adf79c-7f18-42b6-a15e-dce9d1daf625')\"\n",
              "              title=\"Convert this dataframe to an interactive table.\"\n",
              "              style=\"display:none;\">\n",
              "        \n",
              "  <svg xmlns=\"http://www.w3.org/2000/svg\" height=\"24px\"viewBox=\"0 0 24 24\"\n",
              "       width=\"24px\">\n",
              "    <path d=\"M0 0h24v24H0V0z\" fill=\"none\"/>\n",
              "    <path d=\"M18.56 5.44l.94 2.06.94-2.06 2.06-.94-2.06-.94-.94-2.06-.94 2.06-2.06.94zm-11 1L8.5 8.5l.94-2.06 2.06-.94-2.06-.94L8.5 2.5l-.94 2.06-2.06.94zm10 10l.94 2.06.94-2.06 2.06-.94-2.06-.94-.94-2.06-.94 2.06-2.06.94z\"/><path d=\"M17.41 7.96l-1.37-1.37c-.4-.4-.92-.59-1.43-.59-.52 0-1.04.2-1.43.59L10.3 9.45l-7.72 7.72c-.78.78-.78 2.05 0 2.83L4 21.41c.39.39.9.59 1.41.59.51 0 1.02-.2 1.41-.59l7.78-7.78 2.81-2.81c.8-.78.8-2.07 0-2.86zM5.41 20L4 18.59l7.72-7.72 1.47 1.35L5.41 20z\"/>\n",
              "  </svg>\n",
              "      </button>\n",
              "      \n",
              "  <style>\n",
              "    .colab-df-container {\n",
              "      display:flex;\n",
              "      flex-wrap:wrap;\n",
              "      gap: 12px;\n",
              "    }\n",
              "\n",
              "    .colab-df-convert {\n",
              "      background-color: #E8F0FE;\n",
              "      border: none;\n",
              "      border-radius: 50%;\n",
              "      cursor: pointer;\n",
              "      display: none;\n",
              "      fill: #1967D2;\n",
              "      height: 32px;\n",
              "      padding: 0 0 0 0;\n",
              "      width: 32px;\n",
              "    }\n",
              "\n",
              "    .colab-df-convert:hover {\n",
              "      background-color: #E2EBFA;\n",
              "      box-shadow: 0px 1px 2px rgba(60, 64, 67, 0.3), 0px 1px 3px 1px rgba(60, 64, 67, 0.15);\n",
              "      fill: #174EA6;\n",
              "    }\n",
              "\n",
              "    [theme=dark] .colab-df-convert {\n",
              "      background-color: #3B4455;\n",
              "      fill: #D2E3FC;\n",
              "    }\n",
              "\n",
              "    [theme=dark] .colab-df-convert:hover {\n",
              "      background-color: #434B5C;\n",
              "      box-shadow: 0px 1px 3px 1px rgba(0, 0, 0, 0.15);\n",
              "      filter: drop-shadow(0px 1px 2px rgba(0, 0, 0, 0.3));\n",
              "      fill: #FFFFFF;\n",
              "    }\n",
              "  </style>\n",
              "\n",
              "      <script>\n",
              "        const buttonEl =\n",
              "          document.querySelector('#df-d4adf79c-7f18-42b6-a15e-dce9d1daf625 button.colab-df-convert');\n",
              "        buttonEl.style.display =\n",
              "          google.colab.kernel.accessAllowed ? 'block' : 'none';\n",
              "\n",
              "        async function convertToInteractive(key) {\n",
              "          const element = document.querySelector('#df-d4adf79c-7f18-42b6-a15e-dce9d1daf625');\n",
              "          const dataTable =\n",
              "            await google.colab.kernel.invokeFunction('convertToInteractive',\n",
              "                                                     [key], {});\n",
              "          if (!dataTable) return;\n",
              "\n",
              "          const docLinkHtml = 'Like what you see? Visit the ' +\n",
              "            '<a target=\"_blank\" href=https://colab.research.google.com/notebooks/data_table.ipynb>data table notebook</a>'\n",
              "            + ' to learn more about interactive tables.';\n",
              "          element.innerHTML = '';\n",
              "          dataTable['output_type'] = 'display_data';\n",
              "          await google.colab.output.renderOutput(dataTable, element);\n",
              "          const docLink = document.createElement('div');\n",
              "          docLink.innerHTML = docLinkHtml;\n",
              "          element.appendChild(docLink);\n",
              "        }\n",
              "      </script>\n",
              "    </div>\n",
              "  </div>\n",
              "  "
            ]
          },
          "metadata": {},
          "execution_count": 6
        }
      ]
    },
    {
      "cell_type": "code",
      "source": [
        "\n",
        "#slice verb count by character\n",
        "Bianca_verb_count = df_speaker_word_counts['verb_count']['Bianca']\n",
        "Petruchio_verb_count = df_speaker_word_counts['verb_count']['Petruchio']\n",
        "Maria_verb_count = df_speaker_word_counts['verb_count']['Maria']\n",
        "Livia_verb_count = df_speaker_word_counts['verb_count']['Livia']\n",
        "Rowland_verb_count = df_speaker_word_counts['verb_count']['Rowland']\n",
        "Moroso_verb_count = df_speaker_word_counts['verb_count']['Moroso']\n",
        "Tranio_verb_count = df_speaker_word_counts['verb_count']['Tranio']\n",
        "Sophocles_verb_count = df_speaker_word_counts['verb_count']['Sophocles']\n",
        "Jaques_verb_count = df_speaker_word_counts['verb_count']['Jaques']\n",
        "Petronius_verb_count = df_speaker_word_counts['verb_count']['Petronius']\n",
        "Pedro_verb_count = df_speaker_word_counts['verb_count']['Pedro']"
      ],
      "metadata": {
        "id": "TOoDdTKdnxmW"
      },
      "execution_count": null,
      "outputs": []
    },
    {
      "cell_type": "code",
      "source": [
        "bianca_slice_by_act = bianca_slice.groupby('act')\n",
        "petruchio_slice_by_act = petruchio_slice.groupby('act')\n",
        "maria_slice_by_act = maria_slice.groupby('act')\n",
        "livia_slice_by_act = livia_slice.groupby('act')\n",
        "rowland_slice_by_act = rowland_slice.groupby('act')\n",
        "moroso_slice_by_act = moroso_slice.groupby('act')\n",
        "tranio_slice_by_act = tranio_slice.groupby('act')\n",
        "sophocles_slice_by_act = sophocles_slice.groupby('act')\n",
        "jaques_slice_by_act = jaques_slice.groupby('act')\n",
        "petronius_slice_by_act = petronius_slice.groupby('act')\n",
        "pedro_slice_by_act = pedro_slice.groupby('act')\n",
        "\n",
        "\n",
        "\n",
        "bianca_power_agent_per_verb = bianca_slice_by_act['power_agent'].sum()/Bianca_verb_count\n",
        "\n",
        "bianca_power_theme_per_verb = bianca_slice_by_act['power_theme'].sum()/Bianca_verb_count\n",
        "\n",
        "bianca_power_equal_per_verb = bianca_slice_by_act['power_equal'].sum()/Bianca_verb_count\n",
        "\n",
        "bianca_agency_pos_per_verb = bianca_slice_by_act['agency_pos'].sum()/Bianca_verb_count\n",
        "\n",
        "bianca_agency_neg_per_verb = bianca_slice_by_act['agency_neg'].sum()/Bianca_verb_count\n",
        "\n",
        "bianca_agency_equal_per_verb = bianca_slice_by_act['agency_equal'].sum()/Bianca_verb_count\n",
        "\n",
        "\n",
        "\n",
        "petruchio_power_agent_per_verb = petruchio_slice_by_act['power_agent'].sum()/Petruchio_verb_count\n",
        "\n",
        "petruchio_power_theme_per_verb = petruchio_slice_by_act['power_theme'].sum()/Petruchio_verb_count\n",
        "\n",
        "petruchio_power_equal_per_verb = petruchio_slice_by_act['power_equal'].sum()/Petruchio_verb_count\n",
        "\n",
        "petruchio_agency_pos_per_verb = petruchio_slice_by_act['agency_pos'].sum()/Petruchio_verb_count\n",
        "\n",
        "petruchio_agency_neg_per_verb = petruchio_slice_by_act['agency_neg'].sum()/Petruchio_verb_count\n",
        "\n",
        "petruchio_agency_equal_per_verb = petruchio_slice_by_act['agency_equal'].sum()/Petruchio_verb_count\n",
        "\n",
        "\n",
        "\n",
        "\n",
        "\n",
        "maria_power_agent_per_verb = maria_slice_by_act['power_agent'].sum()/Maria_verb_count\n",
        "\n",
        "maria_power_theme_per_verb = maria_slice_by_act['power_theme'].sum()/Maria_verb_count\n",
        "\n",
        "maria_power_equal_per_verb = maria_slice_by_act['power_equal'].sum()/Maria_verb_count\n",
        "\n",
        "maria_agency_pos_per_verb = maria_slice_by_act['agency_pos'].sum()/Maria_verb_count\n",
        "\n",
        "maria_agency_neg_per_verb = maria_slice_by_act['agency_neg'].sum()/Maria_verb_count\n",
        "\n",
        "maria_agency_equal_per_verb = maria_slice_by_act['agency_equal'].sum()/Maria_verb_count\n",
        "\n",
        "\n",
        "livia_power_agent_per_verb = livia_slice_by_act['power_agent'].sum()/Livia_verb_count\n",
        "\n",
        "livia_power_theme_per_verb = livia_slice_by_act['power_theme'].sum()/Livia_verb_count\n",
        "\n",
        "livia_power_equal_per_verb = livia_slice_by_act['power_equal'].sum()/Livia_verb_count\n",
        "\n",
        "livia_agency_pos_per_verb = livia_slice_by_act['agency_pos'].sum()/Livia_verb_count\n",
        "\n",
        "livia_agency_neg_per_verb = livia_slice_by_act['agency_neg'].sum()/Livia_verb_count\n",
        "\n",
        "livia_agency_equal_per_verb = livia_slice_by_act['agency_equal'].sum()/Livia_verb_count\n",
        "\n",
        "\n",
        "rowland_power_agent_per_verb = rowland_slice_by_act['power_agent'].sum()/Rowland_verb_count\n",
        "\n",
        "rowland_power_theme_per_verb = rowland_slice_by_act['power_theme'].sum()/Rowland_verb_count\n",
        "\n",
        "rowland_power_equal_per_verb = rowland_slice_by_act['power_equal'].sum()/Rowland_verb_count\n",
        "\n",
        "rowland_agency_pos_per_verb = rowland_slice_by_act['agency_pos'].sum()/Rowland_verb_count\n",
        "\n",
        "rowland_agency_neg_per_verb = rowland_slice_by_act['agency_neg'].sum()/Rowland_verb_count\n",
        "\n",
        "rowland_agency_equal_per_verb = rowland_slice_by_act['agency_equal'].sum()/Rowland_verb_count\n",
        "\n",
        "\n",
        "\n",
        "moroso_power_agent_per_verb = moroso_slice_by_act['power_agent'].sum()/Moroso_verb_count\n",
        "\n",
        "moroso_power_theme_per_verb = moroso_slice_by_act['power_theme'].sum()/Moroso_verb_count\n",
        "\n",
        "moroso_power_equal_per_verb = moroso_slice_by_act['power_equal'].sum()/Moroso_verb_count\n",
        "\n",
        "moroso_agency_pos_per_verb = moroso_slice_by_act['agency_pos'].sum()/Moroso_verb_count\n",
        "\n",
        "moroso_agency_neg_per_verb = moroso_slice_by_act['agency_neg'].sum()/Moroso_verb_count\n",
        "\n",
        "moroso_agency_equal_per_verb = moroso_slice_by_act['agency_equal'].sum()/Moroso_verb_count\n",
        "\n",
        "\n",
        "tranio_power_agent_per_verb = moroso_slice_by_act['power_agent'].sum()/Tranio_verb_count\n",
        "\n",
        "tranio_power_theme_per_verb = moroso_slice_by_act['power_theme'].sum()/Tranio_verb_count\n",
        "\n",
        "tranio_power_equal_per_verb = moroso_slice_by_act['power_equal'].sum()/Tranio_verb_count\n",
        "\n",
        "tranio_agency_pos_per_verb = moroso_slice_by_act['agency_pos'].sum()/Tranio_verb_count\n",
        "\n",
        "tranio_agency_neg_per_verb = moroso_slice_by_act['agency_neg'].sum()/Tranio_verb_count\n",
        "\n",
        "tranio_agency_equal_per_verb = moroso_slice_by_act['agency_equal'].sum()/Tranio_verb_count\n",
        "\n",
        "\n",
        "sophocles_power_agent_per_verb = sophocles_slice_by_act['power_agent'].sum()/Sophocles_verb_count\n",
        "\n",
        "sophocles_power_theme_per_verb = sophocles_slice_by_act['power_theme'].sum()/Sophocles_verb_count\n",
        "\n",
        "sophocles_power_equal_per_verb = sophocles_slice_by_act['power_equal'].sum()/Sophocles_verb_count\n",
        "\n",
        "sophocles_agency_pos_per_verb = sophocles_slice_by_act['agency_pos'].sum()/Sophocles_verb_count\n",
        "\n",
        "sophocles_agency_neg_per_verb = sophocles_slice_by_act['agency_neg'].sum()/Sophocles_verb_count\n",
        "\n",
        "sophocles_agency_equal_per_verb = sophocles_slice_by_act['agency_equal'].sum()/Sophocles_verb_count\n",
        "\n",
        "\n",
        "jaques_power_agent_per_verb = jaques_slice_by_act['power_agent'].sum()/Jaques_verb_count\n",
        "\n",
        "jaques_power_theme_per_verb = jaques_slice_by_act['power_theme'].sum()/Jaques_verb_count\n",
        "\n",
        "jaques_power_equal_per_verb = jaques_slice_by_act['power_equal'].sum()/Jaques_verb_count\n",
        "\n",
        "jaques_agency_pos_per_verb = jaques_slice_by_act['agency_pos'].sum()/Jaques_verb_count\n",
        "\n",
        "jaques_agency_neg_per_verb = jaques_slice_by_act['agency_neg'].sum()/Jaques_verb_count\n",
        "\n",
        "jaques_agency_equal_per_verb = jaques_slice_by_act['agency_equal'].sum()/Jaques_verb_count\n",
        "\n",
        "\n",
        "petronius_power_agent_per_verb = petronius_slice_by_act['power_agent'].sum()/Petronius_verb_count\n",
        "\n",
        "petronius_power_theme_per_verb = petronius_slice_by_act['power_theme'].sum()/Petronius_verb_count\n",
        "\n",
        "petronius_power_equal_per_verb = petronius_slice_by_act['power_equal'].sum()/Petronius_verb_count\n",
        "\n",
        "petronius_agency_pos_per_verb = petronius_slice_by_act['agency_pos'].sum()/Petronius_verb_count\n",
        "\n",
        "petronius_agency_neg_per_verb = petronius_slice_by_act['agency_neg'].sum()/Petronius_verb_count\n",
        "\n",
        "petronius_agency_equal_per_verb = petronius_slice_by_act['agency_equal'].sum()/Petronius_verb_count\n",
        "\n",
        "\n",
        "pedro_power_agent_per_verb = pedro_slice_by_act['power_agent'].sum()/Pedro_verb_count\n",
        "\n",
        "pedro_power_theme_per_verb = pedro_slice_by_act['power_theme'].sum()/Pedro_verb_count\n",
        "\n",
        "pedro_power_equal_per_verb = pedro_slice_by_act['power_equal'].sum()/Pedro_verb_count\n",
        "\n",
        "pedro_agency_pos_per_verb = pedro_slice_by_act['agency_pos'].sum()/Pedro_verb_count\n",
        "\n",
        "pedro_agency_neg_per_verb = pedro_slice_by_act['agency_neg'].sum()/Pedro_verb_count\n",
        "\n",
        "pedro_agency_equal_per_verb = pedro_slice_by_act['agency_equal'].sum()/Pedro_verb_count\n",
        "\n",
        "\n",
        "\n",
        "\n",
        "\n",
        "\n",
        "\n",
        "\n",
        "\n"
      ],
      "metadata": {
        "id": "OF4ssYHtplRo"
      },
      "execution_count": null,
      "outputs": []
    },
    {
      "cell_type": "code",
      "source": [
        "#slice dialouge dataframe by character\n",
        "\n",
        "bianca_power_agent_per_verb = bianca_slice_by_act['power_agent'].sum()/Bianca_verb_count\n",
        "\n",
        "bianca_power_theme_per_verb = bianca_slice_by_act['power_theme'].sum()/Bianca_verb_count\n",
        "\n",
        "bianca_power_equal_per_verb = bianca_slice_by_act['power_equal'].sum()/Bianca_verb_count\n",
        "\n",
        "bianca_agency_pos_per_verb = bianca_slice_by_act['agency_pos'].sum()/Bianca_verb_count\n",
        "\n",
        "bianca_agency_neg_per_verb = bianca_slice_by_act['agency_neg'].sum()/Bianca_verb_count\n",
        "\n",
        "bianca_agency_equal_per_verb = bianca_slice_by_act['agency_equal'].sum()/Bianca_verb_count\n",
        "\n"
      ],
      "metadata": {
        "id": "H0A-3hiivrX0"
      },
      "execution_count": null,
      "outputs": []
    },
    {
      "cell_type": "code",
      "source": [
        "petruchio_power_agent_per_verb\n",
        "\n",
        "#per sentence\n",
        "\n",
        "data = [[bianca_power_agent_per_verb,petruchio_power_agent_per_verb, maria_power_agent_per_verb, livia_power_agent_per_verb, rowland_power_agent_per_verb, moroso_power_agent_per_verb, tranio_power_agent_per_verb, sophocles_power_agent_per_verb, jaques_power_agent_per_verb, petronius_power_agent_per_verb, pedro_power_agent_per_verb], [bianca_power_theme_per_verb, petruchio_power_theme_per_verb, maria_power_theme_per_verb, livia_power_theme_per_verb, rowland_power_theme_per_verb, moroso_power_theme_per_verb, tranio_power_theme_per_verb, sophocles_power_theme_per_verb, jaques_power_theme_per_verb, petronius_power_theme_per_verb, pedro_power_theme_per_verb]]\n",
        "        \n",
        "# Create the pandas DataFrame\n",
        "df_per_verb_by_speaker = pd.DataFrame(data, columns=['bianca', 'petruchio','maria','livia', 'rowland','moroso','tranio','sophocles','jaques','petronius', 'pedro'], index=['power_theme','power_agent'])\n",
        "  \n",
        "# print dataframe.\n",
        "df_per_verb_by_speaker\n"
      ],
      "metadata": {
        "colab": {
          "base_uri": "https://localhost:8080/",
          "height": 295
        },
        "id": "iA22VGMvtekT",
        "outputId": "cbafce6a-6697-44ec-9c37-ed798c203e42"
      },
      "execution_count": null,
      "outputs": [
        {
          "output_type": "execute_result",
          "data": {
            "text/plain": [
              "                                                        bianca  \\\n",
              "power_theme  act\n",
              "1    0.136508\n",
              "2    0.161905\n",
              "3    0.069841\n",
              "...   \n",
              "power_agent  act\n",
              "1    0.136508\n",
              "2    0.349206\n",
              "3    0.009524\n",
              "...   \n",
              "\n",
              "                                                     petruchio  \\\n",
              "power_theme  act\n",
              "1    0.162759\n",
              "2    0.113103\n",
              "3    0.230345\n",
              "...   \n",
              "power_agent  act\n",
              "1    0.133793\n",
              "2    0.161379\n",
              "3    0.500690\n",
              "...   \n",
              "\n",
              "                                                         maria  \\\n",
              "power_theme  act\n",
              "1    0.251524\n",
              "2    0.062500\n",
              "3    0.137195\n",
              "...   \n",
              "power_agent  act\n",
              "1    0.230183\n",
              "2    0.088415\n",
              "3    0.067073\n",
              "...   \n",
              "\n",
              "                                                         livia  \\\n",
              "power_theme  act\n",
              "1    0.425856\n",
              "2    0.129278\n",
              "3    0.022814\n",
              "...   \n",
              "power_agent  act\n",
              "1    0.326996\n",
              "2    0.152091\n",
              "3    0.000000\n",
              "...   \n",
              "\n",
              "                                                       rowland  \\\n",
              "power_theme  act\n",
              "1    0.096386\n",
              "2    0.108434\n",
              "3    0.268072\n",
              "...   \n",
              "power_agent  act\n",
              "1    0.042169\n",
              "2    0.048193\n",
              "3    0.310241\n",
              "...   \n",
              "\n",
              "                                                        moroso  \\\n",
              "power_theme  act\n",
              "1    0.235294\n",
              "2    0.213235\n",
              "4    0.257353\n",
              "...   \n",
              "power_agent  act\n",
              "1    0.161765\n",
              "2    0.036765\n",
              "4    0.058824\n",
              "...   \n",
              "\n",
              "                                                        tranio  \\\n",
              "power_theme  act\n",
              "1    0.201258\n",
              "2    0.182390\n",
              "4    0.220126\n",
              "...   \n",
              "power_agent  act\n",
              "1    0.138365\n",
              "2    0.031447\n",
              "4    0.050314\n",
              "...   \n",
              "\n",
              "                                                     sophocles  \\\n",
              "power_theme  act\n",
              "1    0.172897\n",
              "2    0.107477\n",
              "3    0.037383\n",
              "...   \n",
              "power_agent  act\n",
              "1    0.196262\n",
              "2    0.079439\n",
              "3    0.112150\n",
              "...   \n",
              "\n",
              "                                                        jaques  \\\n",
              "power_theme  act\n",
              "1    0.340249\n",
              "2    0.124481\n",
              "3    0.174274\n",
              "...   \n",
              "power_agent  act\n",
              "1    0.850622\n",
              "2    0.078838\n",
              "3    0.107884\n",
              "...   \n",
              "\n",
              "                                                     petronius  \\\n",
              "power_theme  act\n",
              "1    0.087452\n",
              "2    0.152091\n",
              "3    0.019011\n",
              "...   \n",
              "power_agent  act\n",
              "1    0.000000\n",
              "2    0.114068\n",
              "3    0.053232\n",
              "...   \n",
              "\n",
              "                                                         pedro  \n",
              "power_theme  act\n",
              "1    0.069767\n",
              "2    0.127907\n",
              "3    0.139535\n",
              "...  \n",
              "power_agent  act\n",
              "1    0.011628\n",
              "2    0.279070\n",
              "3    0.034884\n",
              "...  "
            ],
            "text/html": [
              "\n",
              "  <div id=\"df-b743b7d3-a47f-4389-8fb4-1b127027184e\">\n",
              "    <div class=\"colab-df-container\">\n",
              "      <div>\n",
              "<style scoped>\n",
              "    .dataframe tbody tr th:only-of-type {\n",
              "        vertical-align: middle;\n",
              "    }\n",
              "\n",
              "    .dataframe tbody tr th {\n",
              "        vertical-align: top;\n",
              "    }\n",
              "\n",
              "    .dataframe thead th {\n",
              "        text-align: right;\n",
              "    }\n",
              "</style>\n",
              "<table border=\"1\" class=\"dataframe\">\n",
              "  <thead>\n",
              "    <tr style=\"text-align: right;\">\n",
              "      <th></th>\n",
              "      <th>bianca</th>\n",
              "      <th>petruchio</th>\n",
              "      <th>maria</th>\n",
              "      <th>livia</th>\n",
              "      <th>rowland</th>\n",
              "      <th>moroso</th>\n",
              "      <th>tranio</th>\n",
              "      <th>sophocles</th>\n",
              "      <th>jaques</th>\n",
              "      <th>petronius</th>\n",
              "      <th>pedro</th>\n",
              "    </tr>\n",
              "  </thead>\n",
              "  <tbody>\n",
              "    <tr>\n",
              "      <th>power_theme</th>\n",
              "      <td>act\n",
              "1    0.136508\n",
              "2    0.161905\n",
              "3    0.069841\n",
              "...</td>\n",
              "      <td>act\n",
              "1    0.162759\n",
              "2    0.113103\n",
              "3    0.230345\n",
              "...</td>\n",
              "      <td>act\n",
              "1    0.251524\n",
              "2    0.062500\n",
              "3    0.137195\n",
              "...</td>\n",
              "      <td>act\n",
              "1    0.425856\n",
              "2    0.129278\n",
              "3    0.022814\n",
              "...</td>\n",
              "      <td>act\n",
              "1    0.096386\n",
              "2    0.108434\n",
              "3    0.268072\n",
              "...</td>\n",
              "      <td>act\n",
              "1    0.235294\n",
              "2    0.213235\n",
              "4    0.257353\n",
              "...</td>\n",
              "      <td>act\n",
              "1    0.201258\n",
              "2    0.182390\n",
              "4    0.220126\n",
              "...</td>\n",
              "      <td>act\n",
              "1    0.172897\n",
              "2    0.107477\n",
              "3    0.037383\n",
              "...</td>\n",
              "      <td>act\n",
              "1    0.340249\n",
              "2    0.124481\n",
              "3    0.174274\n",
              "...</td>\n",
              "      <td>act\n",
              "1    0.087452\n",
              "2    0.152091\n",
              "3    0.019011\n",
              "...</td>\n",
              "      <td>act\n",
              "1    0.069767\n",
              "2    0.127907\n",
              "3    0.139535\n",
              "...</td>\n",
              "    </tr>\n",
              "    <tr>\n",
              "      <th>power_agent</th>\n",
              "      <td>act\n",
              "1    0.136508\n",
              "2    0.349206\n",
              "3    0.009524\n",
              "...</td>\n",
              "      <td>act\n",
              "1    0.133793\n",
              "2    0.161379\n",
              "3    0.500690\n",
              "...</td>\n",
              "      <td>act\n",
              "1    0.230183\n",
              "2    0.088415\n",
              "3    0.067073\n",
              "...</td>\n",
              "      <td>act\n",
              "1    0.326996\n",
              "2    0.152091\n",
              "3    0.000000\n",
              "...</td>\n",
              "      <td>act\n",
              "1    0.042169\n",
              "2    0.048193\n",
              "3    0.310241\n",
              "...</td>\n",
              "      <td>act\n",
              "1    0.161765\n",
              "2    0.036765\n",
              "4    0.058824\n",
              "...</td>\n",
              "      <td>act\n",
              "1    0.138365\n",
              "2    0.031447\n",
              "4    0.050314\n",
              "...</td>\n",
              "      <td>act\n",
              "1    0.196262\n",
              "2    0.079439\n",
              "3    0.112150\n",
              "...</td>\n",
              "      <td>act\n",
              "1    0.850622\n",
              "2    0.078838\n",
              "3    0.107884\n",
              "...</td>\n",
              "      <td>act\n",
              "1    0.000000\n",
              "2    0.114068\n",
              "3    0.053232\n",
              "...</td>\n",
              "      <td>act\n",
              "1    0.011628\n",
              "2    0.279070\n",
              "3    0.034884\n",
              "...</td>\n",
              "    </tr>\n",
              "  </tbody>\n",
              "</table>\n",
              "</div>\n",
              "      <button class=\"colab-df-convert\" onclick=\"convertToInteractive('df-b743b7d3-a47f-4389-8fb4-1b127027184e')\"\n",
              "              title=\"Convert this dataframe to an interactive table.\"\n",
              "              style=\"display:none;\">\n",
              "        \n",
              "  <svg xmlns=\"http://www.w3.org/2000/svg\" height=\"24px\"viewBox=\"0 0 24 24\"\n",
              "       width=\"24px\">\n",
              "    <path d=\"M0 0h24v24H0V0z\" fill=\"none\"/>\n",
              "    <path d=\"M18.56 5.44l.94 2.06.94-2.06 2.06-.94-2.06-.94-.94-2.06-.94 2.06-2.06.94zm-11 1L8.5 8.5l.94-2.06 2.06-.94-2.06-.94L8.5 2.5l-.94 2.06-2.06.94zm10 10l.94 2.06.94-2.06 2.06-.94-2.06-.94-.94-2.06-.94 2.06-2.06.94z\"/><path d=\"M17.41 7.96l-1.37-1.37c-.4-.4-.92-.59-1.43-.59-.52 0-1.04.2-1.43.59L10.3 9.45l-7.72 7.72c-.78.78-.78 2.05 0 2.83L4 21.41c.39.39.9.59 1.41.59.51 0 1.02-.2 1.41-.59l7.78-7.78 2.81-2.81c.8-.78.8-2.07 0-2.86zM5.41 20L4 18.59l7.72-7.72 1.47 1.35L5.41 20z\"/>\n",
              "  </svg>\n",
              "      </button>\n",
              "      \n",
              "  <style>\n",
              "    .colab-df-container {\n",
              "      display:flex;\n",
              "      flex-wrap:wrap;\n",
              "      gap: 12px;\n",
              "    }\n",
              "\n",
              "    .colab-df-convert {\n",
              "      background-color: #E8F0FE;\n",
              "      border: none;\n",
              "      border-radius: 50%;\n",
              "      cursor: pointer;\n",
              "      display: none;\n",
              "      fill: #1967D2;\n",
              "      height: 32px;\n",
              "      padding: 0 0 0 0;\n",
              "      width: 32px;\n",
              "    }\n",
              "\n",
              "    .colab-df-convert:hover {\n",
              "      background-color: #E2EBFA;\n",
              "      box-shadow: 0px 1px 2px rgba(60, 64, 67, 0.3), 0px 1px 3px 1px rgba(60, 64, 67, 0.15);\n",
              "      fill: #174EA6;\n",
              "    }\n",
              "\n",
              "    [theme=dark] .colab-df-convert {\n",
              "      background-color: #3B4455;\n",
              "      fill: #D2E3FC;\n",
              "    }\n",
              "\n",
              "    [theme=dark] .colab-df-convert:hover {\n",
              "      background-color: #434B5C;\n",
              "      box-shadow: 0px 1px 3px 1px rgba(0, 0, 0, 0.15);\n",
              "      filter: drop-shadow(0px 1px 2px rgba(0, 0, 0, 0.3));\n",
              "      fill: #FFFFFF;\n",
              "    }\n",
              "  </style>\n",
              "\n",
              "      <script>\n",
              "        const buttonEl =\n",
              "          document.querySelector('#df-b743b7d3-a47f-4389-8fb4-1b127027184e button.colab-df-convert');\n",
              "        buttonEl.style.display =\n",
              "          google.colab.kernel.accessAllowed ? 'block' : 'none';\n",
              "\n",
              "        async function convertToInteractive(key) {\n",
              "          const element = document.querySelector('#df-b743b7d3-a47f-4389-8fb4-1b127027184e');\n",
              "          const dataTable =\n",
              "            await google.colab.kernel.invokeFunction('convertToInteractive',\n",
              "                                                     [key], {});\n",
              "          if (!dataTable) return;\n",
              "\n",
              "          const docLinkHtml = 'Like what you see? Visit the ' +\n",
              "            '<a target=\"_blank\" href=https://colab.research.google.com/notebooks/data_table.ipynb>data table notebook</a>'\n",
              "            + ' to learn more about interactive tables.';\n",
              "          element.innerHTML = '';\n",
              "          dataTable['output_type'] = 'display_data';\n",
              "          await google.colab.output.renderOutput(dataTable, element);\n",
              "          const docLink = document.createElement('div');\n",
              "          docLink.innerHTML = docLinkHtml;\n",
              "          element.appendChild(docLink);\n",
              "        }\n",
              "      </script>\n",
              "    </div>\n",
              "  </div>\n",
              "  "
            ]
          },
          "metadata": {},
          "execution_count": 11
        }
      ]
    },
    {
      "cell_type": "code",
      "source": [
        "\n",
        "df_petruchio_power_theme = petruchio_power_theme_per_verb.to_frame(name=None)\n",
        "df_petruchio_power_agent = petruchio_power_agent_per_verb.to_frame(name=None)\n",
        "df_petruchio_agency_neg = petruchio_agency_neg_per_verb.to_frame(name=None)\n",
        "df_petruchio_agency_pos = petruchio_agency_pos_per_verb.to_frame(name=None)\n",
        "df_petruchio_agency_equal = petruchio_agency_equal_per_verb.to_frame(name=None)\n",
        "df_petruchio_power_equal = petruchio_power_equal_per_verb.to_frame(name=None)\n",
        "\n",
        "df_petruchio = pd.concat([df_petruchio_power_theme, df_petruchio_power_agent, df_petruchio_agency_neg, df_petruchio_agency_pos, df_petruchio_agency_equal, df_petruchio_power_equal], axis=1)\n",
        "\n",
        "df_petruchio.plot(kind='bar', title='Petruchio per Act')\n",
        "\n",
        "#add more characters\n"
      ],
      "metadata": {
        "colab": {
          "base_uri": "https://localhost:8080/",
          "height": 310
        },
        "id": "4vYxhMhqpbXW",
        "outputId": "1c0103c4-168b-4281-cc9c-e82f10240779"
      },
      "execution_count": null,
      "outputs": [
        {
          "output_type": "execute_result",
          "data": {
            "text/plain": [
              "<matplotlib.axes._subplots.AxesSubplot at 0x7f237c559a60>"
            ]
          },
          "metadata": {},
          "execution_count": 13
        },
        {
          "output_type": "display_data",
          "data": {
            "text/plain": [
              "<Figure size 432x288 with 1 Axes>"
            ],
            "image/png": "[encoded data removed]"
          },
          "metadata": {
            "needs_background": "light"
          }
        }
      ]
    },
    {
      "cell_type": "code",
      "source": [
        "df_per_verb_by_speaker.iloc[2:4, :].T.plot(kind='bar', title='Agency By Speaker Per Verb',width=1, edgecolor='white', linewidth=2)\n",
        "\n"
      ],
      "metadata": {
        "colab": {
          "base_uri": "https://localhost:8080/",
          "height": 353
        },
        "id": "dqYr2Drlx1UV",
        "outputId": "c6b3bb17-dc62-453f-f12c-dab794196abc"
      },
      "execution_count": null,
      "outputs": [
        {
          "output_type": "error",
          "ename": "TypeError",
          "evalue": "ignored",
          "traceback": [
            "\u001b[0;31m---------------------------------------------------------------------------\u001b[0m",
            "\u001b[0;31mTypeError\u001b[0m                                 Traceback (most recent call last)",
            "\u001b[0;32m<ipython-input-44-8b689dab8872>\u001b[0m in \u001b[0;36m<module>\u001b[0;34m\u001b[0m\n\u001b[0;32m----> 1\u001b[0;31m \u001b[0mdf_per_verb_by_speaker\u001b[0m\u001b[0;34m.\u001b[0m\u001b[0miloc\u001b[0m\u001b[0;34m[\u001b[0m\u001b[0;36m2\u001b[0m\u001b[0;34m:\u001b[0m\u001b[0;36m4\u001b[0m\u001b[0;34m,\u001b[0m \u001b[0;34m:\u001b[0m\u001b[0;34m]\u001b[0m\u001b[0;34m.\u001b[0m\u001b[0mT\u001b[0m\u001b[0;34m.\u001b[0m\u001b[0mplot\u001b[0m\u001b[0;34m(\u001b[0m\u001b[0mkind\u001b[0m\u001b[0;34m=\u001b[0m\u001b[0;34m'bar'\u001b[0m\u001b[0;34m,\u001b[0m \u001b[0mtitle\u001b[0m\u001b[0;34m=\u001b[0m\u001b[0;34m'Agency By Speaker Per Verb'\u001b[0m\u001b[0;34m,\u001b[0m\u001b[0mwidth\u001b[0m\u001b[0;34m=\u001b[0m\u001b[0;36m1\u001b[0m\u001b[0;34m,\u001b[0m \u001b[0medgecolor\u001b[0m\u001b[0;34m=\u001b[0m\u001b[0;34m'white'\u001b[0m\u001b[0;34m,\u001b[0m \u001b[0mlinewidth\u001b[0m\u001b[0;34m=\u001b[0m\u001b[0;36m2\u001b[0m\u001b[0;34m)\u001b[0m\u001b[0;34m\u001b[0m\u001b[0;34m\u001b[0m\u001b[0m\n\u001b[0m\u001b[1;32m      2\u001b[0m \u001b[0;34m\u001b[0m\u001b[0m\n",
            "\u001b[0;32m/usr/local/lib/python3.8/dist-packages/pandas/plotting/_core.py\u001b[0m in \u001b[0;36m__call__\u001b[0;34m(self, *args, **kwargs)\u001b[0m\n\u001b[1;32m    970\u001b[0m                     \u001b[0mdata\u001b[0m\u001b[0;34m.\u001b[0m\u001b[0mcolumns\u001b[0m \u001b[0;34m=\u001b[0m \u001b[0mlabel_name\u001b[0m\u001b[0;34m\u001b[0m\u001b[0;34m\u001b[0m\u001b[0m\n\u001b[1;32m    971\u001b[0m \u001b[0;34m\u001b[0m\u001b[0m\n\u001b[0;32m--> 972\u001b[0;31m         \u001b[0;32mreturn\u001b[0m \u001b[0mplot_backend\u001b[0m\u001b[0;34m.\u001b[0m\u001b[0mplot\u001b[0m\u001b[0;34m(\u001b[0m\u001b[0mdata\u001b[0m\u001b[0;34m,\u001b[0m \u001b[0mkind\u001b[0m\u001b[0;34m=\u001b[0m\u001b[0mkind\u001b[0m\u001b[0;34m,\u001b[0m \u001b[0;34m**\u001b[0m\u001b[0mkwargs\u001b[0m\u001b[0;34m)\u001b[0m\u001b[0;34m\u001b[0m\u001b[0;34m\u001b[0m\u001b[0m\n\u001b[0m\u001b[1;32m    973\u001b[0m \u001b[0;34m\u001b[0m\u001b[0m\n\u001b[1;32m    974\u001b[0m     \u001b[0m__call__\u001b[0m\u001b[0;34m.\u001b[0m\u001b[0m__doc__\u001b[0m \u001b[0;34m=\u001b[0m \u001b[0m__doc__\u001b[0m\u001b[0;34m\u001b[0m\u001b[0;34m\u001b[0m\u001b[0m\n",
            "\u001b[0;32m/usr/local/lib/python3.8/dist-packages/pandas/plotting/_matplotlib/__init__.py\u001b[0m in \u001b[0;36mplot\u001b[0;34m(data, kind, **kwargs)\u001b[0m\n\u001b[1;32m     69\u001b[0m             \u001b[0mkwargs\u001b[0m\u001b[0;34m[\u001b[0m\u001b[0;34m\"ax\"\u001b[0m\u001b[0;34m]\u001b[0m \u001b[0;34m=\u001b[0m \u001b[0mgetattr\u001b[0m\u001b[0;34m(\u001b[0m\u001b[0max\u001b[0m\u001b[0;34m,\u001b[0m \u001b[0;34m\"left_ax\"\u001b[0m\u001b[0;34m,\u001b[0m \u001b[0max\u001b[0m\u001b[0;34m)\u001b[0m\u001b[0;34m\u001b[0m\u001b[0;34m\u001b[0m\u001b[0m\n\u001b[1;32m     70\u001b[0m     \u001b[0mplot_obj\u001b[0m \u001b[0;34m=\u001b[0m \u001b[0mPLOT_CLASSES\u001b[0m\u001b[0;34m[\u001b[0m\u001b[0mkind\u001b[0m\u001b[0;34m]\u001b[0m\u001b[0;34m(\u001b[0m\u001b[0mdata\u001b[0m\u001b[0;34m,\u001b[0m \u001b[0;34m**\u001b[0m\u001b[0mkwargs\u001b[0m\u001b[0;34m)\u001b[0m\u001b[0;34m\u001b[0m\u001b[0;34m\u001b[0m\u001b[0m\n\u001b[0;32m---> 71\u001b[0;31m     \u001b[0mplot_obj\u001b[0m\u001b[0;34m.\u001b[0m\u001b[0mgenerate\u001b[0m\u001b[0;34m(\u001b[0m\u001b[0;34m)\u001b[0m\u001b[0;34m\u001b[0m\u001b[0;34m\u001b[0m\u001b[0m\n\u001b[0m\u001b[1;32m     72\u001b[0m     \u001b[0mplot_obj\u001b[0m\u001b[0;34m.\u001b[0m\u001b[0mdraw\u001b[0m\u001b[0;34m(\u001b[0m\u001b[0;34m)\u001b[0m\u001b[0;34m\u001b[0m\u001b[0;34m\u001b[0m\u001b[0m\n\u001b[1;32m     73\u001b[0m     \u001b[0;32mreturn\u001b[0m \u001b[0mplot_obj\u001b[0m\u001b[0;34m.\u001b[0m\u001b[0mresult\u001b[0m\u001b[0;34m\u001b[0m\u001b[0;34m\u001b[0m\u001b[0m\n",
            "\u001b[0;32m/usr/local/lib/python3.8/dist-packages/pandas/plotting/_matplotlib/core.py\u001b[0m in \u001b[0;36mgenerate\u001b[0;34m(self)\u001b[0m\n\u001b[1;32m    284\u001b[0m     \u001b[0;32mdef\u001b[0m \u001b[0mgenerate\u001b[0m\u001b[0;34m(\u001b[0m\u001b[0mself\u001b[0m\u001b[0;34m)\u001b[0m\u001b[0;34m:\u001b[0m\u001b[0;34m\u001b[0m\u001b[0;34m\u001b[0m\u001b[0m\n\u001b[1;32m    285\u001b[0m         \u001b[0mself\u001b[0m\u001b[0;34m.\u001b[0m\u001b[0m_args_adjust\u001b[0m\u001b[0;34m(\u001b[0m\u001b[0;34m)\u001b[0m\u001b[0;34m\u001b[0m\u001b[0;34m\u001b[0m\u001b[0m\n\u001b[0;32m--> 286\u001b[0;31m         \u001b[0mself\u001b[0m\u001b[0;34m.\u001b[0m\u001b[0m_compute_plot_data\u001b[0m\u001b[0;34m(\u001b[0m\u001b[0;34m)\u001b[0m\u001b[0;34m\u001b[0m\u001b[0;34m\u001b[0m\u001b[0m\n\u001b[0m\u001b[1;32m    287\u001b[0m         \u001b[0mself\u001b[0m\u001b[0;34m.\u001b[0m\u001b[0m_setup_subplots\u001b[0m\u001b[0;34m(\u001b[0m\u001b[0;34m)\u001b[0m\u001b[0;34m\u001b[0m\u001b[0;34m\u001b[0m\u001b[0m\n\u001b[1;32m    288\u001b[0m         \u001b[0mself\u001b[0m\u001b[0;34m.\u001b[0m\u001b[0m_make_plot\u001b[0m\u001b[0;34m(\u001b[0m\u001b[0;34m)\u001b[0m\u001b[0;34m\u001b[0m\u001b[0;34m\u001b[0m\u001b[0m\n",
            "\u001b[0;32m/usr/local/lib/python3.8/dist-packages/pandas/plotting/_matplotlib/core.py\u001b[0m in \u001b[0;36m_compute_plot_data\u001b[0;34m(self)\u001b[0m\n\u001b[1;32m    451\u001b[0m         \u001b[0;31m# no non-numeric frames or series allowed\u001b[0m\u001b[0;34m\u001b[0m\u001b[0;34m\u001b[0m\u001b[0;34m\u001b[0m\u001b[0m\n\u001b[1;32m    452\u001b[0m         \u001b[0;32mif\u001b[0m \u001b[0mis_empty\u001b[0m\u001b[0;34m:\u001b[0m\u001b[0;34m\u001b[0m\u001b[0;34m\u001b[0m\u001b[0m\n\u001b[0;32m--> 453\u001b[0;31m             \u001b[0;32mraise\u001b[0m \u001b[0mTypeError\u001b[0m\u001b[0;34m(\u001b[0m\u001b[0;34m\"no numeric data to plot\"\u001b[0m\u001b[0;34m)\u001b[0m\u001b[0;34m\u001b[0m\u001b[0;34m\u001b[0m\u001b[0m\n\u001b[0m\u001b[1;32m    454\u001b[0m \u001b[0;34m\u001b[0m\u001b[0m\n\u001b[1;32m    455\u001b[0m         \u001b[0mself\u001b[0m\u001b[0;34m.\u001b[0m\u001b[0mdata\u001b[0m \u001b[0;34m=\u001b[0m \u001b[0mnumeric_data\u001b[0m\u001b[0;34m.\u001b[0m\u001b[0mapply\u001b[0m\u001b[0;34m(\u001b[0m\u001b[0mself\u001b[0m\u001b[0;34m.\u001b[0m\u001b[0m_convert_to_ndarray\u001b[0m\u001b[0;34m)\u001b[0m\u001b[0;34m\u001b[0m\u001b[0;34m\u001b[0m\u001b[0m\n",
            "\u001b[0;31mTypeError\u001b[0m: no numeric data to plot"
          ]
        }
      ]
    },
    {
      "cell_type": "code",
      "source": [
        "df_per_verb_by_speaker.iloc[0:2, :].T.plot(kind='bar', title='Power By Speaker Per Verb',width=1, edgecolor='white', linewidth=2)\n"
      ],
      "metadata": {
        "id": "leKdnYRJw7n-"
      },
      "execution_count": null,
      "outputs": []
    },
    {
      "cell_type": "code",
      "source": [
        "df_per_verb_by_speaker.iloc[4:6, :].T.plot(kind='bar', title='Power By Speaker Per Verb',width=1, edgecolor='white', linewidth=2)\n"
      ],
      "metadata": {
        "id": "seIgjGR3xf9d"
      },
      "execution_count": null,
      "outputs": []
    },
    {
      "cell_type": "code",
      "source": [
        "bianca_slice_by_act = bianca_speaker_slice.groupby('act')\n",
        "petruchio_slice_by_act = petruchio_speaker_slice.groupby('act')\n",
        "katherine_slice_by_act = katherine_speaker_slice.groupby('act')\n",
        "hostess_slice_by_act = hostess_speaker_slice.groupby('act')\n",
        "baptista_slice_by_act = baptista_speaker_slice.groupby('act')\n",
        "grumio_slice_by_act = grumio_speaker_slice.groupby('act')\n",
        "gremio_slice_by_act = gremio_speaker_slice.groupby('act')\n",
        "hortensio_slice_by_act = hortensio_speaker_slice.groupby('act')\n",
        "lucentio_slice_by_act = lucentio_speaker_slice.groupby('act')\n",
        "vincentio_slice_by_act = vincentio_speaker_slice.groupby('act')\n",
        "biondello_slice_by_act = biondello_speaker_slice.groupby('act')\n",
        "sly_slice_by_act = sly_speaker_slice.groupby('act')"
      ],
      "metadata": {
        "id": "vh_FeYKswL2c",
        "colab": {
          "base_uri": "https://localhost:8080/",
          "height": 240
        },
        "outputId": "c7ee6bf7-82d0-43db-ec04-136b0bb408d4"
      },
      "execution_count": null,
      "outputs": [
        {
          "output_type": "error",
          "ename": "NameError",
          "evalue": "ignored",
          "traceback": [
            "\u001b[0;31m---------------------------------------------------------------------------\u001b[0m",
            "\u001b[0;31mNameError\u001b[0m                                 Traceback (most recent call last)",
            "\u001b[0;32m<ipython-input-14-c5463e490f9f>\u001b[0m in \u001b[0;36m<module>\u001b[0;34m\u001b[0m\n\u001b[0;32m----> 1\u001b[0;31m \u001b[0mbianca_slice_by_act\u001b[0m \u001b[0;34m=\u001b[0m \u001b[0mbianca_speaker_slice\u001b[0m\u001b[0;34m.\u001b[0m\u001b[0mgroupby\u001b[0m\u001b[0;34m(\u001b[0m\u001b[0;34m'act'\u001b[0m\u001b[0;34m)\u001b[0m\u001b[0;34m\u001b[0m\u001b[0;34m\u001b[0m\u001b[0m\n\u001b[0m\u001b[1;32m      2\u001b[0m \u001b[0mpetruchio_slice_by_act\u001b[0m \u001b[0;34m=\u001b[0m \u001b[0mpetruchio_speaker_slice\u001b[0m\u001b[0;34m.\u001b[0m\u001b[0mgroupby\u001b[0m\u001b[0;34m(\u001b[0m\u001b[0;34m'act'\u001b[0m\u001b[0;34m)\u001b[0m\u001b[0;34m\u001b[0m\u001b[0;34m\u001b[0m\u001b[0m\n\u001b[1;32m      3\u001b[0m \u001b[0mkatherine_slice_by_act\u001b[0m \u001b[0;34m=\u001b[0m \u001b[0mkatherine_speaker_slice\u001b[0m\u001b[0;34m.\u001b[0m\u001b[0mgroupby\u001b[0m\u001b[0;34m(\u001b[0m\u001b[0;34m'act'\u001b[0m\u001b[0;34m)\u001b[0m\u001b[0;34m\u001b[0m\u001b[0;34m\u001b[0m\u001b[0m\n\u001b[1;32m      4\u001b[0m \u001b[0mhostess_slice_by_act\u001b[0m \u001b[0;34m=\u001b[0m \u001b[0mhostess_speaker_slice\u001b[0m\u001b[0;34m.\u001b[0m\u001b[0mgroupby\u001b[0m\u001b[0;34m(\u001b[0m\u001b[0;34m'act'\u001b[0m\u001b[0;34m)\u001b[0m\u001b[0;34m\u001b[0m\u001b[0;34m\u001b[0m\u001b[0m\n\u001b[1;32m      5\u001b[0m \u001b[0mbaptista_slice_by_act\u001b[0m \u001b[0;34m=\u001b[0m \u001b[0mbaptista_speaker_slice\u001b[0m\u001b[0;34m.\u001b[0m\u001b[0mgroupby\u001b[0m\u001b[0;34m(\u001b[0m\u001b[0;34m'act'\u001b[0m\u001b[0;34m)\u001b[0m\u001b[0;34m\u001b[0m\u001b[0;34m\u001b[0m\u001b[0m\n",
            "\u001b[0;31mNameError\u001b[0m: name 'bianca_speaker_slice' is not defined"
          ]
        }
      ]
    },
    {
      "cell_type": "code",
      "source": [
        "bianca_power_agent_per_verb = bianca_slice_by_act['power_agent'].sum()/bianca_verb_count\n",
        "\n",
        "bianca_power_theme_per_verb = bianca_slice_by_act['power_theme'].sum()/bianca_verb_count\n",
        "\n",
        "bianca_power_equal_per_verb = bianca_slice_by_act['power_equal'].sum()/bianca_verb_count\n",
        "\n",
        "bianca_agency_pos_per_verb = bianca_slice_by_act['agency_pos'].sum()/bianca_verb_count\n",
        "\n",
        "bianca_agency_neg_per_verb = bianca_slice_by_act['agency_neg'].sum()/bianca_verb_count\n",
        "\n",
        "bianca_agency_equal_per_verb = bianca_slice_by_act['agency_equal'].sum()/bianca_verb_count\n",
        "\n",
        "\n",
        "\n",
        "petruchio_power_agent_per_verb = petruchio_slice_by_act['power_agent'].sum()/petruchio_verb_count\n",
        "\n",
        "petruchio_power_theme_per_verb = petruchio_slice_by_act['power_theme'].sum()/petruchio_verb_count\n",
        "\n",
        "petruchio_power_equal_per_verb = petruchio_slice_by_act['power_equal'].sum()/petruchio_verb_count\n",
        "\n",
        "petruchio_agency_pos_per_verb = petruchio_slice_by_act['agency_pos'].sum()/petruchio_verb_count\n",
        "\n",
        "petruchio_agency_neg_per_verb = petruchio_slice_by_act['agency_neg'].sum()/petruchio_verb_count\n",
        "\n",
        "petruchio_agency_equal_per_verb = petruchio_slice_by_act['agency_equal'].sum()/petruchio_verb_count\n",
        "\n",
        "\n",
        "#fix the rest of these to make them match with the correct character names for taming\n",
        "\n",
        "\n",
        "katherine_power_agent_per_verb = katherine_slice_by_act['power_agent'].sum()/katherine_verb_count\n",
        "\n",
        "katherine_power_theme_per_verb = katherine_slice_by_act['power_theme'].sum()/katherine_verb_count\n",
        "\n",
        "katherine_power_equal_per_verb = katherine_slice_by_act['power_equal'].sum()/katherine_verb_count\n",
        "\n",
        "katherine_agency_pos_per_verb = katherine_slice_by_act['agency_pos'].sum()/katherine_verb_count\n",
        "\n",
        "katherine_agency_neg_per_verb = katherine_slice_by_act['agency_neg'].sum()/katherine_verb_count\n",
        "\n",
        "katherine_agency_equal_per_verb = katherine_slice_by_act['agency_equal'].sum()/katherine_verb_count\n",
        "\n",
        "\n",
        "hostess_power_agent_per_verb = hostess_slice_by_act['power_agent'].sum()/hostess_verb_count\n",
        "\n",
        "hostess_power_theme_per_verb = hostess_slice_by_act['power_theme'].sum()/hostess_verb_count\n",
        "\n",
        "hostess_power_equal_per_verb = hostess_slice_by_act['power_equal'].sum()/hostess_verb_count\n",
        "\n",
        "hostess_agency_pos_per_verb = hostess_slice_by_act['agency_pos'].sum()/hostess_verb_count\n",
        "\n",
        "hostess_agency_neg_per_verb = hostess_slice_by_act['agency_neg'].sum()/hostess_verb_count\n",
        "\n",
        "hostess_agency_equal_per_verb = hostess_slice_by_act['agency_equal'].sum()/hostess_verb_count\n",
        "\n",
        "\n",
        "baptista_power_agent_per_verb = baptista_slice_by_act['power_agent'].sum()/baptista_verb_count\n",
        "\n",
        "baptista_power_theme_per_verb = baptista_slice_by_act['power_theme'].sum()/baptista_verb_count\n",
        "\n",
        "baptista_power_equal_per_verb = baptista_slice_by_act['power_equal'].sum()/baptista_verb_count\n",
        "\n",
        "baptista_agency_pos_per_verb = baptista_slice_by_act['agency_pos'].sum()/baptista_verb_count\n",
        "\n",
        "baptista_agency_neg_per_verb = baptista_slice_by_act['agency_neg'].sum()/baptista_verb_count\n",
        "\n",
        "baptista_agency_equal_per_verb = baptista_slice_by_act['agency_equal'].sum()/baptista_verb_count\n",
        "\n",
        "\n",
        "\n",
        "grumio_power_agent_per_verb = grumio_slice_by_act['power_agent'].sum()/grumio_verb_count\n",
        "\n",
        "grumio_power_theme_per_verb = grumio_slice_by_act['power_theme'].sum()/grumio_verb_count\n",
        "\n",
        "grumio_power_equal_per_verb = grumio_slice_by_act['power_equal'].sum()/grumio_verb_count\n",
        "\n",
        "grumio_agency_pos_per_verb = grumio_slice_by_act['agency_pos'].sum()/grumio_verb_count\n",
        "\n",
        "grumio_agency_neg_per_verb = grumio_slice_by_act['agency_neg'].sum()/grumio_verb_count\n",
        "\n",
        "grumio_agency_equal_per_verb = grumio_slice_by_act['agency_equal'].sum()/grumio_verb_count\n",
        "\n",
        "\n",
        "gremio_power_agent_per_verb = gremio_slice_by_act['power_agent'].sum()/gremio_verb_count\n",
        "\n",
        "gremio_power_theme_per_verb = gremio_slice_by_act['power_theme'].sum()/gremio_verb_count\n",
        "\n",
        "gremio_power_equal_per_verb = gremio_slice_by_act['power_equal'].sum()/gremio_verb_count\n",
        "\n",
        "gremio_agency_pos_per_verb = gremio_slice_by_act['agency_pos'].sum()/gremio_verb_count\n",
        "\n",
        "gremio_agency_neg_per_verb = gremio_slice_by_act['agency_neg'].sum()/gremio_verb_count\n",
        "\n",
        "gremio_agency_equal_per_verb = gremio_slice_by_act['agency_equal'].sum()/gremio_verb_count\n",
        "\n",
        "\n",
        "hortensio_power_agent_per_verb = hortensio_slice_by_act['power_agent'].sum()/hortensio_verb_count\n",
        "\n",
        "hortensio_power_theme_per_verb = hortensio_slice_by_act['power_theme'].sum()/hortensio_verb_count\n",
        "\n",
        "hortensio_power_equal_per_verb = hortensio_slice_by_act['power_equal'].sum()/hortensio_verb_count\n",
        "\n",
        "hortensio_agency_pos_per_verb = hortensio_slice_by_act['agency_pos'].sum()/hortensio_verb_count\n",
        "\n",
        "hortensio_agency_neg_per_verb = hortensio_slice_by_act['agency_neg'].sum()/hortensio_verb_count\n",
        "\n",
        "hortensio_agency_equal_per_verb = hortensio_slice_by_act['agency_equal'].sum()/hortensio_verb_count\n",
        "\n",
        "\n",
        "lucentio_power_agent_per_verb = lucentio_slice_by_act['power_agent'].sum()/lucentio_verb_count\n",
        "\n",
        "lucentio_power_theme_per_verb = lucentio_slice_by_act['power_theme'].sum()/lucentio_verb_count\n",
        "\n",
        "lucentio_power_equal_per_verb = lucentio_slice_by_act['power_equal'].sum()/lucentio_verb_count\n",
        "\n",
        "lucentio_agency_pos_per_verb = lucentio_slice_by_act['agency_pos'].sum()/lucentio_verb_count\n",
        "\n",
        "lucentio_agency_neg_per_verb = lucentio_slice_by_act['agency_neg'].sum()/lucentio_verb_count\n",
        "\n",
        "lucentio_agency_equal_per_verb = lucentio_slice_by_act['agency_equal'].sum()/lucentio_verb_count\n",
        "\n",
        "\n",
        "vincentio_power_agent_per_verb = vincentio_slice_by_act['power_agent'].sum()/vincentio_verb_count\n",
        "\n",
        "vincentio_power_theme_per_verb = vincentio_slice_by_act['power_theme'].sum()/vincentio_verb_count\n",
        "\n",
        "vincentio_power_equal_per_verb = vincentio_slice_by_act['power_equal'].sum()/vincentio_verb_count\n",
        "\n",
        "vincentio_agency_pos_per_verb = vincentio_slice_by_act['agency_pos'].sum()/vincentio_verb_count\n",
        "\n",
        "vincentio_agency_neg_per_verb = vincentio_slice_by_act['agency_neg'].sum()/vincentio_verb_count\n",
        "\n",
        "vincentio_agency_equal_per_verb = vincentio_slice_by_act['agency_equal'].sum()/vincentio_verb_count\n",
        "\n",
        "\n",
        "biondello_power_agent_per_verb = biondello_slice_by_act['power_agent'].sum()/biondello_verb_count\n",
        "\n",
        "biondello_power_theme_per_verb = biondello_slice_by_act['power_theme'].sum()/biondello_verb_count\n",
        "\n",
        "biondello_power_equal_per_verb = biondello_slice_by_act['power_equal'].sum()/biondello_verb_count\n",
        "\n",
        "biondello_agency_pos_per_verb = biondello_slice_by_act['agency_pos'].sum()/biondello_verb_count\n",
        "\n",
        "biondello_agency_neg_per_verb = biondello_slice_by_act['agency_neg'].sum()/biondello_verb_count\n",
        "\n",
        "biondello_agency_equal_per_verb = biondello_slice_by_act['agency_equal'].sum()/biondello_verb_count\n",
        "\n",
        "\n",
        "\n",
        "sly_power_agent_per_verb = sly_slice_by_act['power_agent'].sum()/sly_verb_count\n",
        "\n",
        "sly_power_theme_per_verb = sly_slice_by_act['power_theme'].sum()/sly_verb_count\n",
        "\n",
        "sly_power_equal_per_verb = sly_slice_by_act['power_equal'].sum()/sly_verb_count\n",
        "\n",
        "sly_agency_pos_per_verb = sly_slice_by_act['agency_pos'].sum()/sly_verb_count\n",
        "\n",
        "sly_agency_neg_per_verb = sly_slice_by_act['agency_neg'].sum()/sly_verb_count\n",
        "\n",
        "sly_agency_equal_per_verb = sly_slice_by_act['agency_equal'].sum()/sly_verb_count\n",
        "\n",
        "\n",
        "\n",
        "\n",
        "\n"
      ],
      "metadata": {
        "id": "nnbKUv94_rza",
        "colab": {
          "base_uri": "https://localhost:8080/",
          "height": 240
        },
        "outputId": "9b2d12cb-7e7b-4c42-f978-62b8ac34bcc6"
      },
      "execution_count": null,
      "outputs": [
        {
          "output_type": "error",
          "ename": "NameError",
          "evalue": "ignored",
          "traceback": [
            "\u001b[0;31m---------------------------------------------------------------------------\u001b[0m",
            "\u001b[0;31mNameError\u001b[0m                                 Traceback (most recent call last)",
            "\u001b[0;32m<ipython-input-15-43d307a8d4ea>\u001b[0m in \u001b[0;36m<module>\u001b[0;34m\u001b[0m\n\u001b[0;32m----> 1\u001b[0;31m \u001b[0mbianca_power_agent_per_verb\u001b[0m \u001b[0;34m=\u001b[0m \u001b[0mbianca_slice_by_act\u001b[0m\u001b[0;34m[\u001b[0m\u001b[0;34m'power_agent'\u001b[0m\u001b[0;34m]\u001b[0m\u001b[0;34m.\u001b[0m\u001b[0msum\u001b[0m\u001b[0;34m(\u001b[0m\u001b[0;34m)\u001b[0m\u001b[0;34m/\u001b[0m\u001b[0mbianca_verb_count\u001b[0m\u001b[0;34m\u001b[0m\u001b[0;34m\u001b[0m\u001b[0m\n\u001b[0m\u001b[1;32m      2\u001b[0m \u001b[0;34m\u001b[0m\u001b[0m\n\u001b[1;32m      3\u001b[0m \u001b[0mbianca_power_theme_per_verb\u001b[0m \u001b[0;34m=\u001b[0m \u001b[0mbianca_slice_by_act\u001b[0m\u001b[0;34m[\u001b[0m\u001b[0;34m'power_theme'\u001b[0m\u001b[0;34m]\u001b[0m\u001b[0;34m.\u001b[0m\u001b[0msum\u001b[0m\u001b[0;34m(\u001b[0m\u001b[0;34m)\u001b[0m\u001b[0;34m/\u001b[0m\u001b[0mbianca_verb_count\u001b[0m\u001b[0;34m\u001b[0m\u001b[0;34m\u001b[0m\u001b[0m\n\u001b[1;32m      4\u001b[0m \u001b[0;34m\u001b[0m\u001b[0m\n\u001b[1;32m      5\u001b[0m \u001b[0mbianca_power_equal_per_verb\u001b[0m \u001b[0;34m=\u001b[0m \u001b[0mbianca_slice_by_act\u001b[0m\u001b[0;34m[\u001b[0m\u001b[0;34m'power_equal'\u001b[0m\u001b[0;34m]\u001b[0m\u001b[0;34m.\u001b[0m\u001b[0msum\u001b[0m\u001b[0;34m(\u001b[0m\u001b[0;34m)\u001b[0m\u001b[0;34m/\u001b[0m\u001b[0mbianca_verb_count\u001b[0m\u001b[0;34m\u001b[0m\u001b[0;34m\u001b[0m\u001b[0m\n",
            "\u001b[0;31mNameError\u001b[0m: name 'bianca_verb_count' is not defined"
          ]
        }
      ]
    },
    {
      "cell_type": "code",
      "source": [
        "data = [[bianca_power_theme_per_verb,petruchio_power_theme_per_verb,katherine_power_theme_per_verb,hostess_power_theme_per_verb, baptista_power_theme_per_verb,grumio_power_theme_per_verb,gremio_power_theme_per_verb,hortensio_power_theme_per_verb,lucentio_power_theme_per_verb,vincentio_power_theme_per_verb, sly_power_theme_per_verb],[bianca_power_agent_per_verb,petruchio_power_agent_per_verb,katherine_power_agent_per_verb,hostess_power_agent_per_verb, baptista_power_agent_per_verb,grumio_power_agent_per_verb,gremio_power_agent_per_verb,hortensio_power_agent_per_verb,lucentio_power_agent_per_verb,vincentio_power_agent_per_verb, sly_power_agent_per_verb],[bianca_agency_neg_per_verb,petruchio_agency_neg_per_verb,katherine_agency_neg_per_verb,hostess_agency_neg_per_verb, baptista_agency_neg_per_verb,grumio_agency_neg_per_verb,gremio_agency_neg_per_verb,hortensio_agency_neg_per_verb,lucentio_agency_neg_per_verb,vincentio_agency_neg_per_verb, sly_agency_neg_per_verb],[bianca_agency_pos_per_verb,petruchio_agency_pos_per_verb,katherine_agency_pos_per_verb,hostess_agency_pos_per_verb, baptista_agency_pos_per_verb,grumio_agency_pos_per_verb,gremio_agency_pos_per_verb,hortensio_agency_pos_per_verb,lucentio_agency_pos_per_verb,vincentio_agency_pos_per_verb, sly_agency_pos_per_verb],[bianca_agency_equal_per_verb,petruchio_agency_equal_per_verb,katherine_agency_equal_per_verb,hostess_agency_equal_per_verb, baptista_agency_equal_per_verb,grumio_agency_equal_per_verb,gremio_agency_equal_per_verb,hortensio_agency_equal_per_verb,lucentio_agency_equal_per_verb,vincentio_agency_equal_per_verb, sly_agency_equal_per_verb],[bianca_power_equal_per_verb,petruchio_power_equal_per_verb,katherine_power_equal_per_verb,hostess_power_equal_per_verb, baptista_power_equal_per_verb,grumio_power_equal_per_verb,gremio_power_equal_per_verb,hortensio_power_equal_per_verb,lucentio_power_equal_per_verb,vincentio_power_equal_per_verb, sly_power_equal_per_verb]]\n",
        "# Create the pandas DataFrame\n",
        "df_per_verb_by_speaker = pd.DataFrame(data, columns=['bianca','petruchio','katherine','hostess', 'baptista','grumio','gremio','hortensio','lucentio','vincentio', 'sly'], index=['power_theme','power_agent','neg_agency','pos_agency', 'agency_equal','power_equal'])\n",
        "  \n",
        "# print dataframe.\n",
        "df_per_verb_by_speaker"
      ],
      "metadata": {
        "id": "TbYbHaK_A8Fr"
      },
      "execution_count": null,
      "outputs": []
    },
    {
      "cell_type": "code",
      "source": [
        "#Series.to_frame(name=None)\n",
        "\n",
        "df_bianca_power_theme = bianca_power_theme_per_verb.to_frame(name=None)\n",
        "df_bianca_power_agent = bianca_power_agent_per_verb.to_frame(name=None)\n",
        "df_bianca_agency_neg = bianca_agency_neg_per_verb.to_frame(name=None)\n",
        "df_bianca_agency_pos = bianca_agency_pos_per_verb.to_frame(name=None)\n",
        "df_bianca_agency_equal = bianca_agency_equal_per_verb.to_frame(name=None)\n",
        "df_bianca_power_equal = bianca_power_equal_per_verb.to_frame(name=None)\n",
        "\n",
        "df_bianca = pd.concat([df_bianca_power_theme, df_bianca_power_agent, df_bianca_agency_neg, df_bianca_agency_pos, df_bianca_agency_equal, df_bianca_power_equal], axis=1)"
      ],
      "metadata": {
        "id": "8l7qEC5hBpVD"
      },
      "execution_count": null,
      "outputs": []
    },
    {
      "cell_type": "code",
      "source": [
        "df_bianca.plot(kind='bar', title='Bianca per Act')"
      ],
      "metadata": {
        "id": "QSDslKbcBrbJ"
      },
      "execution_count": null,
      "outputs": []
    },
    {
      "cell_type": "code",
      "source": [
        "#lets do this for Maria and Petruchio also:\n",
        "\n",
        "#Series.to_frame(name=None)\n",
        "\n",
        "df_katherine_power_theme = katherine_power_theme_per_verb.to_frame(name=None)\n",
        "df_katherine_power_agent = katherine_power_agent_per_verb.to_frame(name=None)\n",
        "df_katherine_agency_neg = katherine_agency_neg_per_verb.to_frame(name=None)\n",
        "df_katherine_agency_pos = katherine_agency_pos_per_verb.to_frame(name=None)\n",
        "df_katherine_agency_equal = katherine_agency_equal_per_verb.to_frame(name=None)\n",
        "df_katherine_power_equal = katherine_power_equal_per_verb.to_frame(name=None)\n",
        "\n",
        "df_katherine = pd.concat([df_katherine_power_theme, df_katherine_power_agent, df_katherine_agency_neg, df_katherine_agency_pos, df_katherine_agency_equal, df_katherine_power_equal], axis=1)\n",
        "\n",
        "df_katherine.plot(kind='bar', title='Katherine per Act')"
      ],
      "metadata": {
        "id": "SdJOOOjjBy3t"
      },
      "execution_count": null,
      "outputs": []
    },
    {
      "cell_type": "code",
      "source": [
        "\n",
        "df_petruchio_power_theme = petruchio_power_theme_per_verb.to_frame(name=None)\n",
        "df_petruchio_power_agent = petruchio_power_agent_per_verb.to_frame(name=None)\n",
        "df_petruchio_agency_neg = petruchio_agency_neg_per_verb.to_frame(name=None)\n",
        "df_petruchio_agency_pos = petruchio_agency_pos_per_verb.to_frame(name=None)\n",
        "df_petruchio_agency_equal = petruchio_agency_equal_per_verb.to_frame(name=None)\n",
        "df_petruchio_power_equal = petruchio_power_equal_per_verb.to_frame(name=None)\n",
        "\n",
        "df_petruchio = pd.concat([df_petruchio_power_theme, df_petruchio_power_agent, df_petruchio_agency_neg, df_petruchio_agency_pos, df_petruchio_agency_equal, df_petruchio_power_equal], axis=1)\n",
        "\n",
        "df_petruchio.plot(kind='bar', title='Petruchio per Act')"
      ],
      "metadata": {
        "id": "RdrcemzkB66A"
      },
      "execution_count": null,
      "outputs": []
    },
    {
      "cell_type": "code",
      "source": [
        "malesubj_neg_agency = df_male_subjects['agency_neg'].sum()/df_verb_count_male_subj\n",
        "malesubj_pos_agency = df_male_subjects['agency_pos'].sum()/df_verb_count_male_subj"
      ],
      "metadata": {
        "id": "6KHI3DHEDXUU"
      },
      "execution_count": null,
      "outputs": []
    },
    {
      "cell_type": "code",
      "source": [
        "#gender by act\n",
        "#first slice and group by act again like for characters\n",
        "\n",
        "female_slice_by_act = df_female_subjects.groupby('act')\n",
        "male_slice_by_act = df_male_subjects.groupby('act')\n",
        "\n",
        "#women\n",
        "\n",
        "female_power_agent_per_verb = female_slice_by_act['power_agent'].sum()/df_verb_count_female_subj\n",
        "\n",
        "female_power_theme_per_verb = female_slice_by_act['power_theme'].sum()/df_verb_count_female_subj\n",
        "\n",
        "female_power_equal_per_verb = female_slice_by_act['power_equal'].sum()/df_verb_count_female_subj\n",
        "\n",
        "female_agency_pos_per_verb = female_slice_by_act['agency_pos'].sum()/df_verb_count_female_subj\n",
        "\n",
        "female_agency_neg_per_verb = female_slice_by_act['agency_neg'].sum()/df_verb_count_female_subj\n",
        "\n",
        "female_agency_equal_per_verb = female_slice_by_act['agency_equal'].sum()/df_verb_count_female_subj\n",
        "\n",
        "#men\n",
        "\n",
        "male_power_agent_per_verb = male_slice_by_act['power_agent'].sum()/df_verb_count_male_subj\n",
        "\n",
        "male_power_theme_per_verb = male_slice_by_act['power_theme'].sum()/df_verb_count_male_subj\n",
        "\n",
        "male_power_equal_per_verb = male_slice_by_act['power_equal'].sum()/df_verb_count_male_subj\n",
        "\n",
        "male_agency_pos_per_verb = male_slice_by_act['agency_pos'].sum()/df_verb_count_male_subj\n",
        "\n",
        "male_agency_neg_per_verb = male_slice_by_act['agency_neg'].sum()/df_verb_count_male_subj\n",
        "\n",
        "male_agency_equal_per_verb = male_slice_by_act['agency_equal'].sum()/df_verb_count_male_subj"
      ],
      "metadata": {
        "id": "7qgpEZ0HCRlD"
      },
      "execution_count": null,
      "outputs": []
    },
    {
      "cell_type": "code",
      "source": [
        "df_female_power_equal = female_power_equal_per_verb.to_frame(name=None)\n",
        "df_female_power_agent = female_power_agent_per_verb.to_frame(name=None)\n",
        "df_female_power_theme = female_power_theme_per_verb.to_frame(name=None)\n",
        "df_female_agency_equal = female_agency_equal_per_verb.to_frame(name=None)\n",
        "df_female_agency_pos = female_agency_pos_per_verb.to_frame(name=None)\n",
        "df_female_agency_neg = female_agency_neg_per_verb.to_frame(name=None)\n",
        "\n",
        "df_female = pd.concat([df_female_power_theme, df_female_power_agent, df_female_agency_neg, df_female_agency_pos, df_female_agency_equal, df_female_power_equal], axis=1)\n",
        "\n",
        "\n",
        "df_male_power_equal = male_power_equal_per_verb.to_frame(name=None)\n",
        "df_male_power_agent = male_power_agent_per_verb.to_frame(name=None)\n",
        "df_male_power_theme = male_power_theme_per_verb.to_frame(name=None)\n",
        "df_male_agency_equal = male_agency_equal_per_verb.to_frame(name=None)\n",
        "df_male_agency_pos = male_agency_pos_per_verb.to_frame(name=None)\n",
        "df_male_agency_neg = male_agency_neg_per_verb.to_frame(name=None)\n",
        "\n",
        "df_male = pd.concat([df_male_power_theme, df_male_power_agent, df_male_agency_neg, df_male_agency_pos, df_male_agency_equal, df_male_power_equal], axis=1)\n"
      ],
      "metadata": {
        "id": "05eA1zpXCXZc"
      },
      "execution_count": null,
      "outputs": []
    },
    {
      "cell_type": "code",
      "source": [
        "df_male.plot(kind='bar', title='Male per Act')"
      ],
      "metadata": {
        "id": "eniQ-2O5CaL4"
      },
      "execution_count": null,
      "outputs": []
    },
    {
      "cell_type": "code",
      "source": [
        "df_female.plot(kind='bar', title='Female per Act')"
      ],
      "metadata": {
        "id": "yfSR64-pCcGP"
      },
      "execution_count": null,
      "outputs": []
    },
    {
      "cell_type": "code",
      "source": [
        "#top verbs\n",
        "import pandas as pd\n",
        "import numpy\n",
        "\n",
        "df_female_subjects = pd.read_csv('/content/drive/MyDrive/Colab Notebooks/honors thesis/new df male, female etc/df_female_subjects.csv')\n",
        "df_male_subjects = pd.read_csv('/content/drive/MyDrive/Colab Notebooks/honors thesis/new df male, female etc/df_male_subjects.csv')\n",
        "df_with_i = pd.read_csv('/content/drive/MyDrive/Colab Notebooks/honors thesis/new df male, female etc/df_with_i.csv')\n",
        "df_taming = pd.read_csv('/content/drive/MyDrive/Colab Notebooks/honors thesis/new df male, female etc/df_2.csv')"
      ],
      "metadata": {
        "id": "4qq6Fbtr8Gfr"
      },
      "execution_count": null,
      "outputs": []
    },
    {
      "cell_type": "code",
      "source": [
        "#Setting up for the Tamer Tamed also...\n",
        "import spacy\n",
        "import en_core_web_sm\n",
        "nlp = en_core_web_sm.load()\n",
        "# add a new column to the df where we'll put the list of verb lemmas\n",
        "df_taming['verb_lemmas'] = \" \"\n",
        "\n",
        "for index, row in df_taming.iterrows():\n",
        "  doc2 = nlp(str(row['sentence']))\n",
        "  verbs = []\n",
        "  for word in doc2:\n",
        "    if word.pos_ == 'VERB':\n",
        "      verbs.append(word.lemma_)\n",
        "\n",
        "  #  df_tamertamed.at[index, 'verbs'] = Verbs\n",
        "\n",
        "  # try this:\n",
        "  df_taming.at[index, 'verb_lemmas_sentence'] = verbs\n",
        "  \n",
        "df_taming"
      ],
      "metadata": {
        "colab": {
          "base_uri": "https://localhost:8080/",
          "height": 1000
        },
        "id": "JK0cQ9_38Zvj",
        "outputId": "a2fab757-8474-4c2c-96ca-01cc8cbd564e"
      },
      "execution_count": null,
      "outputs": [
        {
          "output_type": "stream",
          "name": "stderr",
          "text": [
            "/usr/local/lib/python3.8/dist-packages/torch/cuda/__init__.py:497: UserWarning: Can't initialize NVML\n",
            "  warnings.warn(\"Can't initialize NVML\")\n"
          ]
        },
        {
          "output_type": "execute_result",
          "data": {
            "text/plain": [
              "      Unnamed: 0  Unnamed: 0.1  index        id    speaker direction_type  \\\n",
              "0              0             0      0  stg-0006        NaN       entrance   \n",
              "1              1             1      1   sp-0008     Moroso            NaN   \n",
              "2              2             2      2   sp-0010     Tranio            NaN   \n",
              "3              3             3      3   sp-0011  Sophocles            NaN   \n",
              "4              3             3      3   sp-0011  Sophocles            NaN   \n",
              "...          ...           ...    ...       ...        ...            ...   \n",
              "3526        1724          1724   1420   sp-3401  Petruchio            NaN   \n",
              "3527        1724          1724   1420   sp-3401  Petruchio            NaN   \n",
              "3528        1724          1724   1420   sp-3401  Petruchio            NaN   \n",
              "3529        1724          1724   1420   sp-3401  Petruchio            NaN   \n",
              "3530        1725          1725   1421  stg-3404        NaN           exit   \n",
              "\n",
              "      position  act  scene                                               text  \\\n",
              "0            0    1      1  Enter Moroso , Sophocles , and Tranio , with R...   \n",
              "1            1    1      1                               . GOd give ’em joy .   \n",
              "2            2    1      1                                             Amen .   \n",
              "3            3    1      1  Amen , say I too : The Puddings now i’ th’ pro...   \n",
              "4            3    1      1  Amen , say I too : The Puddings now i’ th’ pro...   \n",
              "...        ...  ...    ...                                                ...   \n",
              "3526      1420    5      4  Let’s in , and drink of all hands , and be jov...   \n",
              "3527      1420    5      4  Let’s in , and drink of all hands , and be jov...   \n",
              "3528      1420    5      4  Let’s in , and drink of all hands , and be jov...   \n",
              "3529      1420    5      4  Let’s in , and drink of all hands , and be jov...   \n",
              "3530      1421    5      4                                           Exeunt .   \n",
              "\n",
              "      ... power_theme speaker_gender                     character_list  \\\n",
              "0     ...         0.0            NaN  ['Moroso', 'Sophocles', 'Tranio']   \n",
              "1     ...         0.0              M                                 []   \n",
              "2     ...         0.0              M                                 []   \n",
              "3     ...         0.0              M                                 []   \n",
              "4     ...         0.0              M                                 []   \n",
              "...   ...         ...            ...                                ...   \n",
              "3526  ...         0.0              M                                 []   \n",
              "3527  ...         0.0              M                                 []   \n",
              "3528  ...         0.0              M                                 []   \n",
              "3529  ...         0.0              M                                 []   \n",
              "3530  ...         0.0            NaN                                 []   \n",
              "\n",
              "            sd_gender  male_gender_count  female_gender_count  subjects  \\\n",
              "0     ['M', 'M', 'M']                3.0                  0.0       NaN   \n",
              "1                  []                0.0                  0.0       GOd   \n",
              "2                  []                0.0                  0.0       NaN   \n",
              "3                  []                0.0                  0.0         I   \n",
              "4                  []                0.0                  0.0  Puddings   \n",
              "...               ...                ...                  ...       ...   \n",
              "3526               []                0.0                  0.0       she   \n",
              "3527               []                0.0                  0.0   whoever   \n",
              "3528               []                0.0                  0.0       him   \n",
              "3529               []                0.0                  0.0        he   \n",
              "3530               []                0.0                  0.0       NaN   \n",
              "\n",
              "      male_subject_match female_subject_match  \\\n",
              "0                    NaN                  NaN   \n",
              "1                    NaN                  NaN   \n",
              "2                    NaN                  NaN   \n",
              "3                    NaN                  NaN   \n",
              "4                    NaN                  NaN   \n",
              "...                  ...                  ...   \n",
              "3526                 NaN                  she   \n",
              "3527                 NaN                  NaN   \n",
              "3528                 him                  NaN   \n",
              "3529                  he                  NaN   \n",
              "3530                 NaN                  NaN   \n",
              "\n",
              "                             verb_lemmas_sentence  \n",
              "0                                           enter  \n",
              "1                                          [give]  \n",
              "2                                              []  \n",
              "3                                     [say, thou]  \n",
              "4                                     [say, thou]  \n",
              "...                                           ...  \n",
              "3526  [let, drink, have, carry, marry, let, keep]  \n",
              "3527  [let, drink, have, carry, marry, let, keep]  \n",
              "3528  [let, drink, have, carry, marry, let, keep]  \n",
              "3529  [let, drink, have, carry, marry, let, keep]  \n",
              "3530                                           []  \n",
              "\n",
              "[3531 rows x 27 columns]"
            ],
            "text/html": [
              "\n",
              "  <div id=\"df-c9baaa25-a6a2-4d87-a6d7-b65bf8fb614c\">\n",
              "    <div class=\"colab-df-container\">\n",
              "      <div>\n",
              "<style scoped>\n",
              "    .dataframe tbody tr th:only-of-type {\n",
              "        vertical-align: middle;\n",
              "    }\n",
              "\n",
              "    .dataframe tbody tr th {\n",
              "        vertical-align: top;\n",
              "    }\n",
              "\n",
              "    .dataframe thead th {\n",
              "        text-align: right;\n",
              "    }\n",
              "</style>\n",
              "<table border=\"1\" class=\"dataframe\">\n",
              "  <thead>\n",
              "    <tr style=\"text-align: right;\">\n",
              "      <th></th>\n",
              "      <th>Unnamed: 0</th>\n",
              "      <th>Unnamed: 0.1</th>\n",
              "      <th>index</th>\n",
              "      <th>id</th>\n",
              "      <th>speaker</th>\n",
              "      <th>direction_type</th>\n",
              "      <th>position</th>\n",
              "      <th>act</th>\n",
              "      <th>scene</th>\n",
              "      <th>text</th>\n",
              "      <th>...</th>\n",
              "      <th>power_theme</th>\n",
              "      <th>speaker_gender</th>\n",
              "      <th>character_list</th>\n",
              "      <th>sd_gender</th>\n",
              "      <th>male_gender_count</th>\n",
              "      <th>female_gender_count</th>\n",
              "      <th>subjects</th>\n",
              "      <th>male_subject_match</th>\n",
              "      <th>female_subject_match</th>\n",
              "      <th>verb_lemmas_sentence</th>\n",
              "    </tr>\n",
              "  </thead>\n",
              "  <tbody>\n",
              "    <tr>\n",
              "      <th>0</th>\n",
              "      <td>0</td>\n",
              "      <td>0</td>\n",
              "      <td>0</td>\n",
              "      <td>stg-0006</td>\n",
              "      <td>NaN</td>\n",
              "      <td>entrance</td>\n",
              "      <td>0</td>\n",
              "      <td>1</td>\n",
              "      <td>1</td>\n",
              "      <td>Enter Moroso , Sophocles , and Tranio , with R...</td>\n",
              "      <td>...</td>\n",
              "      <td>0.0</td>\n",
              "      <td>NaN</td>\n",
              "      <td>['Moroso', 'Sophocles', 'Tranio']</td>\n",
              "      <td>['M', 'M', 'M']</td>\n",
              "      <td>3.0</td>\n",
              "      <td>0.0</td>\n",
              "      <td>NaN</td>\n",
              "      <td>NaN</td>\n",
              "      <td>NaN</td>\n",
              "      <td>enter</td>\n",
              "    </tr>\n",
              "    <tr>\n",
              "      <th>1</th>\n",
              "      <td>1</td>\n",
              "      <td>1</td>\n",
              "      <td>1</td>\n",
              "      <td>sp-0008</td>\n",
              "      <td>Moroso</td>\n",
              "      <td>NaN</td>\n",
              "      <td>1</td>\n",
              "      <td>1</td>\n",
              "      <td>1</td>\n",
              "      <td>. GOd give ’em joy .</td>\n",
              "      <td>...</td>\n",
              "      <td>0.0</td>\n",
              "      <td>M</td>\n",
              "      <td>[]</td>\n",
              "      <td>[]</td>\n",
              "      <td>0.0</td>\n",
              "      <td>0.0</td>\n",
              "      <td>GOd</td>\n",
              "      <td>NaN</td>\n",
              "      <td>NaN</td>\n",
              "      <td>[give]</td>\n",
              "    </tr>\n",
              "    <tr>\n",
              "      <th>2</th>\n",
              "      <td>2</td>\n",
              "      <td>2</td>\n",
              "      <td>2</td>\n",
              "      <td>sp-0010</td>\n",
              "      <td>Tranio</td>\n",
              "      <td>NaN</td>\n",
              "      <td>2</td>\n",
              "      <td>1</td>\n",
              "      <td>1</td>\n",
              "      <td>Amen .</td>\n",
              "      <td>...</td>\n",
              "      <td>0.0</td>\n",
              "      <td>M</td>\n",
              "      <td>[]</td>\n",
              "      <td>[]</td>\n",
              "      <td>0.0</td>\n",
              "      <td>0.0</td>\n",
              "      <td>NaN</td>\n",
              "      <td>NaN</td>\n",
              "      <td>NaN</td>\n",
              "      <td>[]</td>\n",
              "    </tr>\n",
              "    <tr>\n",
              "      <th>3</th>\n",
              "      <td>3</td>\n",
              "      <td>3</td>\n",
              "      <td>3</td>\n",
              "      <td>sp-0011</td>\n",
              "      <td>Sophocles</td>\n",
              "      <td>NaN</td>\n",
              "      <td>3</td>\n",
              "      <td>1</td>\n",
              "      <td>1</td>\n",
              "      <td>Amen , say I too : The Puddings now i’ th’ pro...</td>\n",
              "      <td>...</td>\n",
              "      <td>0.0</td>\n",
              "      <td>M</td>\n",
              "      <td>[]</td>\n",
              "      <td>[]</td>\n",
              "      <td>0.0</td>\n",
              "      <td>0.0</td>\n",
              "      <td>I</td>\n",
              "      <td>NaN</td>\n",
              "      <td>NaN</td>\n",
              "      <td>[say, thou]</td>\n",
              "    </tr>\n",
              "    <tr>\n",
              "      <th>4</th>\n",
              "      <td>3</td>\n",
              "      <td>3</td>\n",
              "      <td>3</td>\n",
              "      <td>sp-0011</td>\n",
              "      <td>Sophocles</td>\n",
              "      <td>NaN</td>\n",
              "      <td>3</td>\n",
              "      <td>1</td>\n",
              "      <td>1</td>\n",
              "      <td>Amen , say I too : The Puddings now i’ th’ pro...</td>\n",
              "      <td>...</td>\n",
              "      <td>0.0</td>\n",
              "      <td>M</td>\n",
              "      <td>[]</td>\n",
              "      <td>[]</td>\n",
              "      <td>0.0</td>\n",
              "      <td>0.0</td>\n",
              "      <td>Puddings</td>\n",
              "      <td>NaN</td>\n",
              "      <td>NaN</td>\n",
              "      <td>[say, thou]</td>\n",
              "    </tr>\n",
              "    <tr>\n",
              "      <th>...</th>\n",
              "      <td>...</td>\n",
              "      <td>...</td>\n",
              "      <td>...</td>\n",
              "      <td>...</td>\n",
              "      <td>...</td>\n",
              "      <td>...</td>\n",
              "      <td>...</td>\n",
              "      <td>...</td>\n",
              "      <td>...</td>\n",
              "      <td>...</td>\n",
              "      <td>...</td>\n",
              "      <td>...</td>\n",
              "      <td>...</td>\n",
              "      <td>...</td>\n",
              "      <td>...</td>\n",
              "      <td>...</td>\n",
              "      <td>...</td>\n",
              "      <td>...</td>\n",
              "      <td>...</td>\n",
              "      <td>...</td>\n",
              "      <td>...</td>\n",
              "    </tr>\n",
              "    <tr>\n",
              "      <th>3526</th>\n",
              "      <td>1724</td>\n",
              "      <td>1724</td>\n",
              "      <td>1420</td>\n",
              "      <td>sp-3401</td>\n",
              "      <td>Petruchio</td>\n",
              "      <td>NaN</td>\n",
              "      <td>1420</td>\n",
              "      <td>5</td>\n",
              "      <td>4</td>\n",
              "      <td>Let’s in , and drink of all hands , and be jov...</td>\n",
              "      <td>...</td>\n",
              "      <td>0.0</td>\n",
              "      <td>M</td>\n",
              "      <td>[]</td>\n",
              "      <td>[]</td>\n",
              "      <td>0.0</td>\n",
              "      <td>0.0</td>\n",
              "      <td>she</td>\n",
              "      <td>NaN</td>\n",
              "      <td>she</td>\n",
              "      <td>[let, drink, have, carry, marry, let, keep]</td>\n",
              "    </tr>\n",
              "    <tr>\n",
              "      <th>3527</th>\n",
              "      <td>1724</td>\n",
              "      <td>1724</td>\n",
              "      <td>1420</td>\n",
              "      <td>sp-3401</td>\n",
              "      <td>Petruchio</td>\n",
              "      <td>NaN</td>\n",
              "      <td>1420</td>\n",
              "      <td>5</td>\n",
              "      <td>4</td>\n",
              "      <td>Let’s in , and drink of all hands , and be jov...</td>\n",
              "      <td>...</td>\n",
              "      <td>0.0</td>\n",
              "      <td>M</td>\n",
              "      <td>[]</td>\n",
              "      <td>[]</td>\n",
              "      <td>0.0</td>\n",
              "      <td>0.0</td>\n",
              "      <td>whoever</td>\n",
              "      <td>NaN</td>\n",
              "      <td>NaN</td>\n",
              "      <td>[let, drink, have, carry, marry, let, keep]</td>\n",
              "    </tr>\n",
              "    <tr>\n",
              "      <th>3528</th>\n",
              "      <td>1724</td>\n",
              "      <td>1724</td>\n",
              "      <td>1420</td>\n",
              "      <td>sp-3401</td>\n",
              "      <td>Petruchio</td>\n",
              "      <td>NaN</td>\n",
              "      <td>1420</td>\n",
              "      <td>5</td>\n",
              "      <td>4</td>\n",
              "      <td>Let’s in , and drink of all hands , and be jov...</td>\n",
              "      <td>...</td>\n",
              "      <td>0.0</td>\n",
              "      <td>M</td>\n",
              "      <td>[]</td>\n",
              "      <td>[]</td>\n",
              "      <td>0.0</td>\n",
              "      <td>0.0</td>\n",
              "      <td>him</td>\n",
              "      <td>him</td>\n",
              "      <td>NaN</td>\n",
              "      <td>[let, drink, have, carry, marry, let, keep]</td>\n",
              "    </tr>\n",
              "    <tr>\n",
              "      <th>3529</th>\n",
              "      <td>1724</td>\n",
              "      <td>1724</td>\n",
              "      <td>1420</td>\n",
              "      <td>sp-3401</td>\n",
              "      <td>Petruchio</td>\n",
              "      <td>NaN</td>\n",
              "      <td>1420</td>\n",
              "      <td>5</td>\n",
              "      <td>4</td>\n",
              "      <td>Let’s in , and drink of all hands , and be jov...</td>\n",
              "      <td>...</td>\n",
              "      <td>0.0</td>\n",
              "      <td>M</td>\n",
              "      <td>[]</td>\n",
              "      <td>[]</td>\n",
              "      <td>0.0</td>\n",
              "      <td>0.0</td>\n",
              "      <td>he</td>\n",
              "      <td>he</td>\n",
              "      <td>NaN</td>\n",
              "      <td>[let, drink, have, carry, marry, let, keep]</td>\n",
              "    </tr>\n",
              "    <tr>\n",
              "      <th>3530</th>\n",
              "      <td>1725</td>\n",
              "      <td>1725</td>\n",
              "      <td>1421</td>\n",
              "      <td>stg-3404</td>\n",
              "      <td>NaN</td>\n",
              "      <td>exit</td>\n",
              "      <td>1421</td>\n",
              "      <td>5</td>\n",
              "      <td>4</td>\n",
              "      <td>Exeunt .</td>\n",
              "      <td>...</td>\n",
              "      <td>0.0</td>\n",
              "      <td>NaN</td>\n",
              "      <td>[]</td>\n",
              "      <td>[]</td>\n",
              "      <td>0.0</td>\n",
              "      <td>0.0</td>\n",
              "      <td>NaN</td>\n",
              "      <td>NaN</td>\n",
              "      <td>NaN</td>\n",
              "      <td>[]</td>\n",
              "    </tr>\n",
              "  </tbody>\n",
              "</table>\n",
              "<p>3531 rows × 27 columns</p>\n",
              "</div>\n",
              "      <button class=\"colab-df-convert\" onclick=\"convertToInteractive('df-c9baaa25-a6a2-4d87-a6d7-b65bf8fb614c')\"\n",
              "              title=\"Convert this dataframe to an interactive table.\"\n",
              "              style=\"display:none;\">\n",
              "        \n",
              "  <svg xmlns=\"http://www.w3.org/2000/svg\" height=\"24px\"viewBox=\"0 0 24 24\"\n",
              "       width=\"24px\">\n",
              "    <path d=\"M0 0h24v24H0V0z\" fill=\"none\"/>\n",
              "    <path d=\"M18.56 5.44l.94 2.06.94-2.06 2.06-.94-2.06-.94-.94-2.06-.94 2.06-2.06.94zm-11 1L8.5 8.5l.94-2.06 2.06-.94-2.06-.94L8.5 2.5l-.94 2.06-2.06.94zm10 10l.94 2.06.94-2.06 2.06-.94-2.06-.94-.94-2.06-.94 2.06-2.06.94z\"/><path d=\"M17.41 7.96l-1.37-1.37c-.4-.4-.92-.59-1.43-.59-.52 0-1.04.2-1.43.59L10.3 9.45l-7.72 7.72c-.78.78-.78 2.05 0 2.83L4 21.41c.39.39.9.59 1.41.59.51 0 1.02-.2 1.41-.59l7.78-7.78 2.81-2.81c.8-.78.8-2.07 0-2.86zM5.41 20L4 18.59l7.72-7.72 1.47 1.35L5.41 20z\"/>\n",
              "  </svg>\n",
              "      </button>\n",
              "      \n",
              "  <style>\n",
              "    .colab-df-container {\n",
              "      display:flex;\n",
              "      flex-wrap:wrap;\n",
              "      gap: 12px;\n",
              "    }\n",
              "\n",
              "    .colab-df-convert {\n",
              "      background-color: #E8F0FE;\n",
              "      border: none;\n",
              "      border-radius: 50%;\n",
              "      cursor: pointer;\n",
              "      display: none;\n",
              "      fill: #1967D2;\n",
              "      height: 32px;\n",
              "      padding: 0 0 0 0;\n",
              "      width: 32px;\n",
              "    }\n",
              "\n",
              "    .colab-df-convert:hover {\n",
              "      background-color: #E2EBFA;\n",
              "      box-shadow: 0px 1px 2px rgba(60, 64, 67, 0.3), 0px 1px 3px 1px rgba(60, 64, 67, 0.15);\n",
              "      fill: #174EA6;\n",
              "    }\n",
              "\n",
              "    [theme=dark] .colab-df-convert {\n",
              "      background-color: #3B4455;\n",
              "      fill: #D2E3FC;\n",
              "    }\n",
              "\n",
              "    [theme=dark] .colab-df-convert:hover {\n",
              "      background-color: #434B5C;\n",
              "      box-shadow: 0px 1px 3px 1px rgba(0, 0, 0, 0.15);\n",
              "      filter: drop-shadow(0px 1px 2px rgba(0, 0, 0, 0.3));\n",
              "      fill: #FFFFFF;\n",
              "    }\n",
              "  </style>\n",
              "\n",
              "      <script>\n",
              "        const buttonEl =\n",
              "          document.querySelector('#df-c9baaa25-a6a2-4d87-a6d7-b65bf8fb614c button.colab-df-convert');\n",
              "        buttonEl.style.display =\n",
              "          google.colab.kernel.accessAllowed ? 'block' : 'none';\n",
              "\n",
              "        async function convertToInteractive(key) {\n",
              "          const element = document.querySelector('#df-c9baaa25-a6a2-4d87-a6d7-b65bf8fb614c');\n",
              "          const dataTable =\n",
              "            await google.colab.kernel.invokeFunction('convertToInteractive',\n",
              "                                                     [key], {});\n",
              "          if (!dataTable) return;\n",
              "\n",
              "          const docLinkHtml = 'Like what you see? Visit the ' +\n",
              "            '<a target=\"_blank\" href=https://colab.research.google.com/notebooks/data_table.ipynb>data table notebook</a>'\n",
              "            + ' to learn more about interactive tables.';\n",
              "          element.innerHTML = '';\n",
              "          dataTable['output_type'] = 'display_data';\n",
              "          await google.colab.output.renderOutput(dataTable, element);\n",
              "          const docLink = document.createElement('div');\n",
              "          docLink.innerHTML = docLinkHtml;\n",
              "          element.appendChild(docLink);\n",
              "        }\n",
              "      </script>\n",
              "    </div>\n",
              "  </div>\n",
              "  "
            ]
          },
          "metadata": {},
          "execution_count": 2
        }
      ]
    },
    {
      "cell_type": "code",
      "source": [
        "#for Maria specifically'\n",
        "\n",
        "verb_lemma_list_maria = []\n",
        "\n",
        "for index, row in df_taming.iterrows():\n",
        "  if row['speaker'] == 'Maria':\n",
        "      for word in row['verb_lemmas_sentence']:\n",
        "        verb_lemma_list_maria.append(word)\n",
        "\n",
        "ma = {}\n",
        "for item in verb_lemma_list_maria:\n",
        "    ma[item] = ma.get(item, 0) + 1\n",
        "\n",
        "sorted_ma_verbs_by_freq = sorted(ma.items(), key=lambda x:x[1])"
      ],
      "metadata": {
        "id": "svTSBbqe8s0N"
      },
      "execution_count": null,
      "outputs": []
    },
    {
      "cell_type": "code",
      "source": [
        "print(sorted_ma_verbs_by_freq[239:249])"
      ],
      "metadata": {
        "colab": {
          "base_uri": "https://localhost:8080/"
        },
        "id": "cEonQ1yL84Et",
        "outputId": "92a4f460-073e-4c4e-c6e7-4e0c01ef5454"
      },
      "execution_count": null,
      "outputs": [
        {
          "output_type": "stream",
          "name": "stdout",
          "text": [
            "[('go', 66), ('’', 67), ('give', 68), ('do', 69), ('bear', 79), ('love', 90), ('take', 101), ('know', 120), ('have', 151), ('make', 197)]\n"
          ]
        }
      ]
    },
    {
      "cell_type": "code",
      "source": [
        "#for Maria specifically for act 1\n",
        "#why isn't this working now...\n",
        "\n",
        "verb_lemma_list_maria = []\n",
        "for index, row in df_taming.iterrows():\n",
        "  if row['speaker'] == 'Maria' and row['act'] =='5':\n",
        "      for word in row['verb_lemmas_sentence']:\n",
        "        verb_lemma_list_maria.append(word)\n",
        "\n",
        "ma = {}\n",
        "for item in verb_lemma_list_maria:\n",
        "    ma[item] = ma.get(item, 0) + 1\n",
        "\n",
        "sorted_ma_verbs_by_freq = sorted(ma.items(), key=lambda x:x[1])"
      ],
      "metadata": {
        "id": "mrRS9NB19GTk"
      },
      "execution_count": null,
      "outputs": []
    },
    {
      "cell_type": "code",
      "source": [
        "#df_taming_maria = df_taming['speaker'] == 'Maria'\n",
        "\n",
        "df_taming_maria = df_taming.loc[df_taming['speaker']=='Maria']\n",
        "df_taming_maria_act1 = df_taming_maria.loc[df_taming_maria['act']==1]\n",
        "#df_taming_maria_act1 = df_taming_maria['act'] == '1'\n",
        "\n",
        "#why won't this work??"
      ],
      "metadata": {
        "id": "94psLkaC-uTK"
      },
      "execution_count": null,
      "outputs": []
    },
    {
      "cell_type": "code",
      "source": [
        "df_taming_maria['act']==1"
      ],
      "metadata": {
        "colab": {
          "base_uri": "https://localhost:8080/"
        },
        "id": "eA0-RVgizeAf",
        "outputId": "dbf00f2d-1efb-498e-b888-0905f8eb7dab"
      },
      "execution_count": null,
      "outputs": [
        {
          "output_type": "execute_result",
          "data": {
            "text/plain": [
              "197      True\n",
              "199      True\n",
              "202      True\n",
              "203      True\n",
              "204      True\n",
              "        ...  \n",
              "3470    False\n",
              "3471    False\n",
              "3472    False\n",
              "3473    False\n",
              "3474    False\n",
              "Name: act, Length: 572, dtype: bool"
            ]
          },
          "metadata": {},
          "execution_count": 16
        }
      ]
    },
    {
      "cell_type": "code",
      "source": [
        "df_taming_maria_act1 "
      ],
      "metadata": {
        "colab": {
          "base_uri": "https://localhost:8080/",
          "height": 1000
        },
        "id": "KAHjMUlg_WoA",
        "outputId": "4015295a-686a-4987-c5bd-476e80f89dbf"
      },
      "execution_count": null,
      "outputs": [
        {
          "output_type": "execute_result",
          "data": {
            "text/plain": [
              "     Unnamed: 0  Unnamed: 0.1  index       id speaker direction_type  \\\n",
              "197         103           103     80  sp-0193   Maria            NaN   \n",
              "199         105           105     82  sp-0195   Maria            NaN   \n",
              "202         108           108     84  sp-0198   Maria            NaN   \n",
              "203         108           108     84  sp-0198   Maria            NaN   \n",
              "204         108           108     84  sp-0198   Maria            NaN   \n",
              "..          ...           ...    ...      ...     ...            ...   \n",
              "792         360           360    289  sp-0685   Maria            NaN   \n",
              "793         360           360    289  sp-0685   Maria            NaN   \n",
              "794         360           360    289  sp-0685   Maria            NaN   \n",
              "795         360           360    289  sp-0685   Maria            NaN   \n",
              "796         360           360    289  sp-0685   Maria            NaN   \n",
              "\n",
              "     position  act  scene                                               text  \\\n",
              "197        80    1      2                             Stay , shall I do it ?   \n",
              "199        82    1      2                                I never showed it .   \n",
              "202        84    1      2  I am perfect , Like Curtius to redeem my Count...   \n",
              "203        84    1      2  I am perfect , Like Curtius to redeem my Count...   \n",
              "204        84    1      2  I am perfect , Like Curtius to redeem my Count...   \n",
              "..        ...  ...    ...                                                ...   \n",
              "792       289    1      3  And i’ll quarter if I do not , I’ll make you k...   \n",
              "793       289    1      3  And i’ll quarter if I do not , I’ll make you k...   \n",
              "794       289    1      3  And i’ll quarter if I do not , I’ll make you k...   \n",
              "795       289    1      3  And i’ll quarter if I do not , I’ll make you k...   \n",
              "796       289    1      3  And i’ll quarter if I do not , I’ll make you k...   \n",
              "\n",
              "     ... power_theme speaker_gender  character_list  sd_gender  \\\n",
              "197  ...         0.0              F              []         []   \n",
              "199  ...         0.0              F              []         []   \n",
              "202  ...         0.0              F              []         []   \n",
              "203  ...         0.0              F              []         []   \n",
              "204  ...         0.0              F              []         []   \n",
              "..   ...         ...            ...             ...        ...   \n",
              "792  ...         3.0              F              []         []   \n",
              "793  ...         3.0              F              []         []   \n",
              "794  ...         3.0              F              []         []   \n",
              "795  ...         3.0              F              []         []   \n",
              "796  ...         3.0              F              []         []   \n",
              "\n",
              "     male_gender_count  female_gender_count  subjects  male_subject_match  \\\n",
              "197                0.0                  0.0         I                 NaN   \n",
              "199                0.0                  0.0         I                 NaN   \n",
              "202                0.0                  0.0         I                 NaN   \n",
              "203                0.0                  0.0   Curtius                 NaN   \n",
              "204                0.0                  0.0         I                 NaN   \n",
              "..                 ...                  ...       ...                 ...   \n",
              "792                0.0                  0.0     woman                 NaN   \n",
              "793                0.0                  0.0       she                 NaN   \n",
              "794                0.0                  0.0         I                 NaN   \n",
              "795                0.0                  0.0      what                 NaN   \n",
              "796                0.0                  0.0        Ye                 NaN   \n",
              "\n",
              "    female_subject_match                               verb_lemmas_sentence  \n",
              "197                  NaN                                         [stay, do]  \n",
              "199                  NaN                                             [show]  \n",
              "202                  NaN                                 [redeem, leap, do]  \n",
              "203                  NaN                                 [redeem, leap, do]  \n",
              "204                  NaN                                 [redeem, leap, do]  \n",
              "..                   ...                                                ...  \n",
              "792                woman  [bear, fear, take, tame, look, believe, think,...  \n",
              "793                  she  [bear, fear, take, tame, look, believe, think,...  \n",
              "794                  NaN  [bear, fear, take, tame, look, believe, think,...  \n",
              "795                  NaN  [bear, fear, take, tame, look, believe, think,...  \n",
              "796                  NaN  [bear, fear, take, tame, look, believe, think,...  \n",
              "\n",
              "[198 rows x 27 columns]"
            ],
            "text/html": [
              "\n",
              "  <div id=\"df-6416416f-93f9-4820-9dd2-ff12a4f34756\">\n",
              "    <div class=\"colab-df-container\">\n",
              "      <div>\n",
              "<style scoped>\n",
              "    .dataframe tbody tr th:only-of-type {\n",
              "        vertical-align: middle;\n",
              "    }\n",
              "\n",
              "    .dataframe tbody tr th {\n",
              "        vertical-align: top;\n",
              "    }\n",
              "\n",
              "    .dataframe thead th {\n",
              "        text-align: right;\n",
              "    }\n",
              "</style>\n",
              "<table border=\"1\" class=\"dataframe\">\n",
              "  <thead>\n",
              "    <tr style=\"text-align: right;\">\n",
              "      <th></th>\n",
              "      <th>Unnamed: 0</th>\n",
              "      <th>Unnamed: 0.1</th>\n",
              "      <th>index</th>\n",
              "      <th>id</th>\n",
              "      <th>speaker</th>\n",
              "      <th>direction_type</th>\n",
              "      <th>position</th>\n",
              "      <th>act</th>\n",
              "      <th>scene</th>\n",
              "      <th>text</th>\n",
              "      <th>...</th>\n",
              "      <th>power_theme</th>\n",
              "      <th>speaker_gender</th>\n",
              "      <th>character_list</th>\n",
              "      <th>sd_gender</th>\n",
              "      <th>male_gender_count</th>\n",
              "      <th>female_gender_count</th>\n",
              "      <th>subjects</th>\n",
              "      <th>male_subject_match</th>\n",
              "      <th>female_subject_match</th>\n",
              "      <th>verb_lemmas_sentence</th>\n",
              "    </tr>\n",
              "  </thead>\n",
              "  <tbody>\n",
              "    <tr>\n",
              "      <th>197</th>\n",
              "      <td>103</td>\n",
              "      <td>103</td>\n",
              "      <td>80</td>\n",
              "      <td>sp-0193</td>\n",
              "      <td>Maria</td>\n",
              "      <td>NaN</td>\n",
              "      <td>80</td>\n",
              "      <td>1</td>\n",
              "      <td>2</td>\n",
              "      <td>Stay , shall I do it ?</td>\n",
              "      <td>...</td>\n",
              "      <td>0.0</td>\n",
              "      <td>F</td>\n",
              "      <td>[]</td>\n",
              "      <td>[]</td>\n",
              "      <td>0.0</td>\n",
              "      <td>0.0</td>\n",
              "      <td>I</td>\n",
              "      <td>NaN</td>\n",
              "      <td>NaN</td>\n",
              "      <td>[stay, do]</td>\n",
              "    </tr>\n",
              "    <tr>\n",
              "      <th>199</th>\n",
              "      <td>105</td>\n",
              "      <td>105</td>\n",
              "      <td>82</td>\n",
              "      <td>sp-0195</td>\n",
              "      <td>Maria</td>\n",
              "      <td>NaN</td>\n",
              "      <td>82</td>\n",
              "      <td>1</td>\n",
              "      <td>2</td>\n",
              "      <td>I never showed it .</td>\n",
              "      <td>...</td>\n",
              "      <td>0.0</td>\n",
              "      <td>F</td>\n",
              "      <td>[]</td>\n",
              "      <td>[]</td>\n",
              "      <td>0.0</td>\n",
              "      <td>0.0</td>\n",
              "      <td>I</td>\n",
              "      <td>NaN</td>\n",
              "      <td>NaN</td>\n",
              "      <td>[show]</td>\n",
              "    </tr>\n",
              "    <tr>\n",
              "      <th>202</th>\n",
              "      <td>108</td>\n",
              "      <td>108</td>\n",
              "      <td>84</td>\n",
              "      <td>sp-0198</td>\n",
              "      <td>Maria</td>\n",
              "      <td>NaN</td>\n",
              "      <td>84</td>\n",
              "      <td>1</td>\n",
              "      <td>2</td>\n",
              "      <td>I am perfect , Like Curtius to redeem my Count...</td>\n",
              "      <td>...</td>\n",
              "      <td>0.0</td>\n",
              "      <td>F</td>\n",
              "      <td>[]</td>\n",
              "      <td>[]</td>\n",
              "      <td>0.0</td>\n",
              "      <td>0.0</td>\n",
              "      <td>I</td>\n",
              "      <td>NaN</td>\n",
              "      <td>NaN</td>\n",
              "      <td>[redeem, leap, do]</td>\n",
              "    </tr>\n",
              "    <tr>\n",
              "      <th>203</th>\n",
              "      <td>108</td>\n",
              "      <td>108</td>\n",
              "      <td>84</td>\n",
              "      <td>sp-0198</td>\n",
              "      <td>Maria</td>\n",
              "      <td>NaN</td>\n",
              "      <td>84</td>\n",
              "      <td>1</td>\n",
              "      <td>2</td>\n",
              "      <td>I am perfect , Like Curtius to redeem my Count...</td>\n",
              "      <td>...</td>\n",
              "      <td>0.0</td>\n",
              "      <td>F</td>\n",
              "      <td>[]</td>\n",
              "      <td>[]</td>\n",
              "      <td>0.0</td>\n",
              "      <td>0.0</td>\n",
              "      <td>Curtius</td>\n",
              "      <td>NaN</td>\n",
              "      <td>NaN</td>\n",
              "      <td>[redeem, leap, do]</td>\n",
              "    </tr>\n",
              "    <tr>\n",
              "      <th>204</th>\n",
              "      <td>108</td>\n",
              "      <td>108</td>\n",
              "      <td>84</td>\n",
              "      <td>sp-0198</td>\n",
              "      <td>Maria</td>\n",
              "      <td>NaN</td>\n",
              "      <td>84</td>\n",
              "      <td>1</td>\n",
              "      <td>2</td>\n",
              "      <td>I am perfect , Like Curtius to redeem my Count...</td>\n",
              "      <td>...</td>\n",
              "      <td>0.0</td>\n",
              "      <td>F</td>\n",
              "      <td>[]</td>\n",
              "      <td>[]</td>\n",
              "      <td>0.0</td>\n",
              "      <td>0.0</td>\n",
              "      <td>I</td>\n",
              "      <td>NaN</td>\n",
              "      <td>NaN</td>\n",
              "      <td>[redeem, leap, do]</td>\n",
              "    </tr>\n",
              "    <tr>\n",
              "      <th>...</th>\n",
              "      <td>...</td>\n",
              "      <td>...</td>\n",
              "      <td>...</td>\n",
              "      <td>...</td>\n",
              "      <td>...</td>\n",
              "      <td>...</td>\n",
              "      <td>...</td>\n",
              "      <td>...</td>\n",
              "      <td>...</td>\n",
              "      <td>...</td>\n",
              "      <td>...</td>\n",
              "      <td>...</td>\n",
              "      <td>...</td>\n",
              "      <td>...</td>\n",
              "      <td>...</td>\n",
              "      <td>...</td>\n",
              "      <td>...</td>\n",
              "      <td>...</td>\n",
              "      <td>...</td>\n",
              "      <td>...</td>\n",
              "      <td>...</td>\n",
              "    </tr>\n",
              "    <tr>\n",
              "      <th>792</th>\n",
              "      <td>360</td>\n",
              "      <td>360</td>\n",
              "      <td>289</td>\n",
              "      <td>sp-0685</td>\n",
              "      <td>Maria</td>\n",
              "      <td>NaN</td>\n",
              "      <td>289</td>\n",
              "      <td>1</td>\n",
              "      <td>3</td>\n",
              "      <td>And i’ll quarter if I do not , I’ll make you k...</td>\n",
              "      <td>...</td>\n",
              "      <td>3.0</td>\n",
              "      <td>F</td>\n",
              "      <td>[]</td>\n",
              "      <td>[]</td>\n",
              "      <td>0.0</td>\n",
              "      <td>0.0</td>\n",
              "      <td>woman</td>\n",
              "      <td>NaN</td>\n",
              "      <td>woman</td>\n",
              "      <td>[bear, fear, take, tame, look, believe, think,...</td>\n",
              "    </tr>\n",
              "    <tr>\n",
              "      <th>793</th>\n",
              "      <td>360</td>\n",
              "      <td>360</td>\n",
              "      <td>289</td>\n",
              "      <td>sp-0685</td>\n",
              "      <td>Maria</td>\n",
              "      <td>NaN</td>\n",
              "      <td>289</td>\n",
              "      <td>1</td>\n",
              "      <td>3</td>\n",
              "      <td>And i’ll quarter if I do not , I’ll make you k...</td>\n",
              "      <td>...</td>\n",
              "      <td>3.0</td>\n",
              "      <td>F</td>\n",
              "      <td>[]</td>\n",
              "      <td>[]</td>\n",
              "      <td>0.0</td>\n",
              "      <td>0.0</td>\n",
              "      <td>she</td>\n",
              "      <td>NaN</td>\n",
              "      <td>she</td>\n",
              "      <td>[bear, fear, take, tame, look, believe, think,...</td>\n",
              "    </tr>\n",
              "    <tr>\n",
              "      <th>794</th>\n",
              "      <td>360</td>\n",
              "      <td>360</td>\n",
              "      <td>289</td>\n",
              "      <td>sp-0685</td>\n",
              "      <td>Maria</td>\n",
              "      <td>NaN</td>\n",
              "      <td>289</td>\n",
              "      <td>1</td>\n",
              "      <td>3</td>\n",
              "      <td>And i’ll quarter if I do not , I’ll make you k...</td>\n",
              "      <td>...</td>\n",
              "      <td>3.0</td>\n",
              "      <td>F</td>\n",
              "      <td>[]</td>\n",
              "      <td>[]</td>\n",
              "      <td>0.0</td>\n",
              "      <td>0.0</td>\n",
              "      <td>I</td>\n",
              "      <td>NaN</td>\n",
              "      <td>NaN</td>\n",
              "      <td>[bear, fear, take, tame, look, believe, think,...</td>\n",
              "    </tr>\n",
              "    <tr>\n",
              "      <th>795</th>\n",
              "      <td>360</td>\n",
              "      <td>360</td>\n",
              "      <td>289</td>\n",
              "      <td>sp-0685</td>\n",
              "      <td>Maria</td>\n",
              "      <td>NaN</td>\n",
              "      <td>289</td>\n",
              "      <td>1</td>\n",
              "      <td>3</td>\n",
              "      <td>And i’ll quarter if I do not , I’ll make you k...</td>\n",
              "      <td>...</td>\n",
              "      <td>3.0</td>\n",
              "      <td>F</td>\n",
              "      <td>[]</td>\n",
              "      <td>[]</td>\n",
              "      <td>0.0</td>\n",
              "      <td>0.0</td>\n",
              "      <td>what</td>\n",
              "      <td>NaN</td>\n",
              "      <td>NaN</td>\n",
              "      <td>[bear, fear, take, tame, look, believe, think,...</td>\n",
              "    </tr>\n",
              "    <tr>\n",
              "      <th>796</th>\n",
              "      <td>360</td>\n",
              "      <td>360</td>\n",
              "      <td>289</td>\n",
              "      <td>sp-0685</td>\n",
              "      <td>Maria</td>\n",
              "      <td>NaN</td>\n",
              "      <td>289</td>\n",
              "      <td>1</td>\n",
              "      <td>3</td>\n",
              "      <td>And i’ll quarter if I do not , I’ll make you k...</td>\n",
              "      <td>...</td>\n",
              "      <td>3.0</td>\n",
              "      <td>F</td>\n",
              "      <td>[]</td>\n",
              "      <td>[]</td>\n",
              "      <td>0.0</td>\n",
              "      <td>0.0</td>\n",
              "      <td>Ye</td>\n",
              "      <td>NaN</td>\n",
              "      <td>NaN</td>\n",
              "      <td>[bear, fear, take, tame, look, believe, think,...</td>\n",
              "    </tr>\n",
              "  </tbody>\n",
              "</table>\n",
              "<p>198 rows × 27 columns</p>\n",
              "</div>\n",
              "      <button class=\"colab-df-convert\" onclick=\"convertToInteractive('df-6416416f-93f9-4820-9dd2-ff12a4f34756')\"\n",
              "              title=\"Convert this dataframe to an interactive table.\"\n",
              "              style=\"display:none;\">\n",
              "        \n",
              "  <svg xmlns=\"http://www.w3.org/2000/svg\" height=\"24px\"viewBox=\"0 0 24 24\"\n",
              "       width=\"24px\">\n",
              "    <path d=\"M0 0h24v24H0V0z\" fill=\"none\"/>\n",
              "    <path d=\"M18.56 5.44l.94 2.06.94-2.06 2.06-.94-2.06-.94-.94-2.06-.94 2.06-2.06.94zm-11 1L8.5 8.5l.94-2.06 2.06-.94-2.06-.94L8.5 2.5l-.94 2.06-2.06.94zm10 10l.94 2.06.94-2.06 2.06-.94-2.06-.94-.94-2.06-.94 2.06-2.06.94z\"/><path d=\"M17.41 7.96l-1.37-1.37c-.4-.4-.92-.59-1.43-.59-.52 0-1.04.2-1.43.59L10.3 9.45l-7.72 7.72c-.78.78-.78 2.05 0 2.83L4 21.41c.39.39.9.59 1.41.59.51 0 1.02-.2 1.41-.59l7.78-7.78 2.81-2.81c.8-.78.8-2.07 0-2.86zM5.41 20L4 18.59l7.72-7.72 1.47 1.35L5.41 20z\"/>\n",
              "  </svg>\n",
              "      </button>\n",
              "      \n",
              "  <style>\n",
              "    .colab-df-container {\n",
              "      display:flex;\n",
              "      flex-wrap:wrap;\n",
              "      gap: 12px;\n",
              "    }\n",
              "\n",
              "    .colab-df-convert {\n",
              "      background-color: #E8F0FE;\n",
              "      border: none;\n",
              "      border-radius: 50%;\n",
              "      cursor: pointer;\n",
              "      display: none;\n",
              "      fill: #1967D2;\n",
              "      height: 32px;\n",
              "      padding: 0 0 0 0;\n",
              "      width: 32px;\n",
              "    }\n",
              "\n",
              "    .colab-df-convert:hover {\n",
              "      background-color: #E2EBFA;\n",
              "      box-shadow: 0px 1px 2px rgba(60, 64, 67, 0.3), 0px 1px 3px 1px rgba(60, 64, 67, 0.15);\n",
              "      fill: #174EA6;\n",
              "    }\n",
              "\n",
              "    [theme=dark] .colab-df-convert {\n",
              "      background-color: #3B4455;\n",
              "      fill: #D2E3FC;\n",
              "    }\n",
              "\n",
              "    [theme=dark] .colab-df-convert:hover {\n",
              "      background-color: #434B5C;\n",
              "      box-shadow: 0px 1px 3px 1px rgba(0, 0, 0, 0.15);\n",
              "      filter: drop-shadow(0px 1px 2px rgba(0, 0, 0, 0.3));\n",
              "      fill: #FFFFFF;\n",
              "    }\n",
              "  </style>\n",
              "\n",
              "      <script>\n",
              "        const buttonEl =\n",
              "          document.querySelector('#df-6416416f-93f9-4820-9dd2-ff12a4f34756 button.colab-df-convert');\n",
              "        buttonEl.style.display =\n",
              "          google.colab.kernel.accessAllowed ? 'block' : 'none';\n",
              "\n",
              "        async function convertToInteractive(key) {\n",
              "          const element = document.querySelector('#df-6416416f-93f9-4820-9dd2-ff12a4f34756');\n",
              "          const dataTable =\n",
              "            await google.colab.kernel.invokeFunction('convertToInteractive',\n",
              "                                                     [key], {});\n",
              "          if (!dataTable) return;\n",
              "\n",
              "          const docLinkHtml = 'Like what you see? Visit the ' +\n",
              "            '<a target=\"_blank\" href=https://colab.research.google.com/notebooks/data_table.ipynb>data table notebook</a>'\n",
              "            + ' to learn more about interactive tables.';\n",
              "          element.innerHTML = '';\n",
              "          dataTable['output_type'] = 'display_data';\n",
              "          await google.colab.output.renderOutput(dataTable, element);\n",
              "          const docLink = document.createElement('div');\n",
              "          docLink.innerHTML = docLinkHtml;\n",
              "          element.appendChild(docLink);\n",
              "        }\n",
              "      </script>\n",
              "    </div>\n",
              "  </div>\n",
              "  "
            ]
          },
          "metadata": {},
          "execution_count": 17
        }
      ]
    },
    {
      "cell_type": "code",
      "source": [
        "df_taming_maria"
      ],
      "metadata": {
        "colab": {
          "base_uri": "https://localhost:8080/",
          "height": 1000
        },
        "id": "CU-sBHj4_Y2_",
        "outputId": "2c30bf93-fe47-4e3b-e161-ce418d5261c7"
      },
      "execution_count": null,
      "outputs": [
        {
          "output_type": "execute_result",
          "data": {
            "text/plain": [
              "      Unnamed: 0  Unnamed: 0.1  index       id speaker direction_type  \\\n",
              "197          103           103     80  sp-0193   Maria            NaN   \n",
              "199          105           105     82  sp-0195   Maria            NaN   \n",
              "202          108           108     84  sp-0198   Maria            NaN   \n",
              "203          108           108     84  sp-0198   Maria            NaN   \n",
              "204          108           108     84  sp-0198   Maria            NaN   \n",
              "...          ...           ...    ...      ...     ...            ...   \n",
              "3470        1696          1696   1395  sp-3352   Maria            NaN   \n",
              "3471        1696          1696   1395  sp-3352   Maria            NaN   \n",
              "3472        1696          1696   1395  sp-3352   Maria            NaN   \n",
              "3473        1696          1696   1395  sp-3352   Maria            NaN   \n",
              "3474        1696          1696   1395  sp-3352   Maria            NaN   \n",
              "\n",
              "      position  act  scene                                               text  \\\n",
              "197         80    1      2                             Stay , shall I do it ?   \n",
              "199         82    1      2                                I never showed it .   \n",
              "202         84    1      2  I am perfect , Like Curtius to redeem my Count...   \n",
              "203         84    1      2  I am perfect , Like Curtius to redeem my Count...   \n",
              "204         84    1      2  I am perfect , Like Curtius to redeem my Count...   \n",
              "...        ...  ...    ...                                                ...   \n",
              "3470      1395    5      4  As I am honest , And as I am a maid yet , all ...   \n",
              "3471      1395    5      4  As I am honest , And as I am a maid yet , all ...   \n",
              "3472      1395    5      4  As I am honest , And as I am a maid yet , all ...   \n",
              "3473      1395    5      4  As I am honest , And as I am a maid yet , all ...   \n",
              "3474      1395    5      4  As I am honest , And as I am a maid yet , all ...   \n",
              "\n",
              "      ... power_theme speaker_gender  character_list  sd_gender  \\\n",
              "197   ...         0.0              F              []         []   \n",
              "199   ...         0.0              F              []         []   \n",
              "202   ...         0.0              F              []         []   \n",
              "203   ...         0.0              F              []         []   \n",
              "204   ...         0.0              F              []         []   \n",
              "...   ...         ...            ...             ...        ...   \n",
              "3470  ...         0.0              F              []         []   \n",
              "3471  ...         0.0              F              []         []   \n",
              "3472  ...         0.0              F              []         []   \n",
              "3473  ...         0.0              F              []         []   \n",
              "3474  ...         0.0              F              []         []   \n",
              "\n",
              "      male_gender_count  female_gender_count  subjects  male_subject_match  \\\n",
              "197                 0.0                  0.0         I                 NaN   \n",
              "199                 0.0                  0.0         I                 NaN   \n",
              "202                 0.0                  0.0         I                 NaN   \n",
              "203                 0.0                  0.0   Curtius                 NaN   \n",
              "204                 0.0                  0.0         I                 NaN   \n",
              "...                 ...                  ...       ...                 ...   \n",
              "3470                0.0                  0.0         I                 NaN   \n",
              "3471                0.0                  0.0         I                 NaN   \n",
              "3472                0.0                  0.0      life                 NaN   \n",
              "3473                0.0                  0.0        ye                 NaN   \n",
              "3474                0.0                  0.0         I                 NaN   \n",
              "\n",
              "     female_subject_match verb_lemmas_sentence  \n",
              "197                   NaN           [stay, do]  \n",
              "199                   NaN               [show]  \n",
              "202                   NaN   [redeem, leap, do]  \n",
              "203                   NaN   [redeem, leap, do]  \n",
              "204                   NaN   [redeem, leap, do]  \n",
              "...                   ...                  ...  \n",
              "3470                  NaN     [make, dedicate]  \n",
              "3471                  NaN     [make, dedicate]  \n",
              "3472                  NaN     [make, dedicate]  \n",
              "3473                  NaN     [make, dedicate]  \n",
              "3474                  NaN     [make, dedicate]  \n",
              "\n",
              "[572 rows x 27 columns]"
            ],
            "text/html": [
              "\n",
              "  <div id=\"df-775530e9-2095-4220-87a7-5f187affdbc8\">\n",
              "    <div class=\"colab-df-container\">\n",
              "      <div>\n",
              "<style scoped>\n",
              "    .dataframe tbody tr th:only-of-type {\n",
              "        vertical-align: middle;\n",
              "    }\n",
              "\n",
              "    .dataframe tbody tr th {\n",
              "        vertical-align: top;\n",
              "    }\n",
              "\n",
              "    .dataframe thead th {\n",
              "        text-align: right;\n",
              "    }\n",
              "</style>\n",
              "<table border=\"1\" class=\"dataframe\">\n",
              "  <thead>\n",
              "    <tr style=\"text-align: right;\">\n",
              "      <th></th>\n",
              "      <th>Unnamed: 0</th>\n",
              "      <th>Unnamed: 0.1</th>\n",
              "      <th>index</th>\n",
              "      <th>id</th>\n",
              "      <th>speaker</th>\n",
              "      <th>direction_type</th>\n",
              "      <th>position</th>\n",
              "      <th>act</th>\n",
              "      <th>scene</th>\n",
              "      <th>text</th>\n",
              "      <th>...</th>\n",
              "      <th>power_theme</th>\n",
              "      <th>speaker_gender</th>\n",
              "      <th>character_list</th>\n",
              "      <th>sd_gender</th>\n",
              "      <th>male_gender_count</th>\n",
              "      <th>female_gender_count</th>\n",
              "      <th>subjects</th>\n",
              "      <th>male_subject_match</th>\n",
              "      <th>female_subject_match</th>\n",
              "      <th>verb_lemmas_sentence</th>\n",
              "    </tr>\n",
              "  </thead>\n",
              "  <tbody>\n",
              "    <tr>\n",
              "      <th>197</th>\n",
              "      <td>103</td>\n",
              "      <td>103</td>\n",
              "      <td>80</td>\n",
              "      <td>sp-0193</td>\n",
              "      <td>Maria</td>\n",
              "      <td>NaN</td>\n",
              "      <td>80</td>\n",
              "      <td>1</td>\n",
              "      <td>2</td>\n",
              "      <td>Stay , shall I do it ?</td>\n",
              "      <td>...</td>\n",
              "      <td>0.0</td>\n",
              "      <td>F</td>\n",
              "      <td>[]</td>\n",
              "      <td>[]</td>\n",
              "      <td>0.0</td>\n",
              "      <td>0.0</td>\n",
              "      <td>I</td>\n",
              "      <td>NaN</td>\n",
              "      <td>NaN</td>\n",
              "      <td>[stay, do]</td>\n",
              "    </tr>\n",
              "    <tr>\n",
              "      <th>199</th>\n",
              "      <td>105</td>\n",
              "      <td>105</td>\n",
              "      <td>82</td>\n",
              "      <td>sp-0195</td>\n",
              "      <td>Maria</td>\n",
              "      <td>NaN</td>\n",
              "      <td>82</td>\n",
              "      <td>1</td>\n",
              "      <td>2</td>\n",
              "      <td>I never showed it .</td>\n",
              "      <td>...</td>\n",
              "      <td>0.0</td>\n",
              "      <td>F</td>\n",
              "      <td>[]</td>\n",
              "      <td>[]</td>\n",
              "      <td>0.0</td>\n",
              "      <td>0.0</td>\n",
              "      <td>I</td>\n",
              "      <td>NaN</td>\n",
              "      <td>NaN</td>\n",
              "      <td>[show]</td>\n",
              "    </tr>\n",
              "    <tr>\n",
              "      <th>202</th>\n",
              "      <td>108</td>\n",
              "      <td>108</td>\n",
              "      <td>84</td>\n",
              "      <td>sp-0198</td>\n",
              "      <td>Maria</td>\n",
              "      <td>NaN</td>\n",
              "      <td>84</td>\n",
              "      <td>1</td>\n",
              "      <td>2</td>\n",
              "      <td>I am perfect , Like Curtius to redeem my Count...</td>\n",
              "      <td>...</td>\n",
              "      <td>0.0</td>\n",
              "      <td>F</td>\n",
              "      <td>[]</td>\n",
              "      <td>[]</td>\n",
              "      <td>0.0</td>\n",
              "      <td>0.0</td>\n",
              "      <td>I</td>\n",
              "      <td>NaN</td>\n",
              "      <td>NaN</td>\n",
              "      <td>[redeem, leap, do]</td>\n",
              "    </tr>\n",
              "    <tr>\n",
              "      <th>203</th>\n",
              "      <td>108</td>\n",
              "      <td>108</td>\n",
              "      <td>84</td>\n",
              "      <td>sp-0198</td>\n",
              "      <td>Maria</td>\n",
              "      <td>NaN</td>\n",
              "      <td>84</td>\n",
              "      <td>1</td>\n",
              "      <td>2</td>\n",
              "      <td>I am perfect , Like Curtius to redeem my Count...</td>\n",
              "      <td>...</td>\n",
              "      <td>0.0</td>\n",
              "      <td>F</td>\n",
              "      <td>[]</td>\n",
              "      <td>[]</td>\n",
              "      <td>0.0</td>\n",
              "      <td>0.0</td>\n",
              "      <td>Curtius</td>\n",
              "      <td>NaN</td>\n",
              "      <td>NaN</td>\n",
              "      <td>[redeem, leap, do]</td>\n",
              "    </tr>\n",
              "    <tr>\n",
              "      <th>204</th>\n",
              "      <td>108</td>\n",
              "      <td>108</td>\n",
              "      <td>84</td>\n",
              "      <td>sp-0198</td>\n",
              "      <td>Maria</td>\n",
              "      <td>NaN</td>\n",
              "      <td>84</td>\n",
              "      <td>1</td>\n",
              "      <td>2</td>\n",
              "      <td>I am perfect , Like Curtius to redeem my Count...</td>\n",
              "      <td>...</td>\n",
              "      <td>0.0</td>\n",
              "      <td>F</td>\n",
              "      <td>[]</td>\n",
              "      <td>[]</td>\n",
              "      <td>0.0</td>\n",
              "      <td>0.0</td>\n",
              "      <td>I</td>\n",
              "      <td>NaN</td>\n",
              "      <td>NaN</td>\n",
              "      <td>[redeem, leap, do]</td>\n",
              "    </tr>\n",
              "    <tr>\n",
              "      <th>...</th>\n",
              "      <td>...</td>\n",
              "      <td>...</td>\n",
              "      <td>...</td>\n",
              "      <td>...</td>\n",
              "      <td>...</td>\n",
              "      <td>...</td>\n",
              "      <td>...</td>\n",
              "      <td>...</td>\n",
              "      <td>...</td>\n",
              "      <td>...</td>\n",
              "      <td>...</td>\n",
              "      <td>...</td>\n",
              "      <td>...</td>\n",
              "      <td>...</td>\n",
              "      <td>...</td>\n",
              "      <td>...</td>\n",
              "      <td>...</td>\n",
              "      <td>...</td>\n",
              "      <td>...</td>\n",
              "      <td>...</td>\n",
              "      <td>...</td>\n",
              "    </tr>\n",
              "    <tr>\n",
              "      <th>3470</th>\n",
              "      <td>1696</td>\n",
              "      <td>1696</td>\n",
              "      <td>1395</td>\n",
              "      <td>sp-3352</td>\n",
              "      <td>Maria</td>\n",
              "      <td>NaN</td>\n",
              "      <td>1395</td>\n",
              "      <td>5</td>\n",
              "      <td>4</td>\n",
              "      <td>As I am honest , And as I am a maid yet , all ...</td>\n",
              "      <td>...</td>\n",
              "      <td>0.0</td>\n",
              "      <td>F</td>\n",
              "      <td>[]</td>\n",
              "      <td>[]</td>\n",
              "      <td>0.0</td>\n",
              "      <td>0.0</td>\n",
              "      <td>I</td>\n",
              "      <td>NaN</td>\n",
              "      <td>NaN</td>\n",
              "      <td>[make, dedicate]</td>\n",
              "    </tr>\n",
              "    <tr>\n",
              "      <th>3471</th>\n",
              "      <td>1696</td>\n",
              "      <td>1696</td>\n",
              "      <td>1395</td>\n",
              "      <td>sp-3352</td>\n",
              "      <td>Maria</td>\n",
              "      <td>NaN</td>\n",
              "      <td>1395</td>\n",
              "      <td>5</td>\n",
              "      <td>4</td>\n",
              "      <td>As I am honest , And as I am a maid yet , all ...</td>\n",
              "      <td>...</td>\n",
              "      <td>0.0</td>\n",
              "      <td>F</td>\n",
              "      <td>[]</td>\n",
              "      <td>[]</td>\n",
              "      <td>0.0</td>\n",
              "      <td>0.0</td>\n",
              "      <td>I</td>\n",
              "      <td>NaN</td>\n",
              "      <td>NaN</td>\n",
              "      <td>[make, dedicate]</td>\n",
              "    </tr>\n",
              "    <tr>\n",
              "      <th>3472</th>\n",
              "      <td>1696</td>\n",
              "      <td>1696</td>\n",
              "      <td>1395</td>\n",
              "      <td>sp-3352</td>\n",
              "      <td>Maria</td>\n",
              "      <td>NaN</td>\n",
              "      <td>1395</td>\n",
              "      <td>5</td>\n",
              "      <td>4</td>\n",
              "      <td>As I am honest , And as I am a maid yet , all ...</td>\n",
              "      <td>...</td>\n",
              "      <td>0.0</td>\n",
              "      <td>F</td>\n",
              "      <td>[]</td>\n",
              "      <td>[]</td>\n",
              "      <td>0.0</td>\n",
              "      <td>0.0</td>\n",
              "      <td>life</td>\n",
              "      <td>NaN</td>\n",
              "      <td>NaN</td>\n",
              "      <td>[make, dedicate]</td>\n",
              "    </tr>\n",
              "    <tr>\n",
              "      <th>3473</th>\n",
              "      <td>1696</td>\n",
              "      <td>1696</td>\n",
              "      <td>1395</td>\n",
              "      <td>sp-3352</td>\n",
              "      <td>Maria</td>\n",
              "      <td>NaN</td>\n",
              "      <td>1395</td>\n",
              "      <td>5</td>\n",
              "      <td>4</td>\n",
              "      <td>As I am honest , And as I am a maid yet , all ...</td>\n",
              "      <td>...</td>\n",
              "      <td>0.0</td>\n",
              "      <td>F</td>\n",
              "      <td>[]</td>\n",
              "      <td>[]</td>\n",
              "      <td>0.0</td>\n",
              "      <td>0.0</td>\n",
              "      <td>ye</td>\n",
              "      <td>NaN</td>\n",
              "      <td>NaN</td>\n",
              "      <td>[make, dedicate]</td>\n",
              "    </tr>\n",
              "    <tr>\n",
              "      <th>3474</th>\n",
              "      <td>1696</td>\n",
              "      <td>1696</td>\n",
              "      <td>1395</td>\n",
              "      <td>sp-3352</td>\n",
              "      <td>Maria</td>\n",
              "      <td>NaN</td>\n",
              "      <td>1395</td>\n",
              "      <td>5</td>\n",
              "      <td>4</td>\n",
              "      <td>As I am honest , And as I am a maid yet , all ...</td>\n",
              "      <td>...</td>\n",
              "      <td>0.0</td>\n",
              "      <td>F</td>\n",
              "      <td>[]</td>\n",
              "      <td>[]</td>\n",
              "      <td>0.0</td>\n",
              "      <td>0.0</td>\n",
              "      <td>I</td>\n",
              "      <td>NaN</td>\n",
              "      <td>NaN</td>\n",
              "      <td>[make, dedicate]</td>\n",
              "    </tr>\n",
              "  </tbody>\n",
              "</table>\n",
              "<p>572 rows × 27 columns</p>\n",
              "</div>\n",
              "      <button class=\"colab-df-convert\" onclick=\"convertToInteractive('df-775530e9-2095-4220-87a7-5f187affdbc8')\"\n",
              "              title=\"Convert this dataframe to an interactive table.\"\n",
              "              style=\"display:none;\">\n",
              "        \n",
              "  <svg xmlns=\"http://www.w3.org/2000/svg\" height=\"24px\"viewBox=\"0 0 24 24\"\n",
              "       width=\"24px\">\n",
              "    <path d=\"M0 0h24v24H0V0z\" fill=\"none\"/>\n",
              "    <path d=\"M18.56 5.44l.94 2.06.94-2.06 2.06-.94-2.06-.94-.94-2.06-.94 2.06-2.06.94zm-11 1L8.5 8.5l.94-2.06 2.06-.94-2.06-.94L8.5 2.5l-.94 2.06-2.06.94zm10 10l.94 2.06.94-2.06 2.06-.94-2.06-.94-.94-2.06-.94 2.06-2.06.94z\"/><path d=\"M17.41 7.96l-1.37-1.37c-.4-.4-.92-.59-1.43-.59-.52 0-1.04.2-1.43.59L10.3 9.45l-7.72 7.72c-.78.78-.78 2.05 0 2.83L4 21.41c.39.39.9.59 1.41.59.51 0 1.02-.2 1.41-.59l7.78-7.78 2.81-2.81c.8-.78.8-2.07 0-2.86zM5.41 20L4 18.59l7.72-7.72 1.47 1.35L5.41 20z\"/>\n",
              "  </svg>\n",
              "      </button>\n",
              "      \n",
              "  <style>\n",
              "    .colab-df-container {\n",
              "      display:flex;\n",
              "      flex-wrap:wrap;\n",
              "      gap: 12px;\n",
              "    }\n",
              "\n",
              "    .colab-df-convert {\n",
              "      background-color: #E8F0FE;\n",
              "      border: none;\n",
              "      border-radius: 50%;\n",
              "      cursor: pointer;\n",
              "      display: none;\n",
              "      fill: #1967D2;\n",
              "      height: 32px;\n",
              "      padding: 0 0 0 0;\n",
              "      width: 32px;\n",
              "    }\n",
              "\n",
              "    .colab-df-convert:hover {\n",
              "      background-color: #E2EBFA;\n",
              "      box-shadow: 0px 1px 2px rgba(60, 64, 67, 0.3), 0px 1px 3px 1px rgba(60, 64, 67, 0.15);\n",
              "      fill: #174EA6;\n",
              "    }\n",
              "\n",
              "    [theme=dark] .colab-df-convert {\n",
              "      background-color: #3B4455;\n",
              "      fill: #D2E3FC;\n",
              "    }\n",
              "\n",
              "    [theme=dark] .colab-df-convert:hover {\n",
              "      background-color: #434B5C;\n",
              "      box-shadow: 0px 1px 3px 1px rgba(0, 0, 0, 0.15);\n",
              "      filter: drop-shadow(0px 1px 2px rgba(0, 0, 0, 0.3));\n",
              "      fill: #FFFFFF;\n",
              "    }\n",
              "  </style>\n",
              "\n",
              "      <script>\n",
              "        const buttonEl =\n",
              "          document.querySelector('#df-775530e9-2095-4220-87a7-5f187affdbc8 button.colab-df-convert');\n",
              "        buttonEl.style.display =\n",
              "          google.colab.kernel.accessAllowed ? 'block' : 'none';\n",
              "\n",
              "        async function convertToInteractive(key) {\n",
              "          const element = document.querySelector('#df-775530e9-2095-4220-87a7-5f187affdbc8');\n",
              "          const dataTable =\n",
              "            await google.colab.kernel.invokeFunction('convertToInteractive',\n",
              "                                                     [key], {});\n",
              "          if (!dataTable) return;\n",
              "\n",
              "          const docLinkHtml = 'Like what you see? Visit the ' +\n",
              "            '<a target=\"_blank\" href=https://colab.research.google.com/notebooks/data_table.ipynb>data table notebook</a>'\n",
              "            + ' to learn more about interactive tables.';\n",
              "          element.innerHTML = '';\n",
              "          dataTable['output_type'] = 'display_data';\n",
              "          await google.colab.output.renderOutput(dataTable, element);\n",
              "          const docLink = document.createElement('div');\n",
              "          docLink.innerHTML = docLinkHtml;\n",
              "          element.appendChild(docLink);\n",
              "        }\n",
              "      </script>\n",
              "    </div>\n",
              "  </div>\n",
              "  "
            ]
          },
          "metadata": {},
          "execution_count": 10
        }
      ]
    },
    {
      "cell_type": "code",
      "source": [
        "print(sorted_ma_verbs_by_freq[239:249])"
      ],
      "metadata": {
        "id": "h5CIGFkG9LCj"
      },
      "execution_count": null,
      "outputs": []
    },
    {
      "cell_type": "code",
      "source": [
        "#for Maria specifically'\n",
        "\n",
        "verb_lemma_list_maria = []\n",
        "\n",
        "for index, row in df_taming.iterrows():\n",
        "  if row['speaker'] == 'Maria' and row['act'] == 4:\n",
        "      for word in row['verb_lemmas_sentence']:\n",
        "        verb_lemma_list_maria.append(word)\n",
        "\n",
        "ma = {}\n",
        "for item in verb_lemma_list_maria:\n",
        "    ma[item] = ma.get(item, 0) + 1\n",
        "\n",
        "sorted_ma_verbs_by_freq = sorted(ma.items(), key=lambda x:x[1])"
      ],
      "metadata": {
        "id": "NzPJiwu89GuU"
      },
      "execution_count": null,
      "outputs": []
    },
    {
      "cell_type": "code",
      "source": [
        "print(sorted_ma_verbs_by_freq[104:114])"
      ],
      "metadata": {
        "colab": {
          "base_uri": "https://localhost:8080/"
        },
        "id": "PUVN5x-Pz3cw",
        "outputId": "9c979841-b174-4594-b109-1325803eeb78"
      },
      "execution_count": null,
      "outputs": [
        {
          "output_type": "stream",
          "name": "stdout",
          "text": [
            "[('look', 37), ('find', 37), ('dare', 39), ('go', 39), ('bear', 43), ('take', 46), ('make', 53), ('know', 62), ('have', 67), ('love', 74)]\n"
          ]
        }
      ]
    },
    {
      "cell_type": "code",
      "source": [
        "#for Maria specifically'\n",
        "\n",
        "verb_lemma_list_maria = []\n",
        "\n",
        "for index, row in df_taming.iterrows():\n",
        "  if row['speaker'] == 'Maria' and row['act'] == 1:\n",
        "      for word in row['verb_lemmas_sentence']:\n",
        "        verb_lemma_list_maria.append(word)\n",
        "\n",
        "ma = {}\n",
        "for item in verb_lemma_list_maria:\n",
        "    ma[item] = ma.get(item, 0) + 1\n",
        "\n",
        "sorted_ma_verbs_by_freq = sorted(ma.items(), key=lambda x:x[1])"
      ],
      "metadata": {
        "id": "gP3BZHyf9O1v"
      },
      "execution_count": null,
      "outputs": []
    },
    {
      "cell_type": "code",
      "source": [
        "print(sorted_ma_verbs_by_freq[115:125])"
      ],
      "metadata": {
        "colab": {
          "base_uri": "https://localhost:8080/"
        },
        "id": "dQgoNT-V0V4V",
        "outputId": "94030874-dcc9-4b4a-e6a2-db780f15973a"
      },
      "execution_count": null,
      "outputs": [
        {
          "output_type": "stream",
          "name": "stdout",
          "text": [
            "[('pull', 18), ('do', 19), ('believe', 19), ('give', 23), ('stay', 27), ('pay', 28), ('take', 30), ('know', 38), ('have', 43), ('make', 117)]\n"
          ]
        }
      ]
    },
    {
      "cell_type": "code",
      "source": [
        "#for Maria specifically'\n",
        "\n",
        "verb_lemma_list_maria = []\n",
        "\n",
        "for index, row in df_taming.iterrows():\n",
        "  if row['speaker'] == 'Maria' and row['act'] == 5:\n",
        "      for word in row['verb_lemmas_sentence']:\n",
        "        verb_lemma_list_maria.append(word)\n",
        "\n",
        "ma = {}\n",
        "for item in verb_lemma_list_maria:\n",
        "    ma[item] = ma.get(item, 0) + 1\n",
        "\n",
        "sorted_ma_verbs_by_freq = sorted(ma.items(), key=lambda x:x[1])"
      ],
      "metadata": {
        "id": "k7e3_Cjq9HSS"
      },
      "execution_count": null,
      "outputs": []
    },
    {
      "cell_type": "code",
      "source": [
        "print(sorted_ma_verbs_by_freq[32:42])"
      ],
      "metadata": {
        "colab": {
          "base_uri": "https://localhost:8080/"
        },
        "id": "FQFT3RSi0igH",
        "outputId": "75471363-5c63-4165-a9ae-d0b6f5cd9594"
      },
      "execution_count": null,
      "outputs": [
        {
          "output_type": "stream",
          "name": "stdout",
          "text": [
            "[('bear', 14), ('preserve', 14), ('deny', 14), ('raise', 14), ('make', 15), ('live', 18), ('have', 18), ('’', 23), ('weep', 28), ('mean', 28)]\n"
          ]
        }
      ]
    },
    {
      "cell_type": "code",
      "source": [
        "#for Maria specifically'\n",
        "\n",
        "verb_lemma_list_maria = []\n",
        "\n",
        "for index, row in df_taming.iterrows():\n",
        "  if row['speaker'] == 'Maria' and row['act'] == 2:\n",
        "      for word in row['verb_lemmas_sentence']:\n",
        "        verb_lemma_list_maria.append(word)\n",
        "\n",
        "ma = {}\n",
        "for item in verb_lemma_list_maria:\n",
        "    ma[item] = ma.get(item, 0) + 1\n",
        "\n",
        "sorted_ma_verbs_by_freq = sorted(ma.items(), key=lambda x:x[1])"
      ],
      "metadata": {
        "id": "xqoQy2KZ6213"
      },
      "execution_count": null,
      "outputs": []
    },
    {
      "cell_type": "code",
      "source": [
        "print(sorted_ma_verbs_by_freq[36:46])"
      ],
      "metadata": {
        "colab": {
          "base_uri": "https://localhost:8080/"
        },
        "id": "lnCjY7I565Ss",
        "outputId": "e3118cf2-9482-4574-f73d-13270afc3759"
      },
      "execution_count": null,
      "outputs": [
        {
          "output_type": "stream",
          "name": "stdout",
          "text": [
            "[('say', 10), ('seek', 10), ('make', 12), ('believe', 12), ('live', 12), ('take', 12), ('mean', 14), ('hear', 14), ('tis', 20), ('think', 21)]\n"
          ]
        }
      ]
    },
    {
      "cell_type": "code",
      "source": [
        "#for Bianca specifically'\n",
        "\n",
        "verb_lemma_list_bianca = []\n",
        "\n",
        "for index, row in df_taming.iterrows():\n",
        "  if row['speaker'] == 'Bianca' and row['act'] == 3:\n",
        "      for word in row['verb_lemmas_sentence']:\n",
        "        verb_lemma_list_bianca.append(word)\n",
        "\n",
        "bi = {}\n",
        "for item in verb_lemma_list_bianca:\n",
        "    bi[item] = bi.get(item, 0) + 1\n",
        "\n",
        "sorted_bi_verbs_by_freq = sorted(bi.items(), key=lambda x:x[1])"
      ],
      "metadata": {
        "id": "b4U_s7EO0ss2"
      },
      "execution_count": null,
      "outputs": []
    },
    {
      "cell_type": "code",
      "source": [
        "print(sorted_ma_verbs_by_freq[16:26])"
      ],
      "metadata": {
        "colab": {
          "base_uri": "https://localhost:8080/"
        },
        "id": "HSUad5nO06gw",
        "outputId": "b3e5258d-18fc-4dbb-d564-16f79473398e"
      },
      "execution_count": null,
      "outputs": [
        {
          "output_type": "stream",
          "name": "stdout",
          "text": [
            "[('tis', 6), ('cause', 6), ('grieve', 6), ('mistake', 8), ('defend', 8), ('wretche', 8), ('think', 8), ('die', 14), ('tell', 14), ('beget', 14)]\n"
          ]
        }
      ]
    },
    {
      "cell_type": "code",
      "source": [
        "#for Bianca specifically'\n",
        "\n",
        "verb_lemma_list_bianca = []\n",
        "\n",
        "for index, row in df_taming.iterrows():\n",
        "  if row['speaker'] == 'Bianca' and row['act'] == 1:\n",
        "      for word in row['verb_lemmas_sentence']:\n",
        "        verb_lemma_list_bianca.append(word)\n",
        "\n",
        "bi = {}\n",
        "for item in verb_lemma_list_bianca:\n",
        "    bi[item] = bi.get(item, 0) + 1\n",
        "\n",
        "sorted_bi_verbs_by_freq = sorted(bi.items(), key=lambda x:x[1])"
      ],
      "metadata": {
        "id": "OQux_zVT1IcI"
      },
      "execution_count": null,
      "outputs": []
    },
    {
      "cell_type": "code",
      "source": [
        "print(sorted_bi_verbs_by_freq[33:44])"
      ],
      "metadata": {
        "colab": {
          "base_uri": "https://localhost:8080/"
        },
        "id": "sqwMmZnn1KYi",
        "outputId": "c1b62de7-00ad-43e0-f576-489e588716ca"
      },
      "execution_count": null,
      "outputs": [
        {
          "output_type": "stream",
          "name": "stdout",
          "text": [
            "[('bind', 8), ('persuade', 8), ('yield', 8), ('think', 8), ('charge', 8), ('hear', 8), ('take', 9), ('say', 9), ('go', 11), ('please', 16), ('make', 17)]\n"
          ]
        }
      ]
    },
    {
      "cell_type": "code",
      "source": [
        "#for Bianca specifically'\n",
        "\n",
        "verb_lemma_list_bianca = []\n",
        "\n",
        "for index, row in df_taming.iterrows():\n",
        "  if row['speaker'] == 'Bianca':\n",
        "      for word in row['verb_lemmas_sentence']:\n",
        "        verb_lemma_list_bianca.append(word)\n",
        "\n",
        "bi = {}\n",
        "for item in verb_lemma_list_bianca:\n",
        "    bi[item] = bi.get(item, 0) + 1\n",
        "\n",
        "sorted_bi_verbs_by_freq = sorted(bi.items(), key=lambda x:x[1])"
      ],
      "metadata": {
        "id": "1FkrUBci1W9j"
      },
      "execution_count": null,
      "outputs": []
    },
    {
      "cell_type": "code",
      "source": [
        "print(sorted_bi_verbs_by_freq[147:157])"
      ],
      "metadata": {
        "colab": {
          "base_uri": "https://localhost:8080/"
        },
        "id": "Uu2e_UnH1n9z",
        "outputId": "67c855b2-ead0-4194-b4c4-495964c62317"
      },
      "execution_count": null,
      "outputs": [
        {
          "output_type": "stream",
          "name": "stdout",
          "text": [
            "[('know', 32), ('go', 35), ('’', 40), ('tell', 41), ('believe', 46), ('look', 48), ('think', 48), ('make', 49), ('do', 60), ('have', 69)]\n"
          ]
        }
      ]
    },
    {
      "cell_type": "code",
      "source": [
        "#for Petruchio specifically'\n",
        "\n",
        "verb_lemma_list_petruchio = []\n",
        "\n",
        "for index, row in df_taming.iterrows():\n",
        "  if row['speaker'] == 'Petruchio':\n",
        "      for word in row['verb_lemmas_sentence']:\n",
        "        verb_lemma_list_petruchio.append(word)\n",
        "\n",
        "p = {}\n",
        "for item in verb_lemma_list_petruchio:\n",
        "    p[item] = p.get(item, 0) + 1\n",
        "\n",
        "sorted_p_verbs_by_freq = sorted(p.items(), key=lambda x:x[1])"
      ],
      "metadata": {
        "id": "8dhivKlW2baO"
      },
      "execution_count": null,
      "outputs": []
    },
    {
      "cell_type": "code",
      "source": [
        "print(sorted_p_verbs_by_freq[275:285])"
      ],
      "metadata": {
        "colab": {
          "base_uri": "https://localhost:8080/"
        },
        "id": "KzLSVSvs2n7S",
        "outputId": "fa35359e-c4fe-4707-a06d-3374dc644419"
      },
      "execution_count": null,
      "outputs": [
        {
          "output_type": "stream",
          "name": "stdout",
          "text": [
            "[('tell', 66), ('go', 77), ('let', 78), ('come', 81), ('know', 92), ('think', 105), ('make', 122), ('do', 129), ('take', 133), ('have', 248)]\n"
          ]
        }
      ]
    },
    {
      "cell_type": "code",
      "source": [
        "#for Petruchio specifically'\n",
        "\n",
        "verb_lemma_list_petruchio = []\n",
        "\n",
        "for index, row in df_taming.iterrows():\n",
        "  if row['speaker'] == 'Petruchio' and row['act']== 3:\n",
        "      for word in row['verb_lemmas_sentence']:\n",
        "        verb_lemma_list_petruchio.append(word)\n",
        "\n",
        "p = {}\n",
        "for item in verb_lemma_list_petruchio:\n",
        "    p[item] = p.get(item, 0) + 1\n",
        "\n",
        "sorted_p_verbs_by_freq = sorted(p.items(), key=lambda x:x[1])"
      ],
      "metadata": {
        "id": "ZBSJ8zkh2zE8"
      },
      "execution_count": null,
      "outputs": []
    },
    {
      "cell_type": "code",
      "source": [
        "print(sorted_p_verbs_by_freq[112:122])"
      ],
      "metadata": {
        "colab": {
          "base_uri": "https://localhost:8080/"
        },
        "id": "_5g4vh3622-X",
        "outputId": "ba3e853b-3b8d-477c-ee92-b77297a1101f"
      },
      "execution_count": null,
      "outputs": [
        {
          "output_type": "stream",
          "name": "stdout",
          "text": [
            "[('look', 23), ('know', 23), ('speak', 25), ('rail', 28), ('kill', 33), ('die', 35), ('make', 38), ('do', 57), ('think', 66), ('have', 99)]\n"
          ]
        }
      ]
    },
    {
      "cell_type": "code",
      "source": [
        "#for Petruchio specifically'\n",
        "\n",
        "verb_lemma_list_petruchio = []\n",
        "\n",
        "for index, row in df_taming.iterrows():\n",
        "  if row['speaker'] == 'Petruchio' and row['act']== 4:\n",
        "      for word in row['verb_lemmas_sentence']:\n",
        "        verb_lemma_list_petruchio.append(word)\n",
        "\n",
        "p = {}\n",
        "for item in verb_lemma_list_petruchio:\n",
        "    p[item] = p.get(item, 0) + 1\n",
        "\n",
        "sorted_p_verbs_by_freq = sorted(p.items(), key=lambda x:x[1])"
      ],
      "metadata": {
        "id": "UNXfHQuZ3CTs"
      },
      "execution_count": null,
      "outputs": []
    },
    {
      "cell_type": "code",
      "source": [
        "print(sorted_p_verbs_by_freq[124:134])"
      ],
      "metadata": {
        "colab": {
          "base_uri": "https://localhost:8080/"
        },
        "id": "kbvIA70t3Eug",
        "outputId": "89350843-45c4-411e-a566-cb8bfbdd26c7"
      },
      "execution_count": null,
      "outputs": [
        {
          "output_type": "stream",
          "name": "stdout",
          "text": [
            "[('lose', 32), ('care', 32), ('know', 33), ('go', 38), ('do', 38), ('find', 45), ('make', 51), ('tell', 52), ('take', 82), ('have', 101)]\n"
          ]
        }
      ]
    },
    {
      "cell_type": "code",
      "source": [
        "#for Petruchio specifically'\n",
        "\n",
        "verb_lemma_list_petruchio = []\n",
        "\n",
        "for index, row in df_taming.iterrows():\n",
        "  if row['speaker'] == 'Petruchio' and row['act']== 5:\n",
        "      for word in row['verb_lemmas_sentence']:\n",
        "        verb_lemma_list_petruchio.append(word)\n",
        "\n",
        "p = {}\n",
        "for item in verb_lemma_list_petruchio:\n",
        "    p[item] = p.get(item, 0) + 1\n",
        "\n",
        "sorted_p_verbs_by_freq = sorted(p.items(), key=lambda x:x[1])"
      ],
      "metadata": {
        "id": "mTIQyg4K3Os1"
      },
      "execution_count": null,
      "outputs": []
    },
    {
      "cell_type": "code",
      "source": [
        "print(sorted_p_verbs_by_freq[10:20])"
      ],
      "metadata": {
        "colab": {
          "base_uri": "https://localhost:8080/"
        },
        "id": "OMpNU7uR3Sui",
        "outputId": "84bf448b-3a1b-4364-bedd-1cabb035910a"
      },
      "execution_count": null,
      "outputs": [
        {
          "output_type": "stream",
          "name": "stdout",
          "text": [
            "[('get', 8), ('buy', 8), ('bear', 8), ('wish', 8), ('butter', 8), ('bleed', 8), ('trust', 8), ('have', 10), ('see', 12), ('let', 20)]\n"
          ]
        }
      ]
    },
    {
      "cell_type": "code",
      "source": [
        "#for Livia specifically'\n",
        "\n",
        "verb_lemma_list_livia = []\n",
        "\n",
        "for index, row in df_taming.iterrows():\n",
        "  if row['speaker'] == 'Livia':\n",
        "      for word in row['verb_lemmas_sentence']:\n",
        "        verb_lemma_list_livia.append(word)\n",
        "\n",
        "l = {}\n",
        "for item in verb_lemma_list_livia:\n",
        "    l[item] = l.get(item, 0) + 1\n",
        "\n",
        "sorted_l_verbs_by_freq = sorted(l.items(), key=lambda x:x[1])"
      ],
      "metadata": {
        "id": "OmQekOtO3vZT"
      },
      "execution_count": null,
      "outputs": []
    },
    {
      "cell_type": "code",
      "source": [
        "print(sorted_l_verbs_by_freq[132:142])"
      ],
      "metadata": {
        "colab": {
          "base_uri": "https://localhost:8080/"
        },
        "id": "cgC88Nuq4Cry",
        "outputId": "5e52948c-4563-4e1a-98b4-cd404b8a192c"
      },
      "execution_count": null,
      "outputs": [
        {
          "output_type": "stream",
          "name": "stdout",
          "text": [
            "[('show', 21), ('say', 22), ('shift', 22), ('do', 25), ('leave', 25), ('have', 28), ('give', 34), ('love', 36), ('’', 42), ('know', 46)]\n"
          ]
        }
      ]
    },
    {
      "cell_type": "code",
      "source": [
        "#for Livia specifically'\n",
        "\n",
        "verb_lemma_list_livia = []\n",
        "\n",
        "for index, row in df_taming.iterrows():\n",
        "  if row['speaker'] == 'Livia' and row['act'] == 3:\n",
        "      for word in row['verb_lemmas_sentence']:\n",
        "        verb_lemma_list_livia.append(word)\n",
        "\n",
        "l = {}\n",
        "for item in verb_lemma_list_livia:\n",
        "    l[item] = l.get(item, 0) + 1\n",
        "\n",
        "sorted_l_verbs_by_freq = sorted(l.items(), key=lambda x:x[1])"
      ],
      "metadata": {
        "id": "GvxhDbU14M5O"
      },
      "execution_count": null,
      "outputs": []
    },
    {
      "cell_type": "code",
      "source": [
        "print(sorted_l_verbs_by_freq)"
      ],
      "metadata": {
        "colab": {
          "base_uri": "https://localhost:8080/"
        },
        "id": "_ftBfhbU4VvU",
        "outputId": "c0275a60-d7a0-4020-ed6c-ba04bb1441e8"
      },
      "execution_count": null,
      "outputs": [
        {
          "output_type": "stream",
          "name": "stdout",
          "text": [
            "[('think', 1), ('displante', 1), ('fix', 1), ('’', 1), ('go', 1), ('pay', 1), ('give', 3), ('leave', 3), ('wear', 3), ('remember', 3)]\n"
          ]
        }
      ]
    },
    {
      "cell_type": "code",
      "source": [
        "#for Livia specifically'\n",
        "\n",
        "verb_lemma_list_rowland = []\n",
        "\n",
        "for index, row in df_taming.iterrows():\n",
        "  if row['speaker'] == 'Rowland' and row['act'] == 3:\n",
        "      for word in row['verb_lemmas_sentence']:\n",
        "        verb_lemma_list_rowland.append(word)\n",
        "\n",
        "r = {}\n",
        "for item in verb_lemma_list_rowland:\n",
        "    r[item] = r.get(item, 0) + 1\n",
        "\n",
        "sorted_r_verbs_by_freq = sorted(r.items(), key=lambda x:x[1])"
      ],
      "metadata": {
        "id": "oXYVxs2F4eFY"
      },
      "execution_count": null,
      "outputs": []
    },
    {
      "cell_type": "code",
      "source": [
        "print(sorted_r_verbs_by_freq[62:72])"
      ],
      "metadata": {
        "colab": {
          "base_uri": "https://localhost:8080/"
        },
        "id": "EsMA5uum4rkY",
        "outputId": "d07ef714-b8ad-4fcd-c8aa-0181235da980"
      },
      "execution_count": null,
      "outputs": [
        {
          "output_type": "stream",
          "name": "stdout",
          "text": [
            "[('believe', 11), ('hear', 13), ('think', 14), ('come', 14), ('tell', 14), ('love', 14), ('lose', 14), ('have', 19), ('tis', 20), ('deign', 20)]\n"
          ]
        }
      ]
    },
    {
      "cell_type": "code",
      "source": [
        "#for Livia specifically'\n",
        "\n",
        "verb_lemma_list_rowland = []\n",
        "\n",
        "for index, row in df_taming.iterrows():\n",
        "  if row['speaker'] == 'Rowland':\n",
        "      for word in row['verb_lemmas_sentence']:\n",
        "        verb_lemma_list_rowland.append(word)\n",
        "\n",
        "r = {}\n",
        "for item in verb_lemma_list_rowland:\n",
        "    r[item] = r.get(item, 0) + 1\n",
        "\n",
        "sorted_r_verbs_by_freq = sorted(r.items(), key=lambda x:x[1])"
      ],
      "metadata": {
        "id": "EJZtuBuE5BTF"
      },
      "execution_count": null,
      "outputs": []
    },
    {
      "cell_type": "code",
      "source": [
        "print(sorted_r_verbs_by_freq[139:149])"
      ],
      "metadata": {
        "colab": {
          "base_uri": "https://localhost:8080/"
        },
        "id": "bNL6H3K35FJo",
        "outputId": "c0b56af1-e60c-48a3-9fb9-2842555cd91f"
      },
      "execution_count": null,
      "outputs": [
        {
          "output_type": "stream",
          "name": "stdout",
          "text": [
            "[('tis', 25), ('swear', 26), ('see', 28), ('make', 30), ('take', 30), ('tell', 34), ('do', 38), ('have', 40), ('let', 42), ('come', 45)]\n"
          ]
        }
      ]
    },
    {
      "cell_type": "code",
      "source": [
        "#for Bianca specifically'\n",
        "\n",
        "verb_lemma_list_bianca = []\n",
        "\n",
        "for index, row in df_taming.iterrows():\n",
        "  if row['speaker'] == 'Bianca' and row['act'] == 2:\n",
        "      for word in row['verb_lemmas_sentence']:\n",
        "        verb_lemma_list_bianca.append(word)\n",
        "\n",
        "bi = {}\n",
        "for item in verb_lemma_list_bianca:\n",
        "    bi[item] = bi.get(item, 0) + 1\n",
        "\n",
        "sorted_bi_verbs_by_freq = sorted(bi.items(), key=lambda x:x[1])"
      ],
      "metadata": {
        "id": "VSTvoK8I8da7"
      },
      "execution_count": null,
      "outputs": []
    },
    {
      "cell_type": "code",
      "source": [
        "print(sorted_bi_verbs_by_freq[48:58])"
      ],
      "metadata": {
        "colab": {
          "base_uri": "https://localhost:8080/"
        },
        "id": "IXScseCS8ecP",
        "outputId": "32e8e269-c85f-40db-ed5d-91c47da311ce"
      },
      "execution_count": null,
      "outputs": [
        {
          "output_type": "stream",
          "name": "stdout",
          "text": [
            "[('tis', 19), ('think', 22), ('find', 24), ('send', 26), ('wear', 28), ('stay', 30), ('swear', 30), ('have', 38), ('believe', 38), ('look', 38)]\n"
          ]
        }
      ]
    },
    {
      "cell_type": "code",
      "source": [
        "#for Bianca specifically'\n",
        "\n",
        "verb_lemma_list_bianca = []\n",
        "\n",
        "for index, row in df_taming.iterrows():\n",
        "  if row['speaker'] == 'Bianca' and row['act'] == 4:\n",
        "      for word in row['verb_lemmas_sentence']:\n",
        "        verb_lemma_list_bianca.append(word)\n",
        "\n",
        "bi = {}\n",
        "for item in verb_lemma_list_bianca:\n",
        "    bi[item] = bi.get(item, 0) + 1\n",
        "\n",
        "sorted_bi_verbs_by_freq = sorted(bi.items(), key=lambda x:x[1])"
      ],
      "metadata": {
        "id": "DXkKU9RH8fka"
      },
      "execution_count": null,
      "outputs": []
    },
    {
      "cell_type": "code",
      "source": [
        "print(sorted_bi_verbs_by_freq[48:58])"
      ],
      "metadata": {
        "colab": {
          "base_uri": "https://localhost:8080/"
        },
        "id": "cEnIpKmm8rBJ",
        "outputId": "d1579e29-0db9-4016-ec5d-211ed8203fcb"
      },
      "execution_count": null,
      "outputs": [
        {
          "output_type": "stream",
          "name": "stdout",
          "text": [
            "[('understand', 7), ('carry', 7), ('mark', 7), ('follow', 7), ('conceive', 9), ('tell', 10), ('’', 11), ('know', 18), ('have', 22), ('do', 28)]\n"
          ]
        }
      ]
    },
    {
      "cell_type": "code",
      "source": [
        "# initialize list of lists\n",
        "data = [[malesubj_neg_agency, femalesubj_neg_agency], [malesubj_pos_agency, femalesubj_pos_agency] ]\n",
        "  \n",
        "# Create the pandas DataFrame\n",
        "df_agency_by_gender = pd.DataFrame(data, columns=['male','female'], index=['neg_agency','pos_agency'])\n",
        "  \n",
        "# print dataframe.\n",
        "df_agency_by_gender"
      ],
      "metadata": {
        "id": "EFyv9a9raGxl"
      },
      "execution_count": null,
      "outputs": []
    },
    {
      "cell_type": "code",
      "source": [
        "\n",
        "df_petruchio_power = (petruchio_power_theme_per_verb/petruchio_power_agent_per_verb).to_frame(name=None)\n",
        "df_petruchio_agency = (petruchio_agency_pos_per_verb/petruchio_agency_neg_per_verb).to_frame(name=None)\n",
        "\n",
        "df_petruchio_p_a = pd.concat([df_petruchio_power,df_petruchio_agency])\n",
        "\n",
        "df_petruchio_p_a.plot(kind='bar', title='Petruchio per Act')\n",
        "\n",
        "df_petruchio_power.plot(kind='bar', title='Petruchio per Act')\n",
        "\n",
        "\n",
        "#add more characters\n"
      ],
      "metadata": {
        "colab": {
          "base_uri": "https://localhost:8080/",
          "height": 310
        },
        "id": "oW76fY_CYZIi",
        "outputId": "d41c536e-a9e9-4e9b-fa6e-424546adce42"
      },
      "execution_count": null,
      "outputs": [
        {
          "output_type": "execute_result",
          "data": {
            "text/plain": [
              "<matplotlib.axes._subplots.AxesSubplot at 0x7f2373098850>"
            ]
          },
          "metadata": {},
          "execution_count": 20
        },
        {
          "output_type": "display_data",
          "data": {
            "text/plain": [
              "<Figure size 432x288 with 1 Axes>"
            ],
            "image/png": "[encoded data removed]"
          },
          "metadata": {
            "needs_background": "light"
          }
        }
      ]
    },
    {
      "cell_type": "code",
      "source": [
        "df_petruchio_power.plot(kind='bar', title='Petruchio per Act')\n"
      ],
      "metadata": {
        "colab": {
          "base_uri": "https://localhost:8080/",
          "height": 310
        },
        "id": "cX4VMQB5aZsh",
        "outputId": "96477956-6372-49a8-8423-a904ef4a37e0"
      },
      "execution_count": null,
      "outputs": [
        {
          "output_type": "execute_result",
          "data": {
            "text/plain": [
              "<matplotlib.axes._subplots.AxesSubplot at 0x7f2372e89b50>"
            ]
          },
          "metadata": {},
          "execution_count": 22
        },
        {
          "output_type": "display_data",
          "data": {
            "text/plain": [
              "<Figure size 432x288 with 1 Axes>"
            ],
            "image/png": "[encoded data removed]"
          },
          "metadata": {
            "needs_background": "light"
          }
        }
      ]
    },
    {
      "cell_type": "code",
      "source": [
        "df_petruchio_agency.plot(kind='bar', title='Petruchio per Act')\n"
      ],
      "metadata": {
        "colab": {
          "base_uri": "https://localhost:8080/",
          "height": 310
        },
        "id": "OeIjxhveadzt",
        "outputId": "13a33226-51cb-4d1c-977c-428376ae7a1b"
      },
      "execution_count": null,
      "outputs": [
        {
          "output_type": "execute_result",
          "data": {
            "text/plain": [
              "<matplotlib.axes._subplots.AxesSubplot at 0x7f2372e66730>"
            ]
          },
          "metadata": {},
          "execution_count": 23
        },
        {
          "output_type": "display_data",
          "data": {
            "text/plain": [
              "<Figure size 432x288 with 1 Axes>"
            ],
            "image/png": "[encoded data removed]"
          },
          "metadata": {
            "needs_background": "light"
          }
        }
      ]
    },
    {
      "cell_type": "code",
      "source": [
        "df_petruchio_agency_equal = petruchio_agency_equal_per_verb.to_frame(name=None)\n",
        "df_petruchio_power_equal = petruchio_power_equal_per_verb.to_frame(name=None)"
      ],
      "metadata": {
        "id": "ZTdaTxg_a17T"
      },
      "execution_count": null,
      "outputs": []
    },
    {
      "cell_type": "code",
      "source": [
        "df_petruchio_agency_equal.plot(kind='bar', title='Petruchio per Act')\n"
      ],
      "metadata": {
        "colab": {
          "base_uri": "https://localhost:8080/",
          "height": 310
        },
        "id": "ijSL8ccMa5SH",
        "outputId": "3a707902-6707-4db7-c3b0-87c23b7d4a48"
      },
      "execution_count": null,
      "outputs": [
        {
          "output_type": "execute_result",
          "data": {
            "text/plain": [
              "<matplotlib.axes._subplots.AxesSubplot at 0x7f2373149220>"
            ]
          },
          "metadata": {},
          "execution_count": 25
        },
        {
          "output_type": "display_data",
          "data": {
            "text/plain": [
              "<Figure size 432x288 with 1 Axes>"
            ],
            "image/png": "[encoded data removed]"
          },
          "metadata": {
            "needs_background": "light"
          }
        }
      ]
    },
    {
      "cell_type": "code",
      "source": [
        "df_petruchio_power_equal.plot(kind='bar', title='Petruchio per Act')\n"
      ],
      "metadata": {
        "colab": {
          "base_uri": "https://localhost:8080/",
          "height": 310
        },
        "id": "l2-CkZupa9hu",
        "outputId": "967fe9ff-97ca-4fe3-bd3d-aacf32cdc5bf"
      },
      "execution_count": null,
      "outputs": [
        {
          "output_type": "execute_result",
          "data": {
            "text/plain": [
              "<matplotlib.axes._subplots.AxesSubplot at 0x7f237c0de520>"
            ]
          },
          "metadata": {},
          "execution_count": 26
        },
        {
          "output_type": "display_data",
          "data": {
            "text/plain": [
              "<Figure size 432x288 with 1 Axes>"
            ],
            "image/png": "[encoded data removed]"
          },
          "metadata": {
            "needs_background": "light"
          }
        }
      ]
    },
    {
      "cell_type": "code",
      "source": [
        "df_maria_agency_equal = maria_agency_equal_per_verb.to_frame(name=None)\n",
        "df_maria_power_equal = maria_power_equal_per_verb.to_frame(name=None)\n",
        "\n",
        "df_maria_power = (maria_power_agent_per_verb/maria_power_theme_per_verb).to_frame(name=None)\n",
        "df_maria_agency = (maria_agency_pos_per_verb/maria_agency_neg_per_verb).to_frame(name=None)"
      ],
      "metadata": {
        "id": "_hnnnNhzc7AE"
      },
      "execution_count": null,
      "outputs": []
    },
    {
      "cell_type": "code",
      "source": [
        "df_maria_power_equal.plot(kind='bar', title='Maria per Act')\n"
      ],
      "metadata": {
        "colab": {
          "base_uri": "https://localhost:8080/",
          "height": 310
        },
        "id": "oPJ-rvNUdN-Q",
        "outputId": "395226fa-5eda-40fe-e964-023d0d10af74"
      },
      "execution_count": null,
      "outputs": [
        {
          "output_type": "execute_result",
          "data": {
            "text/plain": [
              "<matplotlib.axes._subplots.AxesSubplot at 0x7f2372ae0280>"
            ]
          },
          "metadata": {},
          "execution_count": 33
        },
        {
          "output_type": "display_data",
          "data": {
            "text/plain": [
              "<Figure size 432x288 with 1 Axes>"
            ],
            "image/png": "[encoded data removed]"
          },
          "metadata": {
            "needs_background": "light"
          }
        }
      ]
    },
    {
      "cell_type": "code",
      "source": [
        "df_maria_agency_equal.plot(kind='bar', title='Maria per Act')\n"
      ],
      "metadata": {
        "colab": {
          "base_uri": "https://localhost:8080/",
          "height": 310
        },
        "id": "_Ig9PM0ndShf",
        "outputId": "7e50ff70-3a3d-48db-b21f-075af6890790"
      },
      "execution_count": null,
      "outputs": [
        {
          "output_type": "execute_result",
          "data": {
            "text/plain": [
              "<matplotlib.axes._subplots.AxesSubplot at 0x7f2372a4c160>"
            ]
          },
          "metadata": {},
          "execution_count": 34
        },
        {
          "output_type": "display_data",
          "data": {
            "text/plain": [
              "<Figure size 432x288 with 1 Axes>"
            ],
            "image/png": "[encoded data removed]"
          },
          "metadata": {
            "needs_background": "light"
          }
        }
      ]
    },
    {
      "cell_type": "code",
      "source": [
        "df_maria_power.plot(kind='bar', title='Maria per Act')\n",
        "\n",
        "#something about the 5th act seeming seperate?\n",
        "\n",
        "#or happy ending\n"
      ],
      "metadata": {
        "colab": {
          "base_uri": "https://localhost:8080/",
          "height": 310
        },
        "id": "EbwlQB-mdXCw",
        "outputId": "56356312-f444-4da6-8b96-b6d8719265f5"
      },
      "execution_count": null,
      "outputs": [
        {
          "output_type": "execute_result",
          "data": {
            "text/plain": [
              "<matplotlib.axes._subplots.AxesSubplot at 0x7f2372a10eb0>"
            ]
          },
          "metadata": {},
          "execution_count": 35
        },
        {
          "output_type": "display_data",
          "data": {
            "text/plain": [
              "<Figure size 432x288 with 1 Axes>"
            ],
            "image/png": "[encoded data removed]"
          },
          "metadata": {
            "needs_background": "light"
          }
        }
      ]
    },
    {
      "cell_type": "code",
      "source": [
        "df_maria_agency.plot(kind='bar', title='Maria per Act')\n"
      ],
      "metadata": {
        "colab": {
          "base_uri": "https://localhost:8080/",
          "height": 310
        },
        "id": "IKlRWmOKdggv",
        "outputId": "4c515479-d7b5-49d9-a55a-f375f23b6ae3"
      },
      "execution_count": null,
      "outputs": [
        {
          "output_type": "execute_result",
          "data": {
            "text/plain": [
              "<matplotlib.axes._subplots.AxesSubplot at 0x7f23729f5640>"
            ]
          },
          "metadata": {},
          "execution_count": 36
        },
        {
          "output_type": "display_data",
          "data": {
            "text/plain": [
              "<Figure size 432x288 with 1 Axes>"
            ],
            "image/png": "[encoded data removed]"
          },
          "metadata": {
            "needs_background": "light"
          }
        }
      ]
    }
  ]
}