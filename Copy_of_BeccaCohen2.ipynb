{
  "nbformat": 4,
  "nbformat_minor": 0,
  "metadata": {
    "colab": {
      "provenance": []
    },
    "kernelspec": {
      "name": "python3",
      "display_name": "Python 3"
    },
    "language_info": {
      "name": "python"
    }
  },
  "cells": [
    {
      "cell_type": "code",
      "execution_count": null,
      "metadata": {
        "id": "9OVzF0uVwXLe"
      },
      "outputs": [],
      "source": [
        "import requests\n",
        "from bs4 import BeautifulSoup as bs\n",
        "import numpy as np\n",
        "#numpy helps us with null values\n",
        "\n",
        "import pandas as pd"
      ]
    },
    {
      "cell_type": "code",
      "source": [
        "url = 'https://emed.folger.edu/sites/default/files/folger_encodings/xml/EMED-Prize-3.xml'\n",
        "response = requests.get(url)\n",
        "text = response.content.decode('utf-8')\n",
        "print(bs(text, 'xml').prettify()[:300]) # print first 300 characters of text"
      ],
      "metadata": {
        "colab": {
          "base_uri": "https://localhost:8080/"
        },
        "id": "YaBBlSOVxDEL",
        "outputId": "1ceb8b33-82a8-4cca-da22-6df0a533fb37"
      },
      "execution_count": null,
      "outputs": [
        {
          "output_type": "stream",
          "name": "stdout",
          "text": [
            "<?xml version=\"1.0\" encoding=\"utf-8\"?>\n",
            "<?xml-stylesheet type=\"text/xsl\" href=\"emed.xsl\"?>\n",
            "<TEI xml:id=\"A27177_24\" xmlns:=\"http://www.tei-c.org/ns/1.0\">\n",
            " <teiHeader>\n",
            "  <fileDesc>\n",
            "   <titleStmt>\n",
            "    <title>\n",
            "     The Woman’s Prize, or The Tamer Tamed\n",
            "    </title>\n",
            "    <author>\n",
            "     John Fletcher\n",
            "    </a\n"
          ]
        }
      ]
    },
    {
      "cell_type": "code",
      "source": [
        "# we want a function that, for any tag, it will go further down the XML tree,\n",
        "# starting with that tag, in order to find the \"choice\" tag. then, from there,\n",
        "# it will return the text of the <reg> tag with the \"resp\" attribute == to \n",
        "# \"#EMED\" *only* . But if not, then the resp attribute that matches \"#SHC #EMED\"\n",
        "# But if not that, then it should return the <orig> tag text \n",
        "def elem_to_reg_text(elem, default=''):\n",
        "    choice_elem = elem.find('choice')\n",
        "    try:\n",
        "        for choice in choice_elem.find('reg', {'resp':'#EMED'}):\n",
        "            return(choice)\n",
        "    except:\n",
        "        try:\n",
        "            for choice in choice_elem.find('reg', {'resp':'#SHC #EMED'}):\n",
        "                return(choice)\n",
        "        except:\n",
        "            try:\n",
        "                for choice in choice_elem.find('orig'):\n",
        "                    return(choice)\n",
        "            except:\n",
        "                return(default)"
      ],
      "metadata": {
        "id": "jIJOK9fR0vsN"
      },
      "execution_count": null,
      "outputs": []
    },
    {
      "cell_type": "code",
      "source": [
        "# Define a function that takes an element and returns the act and scene numbers\n",
        "# # of its parent <div> elements.\n",
        "# # Assumes element belongs to only one act and one scene. \n",
        "# def elem_parent_data(elem):\n",
        "#     parents = elem.parents\n",
        "#     data = {}\n",
        "#     for parent in parents:\n",
        "#         if parent.name == 'div':\n",
        "#             if parent['type'] == 'act':\n",
        "#                 data['act'] = parent['n']\n",
        "#             if parent['type'] == 'scene':\n",
        "#                 data['scene'] = parent['n']\n",
        "#     return(data)"
      ],
      "metadata": {
        "id": "0lh-V_Kaj2ox"
      },
      "execution_count": null,
      "outputs": []
    },
    {
      "cell_type": "code",
      "source": [
        "# def elem_parent_data(elem):\n",
        "#     parents = elem.parents\n",
        "#     data = {}\n",
        "#     for parent in parents:\n",
        "#         if parent.name == 'div':\n",
        "#           if parent['type'] == 'act':\n",
        "#             data['act'] = parent['n']\n",
        "#           if parent['type'] == 'scene':\n",
        "#             data['scene'] = parent['n']\n",
        "#         # elif parent.name == 'pc':\n",
        "#         #   if parent['unit'] == 'sentence':\n",
        "#         #     data['sentence'] = parent['xml:id']\n",
        "#         #     print(data['sentence'])\n",
        "#         return(data)\n",
        "\n",
        "# Define a function that takes an element and returns the act and scene numbers\n",
        "# of its parent <div> elements.\n",
        "# Assumes element belongs to only one act and one scene. \n",
        "def elem_parent_data(elem):\n",
        "    parents = elem.parents\n",
        "    data = {}\n",
        "    for parent in parents:\n",
        "        if parent.name == 'div':\n",
        "            if parent['type'] == 'act':\n",
        "                data['act'] = parent['n']\n",
        "            if parent['type'] == 'scene':\n",
        "                data['scene'] = parent['n']\n",
        "    return(data)"
      ],
      "metadata": {
        "id": "2hV5GZgeDNs3"
      },
      "execution_count": null,
      "outputs": []
    },
    {
      "cell_type": "code",
      "source": [
        "# Populate a dictionary of stage directions and speeches using the elements's id \n",
        "# as key and a dictionary of properties as value. \n",
        "# Each value dictionary should include the following properties:\n",
        "# 1) speaker (if <sp>)\n",
        "# 2) direction_type (if <stage>)\n",
        "# 3) position\n",
        "# 4) act\n",
        "# 5) scene\n",
        "# 6) text\n",
        "data_dict = {} \n",
        "soup = bs(text, 'xml')\n",
        "elems = soup.find_all(['stage','sp'])\n",
        "for elem in elems:\n",
        "    id = elem['xml:id']\n",
        "    position = elems.index(elem)\n",
        "    act = elem_parent_data(elem)['act']\n",
        "    scene = elem_parent_data(elem)['scene']\n",
        "   # sentence = elem_parent_data(elem)['sentence']\n",
        "    if elem.name == 'sp':\n",
        "        speaker = elem['who'].lstrip('#').replace('_Prize', '')\n",
        "    else:\n",
        "        speaker = np.nan\n",
        "    if elem.name == 'stage':\n",
        "        direction_type = elem['type']\n",
        "    else:\n",
        "        direction_type = np.nan\n",
        "    elem_words = []\n",
        "    for word in elem.find_all(['w','pc']):\n",
        "      #find all in sequence, we added the p\n",
        "      if word in elem.find_all('w'):\n",
        "        reg = elem_to_reg_text(word)\n",
        "        elem_words.append(reg)\n",
        "      else:\n",
        "        elem_words.append(word.text)\n",
        "        # punctuation = elem.find('pc')\n",
        "        # if punctuation is not None:\n",
        "        # #for punctuation in punctuations:\n",
        "          #elem_words.append(punctuation.text)\n",
        "        #do I have to append the punctuation somehow?\n",
        "    elem_words = [x for x in elem_words if x is not None] # omit empty elements\n",
        "    if elem.name == 'sp':\n",
        "        elem_text = ' '.join(elem_words[1:]) # omit character's name from speech\n",
        "    else:\n",
        "        elem_text = ' '.join(elem_words)\n",
        "    elem_text = ' '.join(elem_text.split()) # normalize whitespace\n",
        "    elem_data = {'speaker':speaker,\n",
        "                 'direction_type':direction_type,\n",
        "                 'position':position,\n",
        "                 'act':act,\n",
        "                 'scene':scene,\n",
        "                 'text':elem_text}\n",
        "    data_dict[id] = elem_data\n",
        "print(list(data_dict.items())[:4]) # print first item in dictionary"
      ],
      "metadata": {
        "colab": {
          "base_uri": "https://localhost:8080/"
        },
        "id": "2icgL9ml06QR",
        "outputId": "196e6b77-ceb9-4b3a-cc70-fd448376b2ac"
      },
      "execution_count": null,
      "outputs": [
        {
          "output_type": "stream",
          "name": "stdout",
          "text": [
            "[('stg-0006', {'speaker': nan, 'direction_type': 'entrance', 'position': 0, 'act': '1', 'scene': '1', 'text': 'Enter Moroso , Sophocles , and Tranio , with Rosemary , as from a wedding .'}), ('sp-0008', {'speaker': 'Moroso', 'direction_type': nan, 'position': 1, 'act': '1', 'scene': '1', 'text': '. GOd give ’em joy .'}), ('sp-0010', {'speaker': 'Tranio', 'direction_type': nan, 'position': 2, 'act': '1', 'scene': '1', 'text': 'Amen .'}), ('sp-0011', {'speaker': 'Sophocles', 'direction_type': nan, 'position': 3, 'act': '1', 'scene': '1', 'text': 'Amen , say I too : The Puddings now i’ th’ proof ; alas poor wench , Through what a mine of patience must thou work , Ere thou know’st good hour more ?'})]\n"
          ]
        }
      ]
    },
    {
      "cell_type": "code",
      "source": [
        "\n",
        "data_dict = {} \n",
        "soup = bs(text, 'xml')\n",
        "elems = soup.find_all(['stage','sp'])\n",
        "for elem in elems:\n",
        "    id = elem['xml:id']\n",
        "    position = elems.index(elem)\n",
        "    act = elem_parent_data(elem)['act']\n",
        "    scene = elem_parent_data(elem)['scene']\n",
        "   # sentence = elem_parent_data(elem)['sentence']\n",
        "    if elem.name == 'sp':\n",
        "        speaker = elem['who'].lstrip('#').replace('_Prize', '')\n",
        "    else:\n",
        "        speaker = np.nan\n",
        "    if elem.name == 'stage':\n",
        "        direction_type = elem['type']\n",
        "    else:\n",
        "        direction_type = np.nan\n",
        "    elem_words = []\n",
        "    for word in elem.find_all(['w','pc']):\n",
        "      #find all in sequence, we added the p\n",
        "        reg = elem_to_reg_text(word)\n",
        "        elem_words.append(reg)\n",
        "        #new part I tried adding today\n",
        "        #maybe need to add a line here?\n",
        "        #like\n",
        "        #line = elem_text split by punctuation so that way it only prints the punctuation once?\n",
        "        punctuations = elem.find_all('pc')\n",
        "        for punctuation in punctuations:\n",
        "          elem_words.append(punctuation.text)\n",
        "        #do I have to append the punctuation somehow?\n",
        "    elem_words = [x for x in elem_words if x is not None] # omit empty elements\n",
        "    if elem.name == 'sp':\n",
        "        elem_text = ' '.join(elem_words[1:]) # omit character's name from speech\n",
        "    else:\n",
        "        elem_text = ' '.join(elem_words)\n",
        "    elem_text = ' '.join(elem_text.split()) # normalize whitespace\n",
        "    elem_data = {'speaker':speaker,\n",
        "                 'direction_type':direction_type,\n",
        "                 'position':position,\n",
        "                 'act':act,\n",
        "                 'scene':scene,\n",
        "                 'text':elem_text}\n",
        "    data_dict[id] = elem_data\n",
        "print(list(data_dict.items())[:2]) # print first item in dictionary"
      ],
      "metadata": {
        "id": "_pnxtPu1VoNT"
      },
      "execution_count": null,
      "outputs": []
    },
    {
      "cell_type": "code",
      "source": [],
      "metadata": {
        "colab": {
          "base_uri": "https://localhost:8080/",
          "height": 218
        },
        "id": "w10Lwk-jWrHV",
        "outputId": "d05820e5-db7b-49ae-d50e-67082c06d719"
      },
      "execution_count": null,
      "outputs": [
        {
          "output_type": "error",
          "ename": "NameError",
          "evalue": "ignored",
          "traceback": [
            "\u001b[0;31m---------------------------------------------------------------------------\u001b[0m",
            "\u001b[0;31mNameError\u001b[0m                                 Traceback (most recent call last)",
            "\u001b[0;32m<ipython-input-5-0f466e956e85>\u001b[0m in \u001b[0;36m<module>\u001b[0;34m\u001b[0m\n\u001b[1;32m      2\u001b[0m \u001b[0melems\u001b[0m \u001b[0;34m=\u001b[0m \u001b[0msoup\u001b[0m\u001b[0;34m.\u001b[0m\u001b[0mfind_all\u001b[0m\u001b[0;34m(\u001b[0m\u001b[0;34m[\u001b[0m\u001b[0;34m'stage'\u001b[0m\u001b[0;34m,\u001b[0m\u001b[0;34m'sp'\u001b[0m\u001b[0;34m]\u001b[0m\u001b[0;34m)\u001b[0m\u001b[0;34m\u001b[0m\u001b[0;34m\u001b[0m\u001b[0m\n\u001b[1;32m      3\u001b[0m \u001b[0;32mfor\u001b[0m \u001b[0melem\u001b[0m \u001b[0;32min\u001b[0m \u001b[0melems\u001b[0m\u001b[0;34m:\u001b[0m\u001b[0;34m\u001b[0m\u001b[0;34m\u001b[0m\u001b[0m\n\u001b[0;32m----> 4\u001b[0;31m   \u001b[0mprint\u001b[0m\u001b[0;34m(\u001b[0m\u001b[0;34m''\u001b[0m\u001b[0;34m.\u001b[0m\u001b[0mjoin\u001b[0m\u001b[0;34m(\u001b[0m\u001b[0mroot\u001b[0m\u001b[0;34m[\u001b[0m\u001b[0;36m0\u001b[0m\u001b[0;34m]\u001b[0m\u001b[0;34m.\u001b[0m\u001b[0mitertext\u001b[0m\u001b[0;34m(\u001b[0m\u001b[0;34m)\u001b[0m\u001b[0;34m)\u001b[0m\u001b[0;34m)\u001b[0m\u001b[0;34m\u001b[0m\u001b[0;34m\u001b[0m\u001b[0m\n\u001b[0m\u001b[1;32m      5\u001b[0m   \u001b[0;32mbreak\u001b[0m\u001b[0;34m\u001b[0m\u001b[0;34m\u001b[0m\u001b[0m\n",
            "\u001b[0;31mNameError\u001b[0m: name 'root' is not defined"
          ]
        }
      ]
    },
    {
      "cell_type": "code",
      "source": [
        "# Convert dictionary to dataframe\n",
        "df = pd.DataFrame(data_dict).T.rename_axis('id').reset_index().sort_values('position')\n",
        "print(df.head)"
      ],
      "metadata": {
        "colab": {
          "base_uri": "https://localhost:8080/"
        },
        "id": "JHGMW1M8N-dq",
        "outputId": "934cbabd-fd0b-4d46-9e8b-f2ce6ebe66ed"
      },
      "execution_count": null,
      "outputs": [
        {
          "output_type": "stream",
          "name": "stdout",
          "text": [
            "<bound method NDFrame.head of             id    speaker direction_type position act scene  \\\n",
            "0     stg-0006        NaN       entrance        0   1     1   \n",
            "1      sp-0008     Moroso            NaN        1   1     1   \n",
            "2      sp-0010     Tranio            NaN        2   1     1   \n",
            "3      sp-0011  Sophocles            NaN        3   1     1   \n",
            "4      sp-0016     Tranio            NaN        4   1     1   \n",
            "...        ...        ...            ...      ...  ..   ...   \n",
            "1417   sp-3396    Rowland            NaN     1417   5     4   \n",
            "1418   sp-3398     Tranio            NaN     1418   5     4   \n",
            "1419   sp-3400    Rowland            NaN     1419   5     4   \n",
            "1420   sp-3401  Petruchio            NaN     1420   5     4   \n",
            "1421  stg-3404        NaN           exit     1421   5     4   \n",
            "\n",
            "                                                   text  \n",
            "0     Enter , , , , . Moroso , , , , . , , , , . Sop...  \n",
            "1          . . . . GOd . . give . . ’em . . joy . . . .  \n",
            "2                                          . . Amen . .  \n",
            "3     , : ; , , ? , : ; , , ? Amen , : ; , , ? , : ;...  \n",
            "4     : , , , , ; . : , , , , ; . ’Tis : , , , , ; ....  \n",
            "...                                                 ...  \n",
            "1417  : ; . : ; . There : ; . shall : ; . not : ; . ...  \n",
            "1418  , , . , , . Well , , . , , . I’ll , , . trust ...  \n",
            "1419                          . . I’ll . watch . ye . .  \n",
            "1420  , , : , ; , , . , , : , ; , , . Let’s , , : , ...  \n",
            "1421                                         Exeunt . .  \n",
            "\n",
            "[1422 rows x 7 columns]>\n"
          ]
        }
      ]
    },
    {
      "cell_type": "code",
      "source": [
        "type(df['text'])"
      ],
      "metadata": {
        "colab": {
          "base_uri": "https://localhost:8080/"
        },
        "id": "KkIpsbsKJf2D",
        "outputId": "bb3efe8b-99af-439d-d5f9-6954396f04fd"
      },
      "execution_count": null,
      "outputs": [
        {
          "output_type": "execute_result",
          "data": {
            "text/plain": [
              "pandas.core.series.Series"
            ]
          },
          "metadata": {},
          "execution_count": 34
        }
      ]
    },
    {
      "cell_type": "code",
      "source": [
        "(df['text'])[1]"
      ],
      "metadata": {
        "colab": {
          "base_uri": "https://localhost:8080/",
          "height": 35
        },
        "id": "yxuYNfXIA4dJ",
        "outputId": "d6fa04dd-5f23-4f32-c2a0-e1d3ab0f5aac"
      },
      "execution_count": null,
      "outputs": [
        {
          "output_type": "execute_result",
          "data": {
            "text/plain": [
              "'. . . . GOd . . give . . ’em . . joy . . . .'"
            ],
            "application/vnd.google.colaboratory.intrinsic+json": {
              "type": "string"
            }
          },
          "metadata": {},
          "execution_count": 35
        }
      ]
    },
    {
      "cell_type": "code",
      "source": [
        "def character_list(string):\n",
        "  characters = ['Moroso', 'Tranio', 'Bianca', 'CityWife', 'CountryWife','Doctor', 'Jacques', 'Livia', 'Maids','Maria', 'Pedro', 'Petruchio', 'Rowland','Servant','Sophocles', 'Tranio', 'Watchmen'] # add full list here\n",
        "  characters_list = []\n",
        "\n",
        "  for word in string.split(\" \"):\n",
        "    if word in characters:\n",
        "      characters_list.append(word)\n",
        "  return(characters_list)\n",
        "#will need to run this function over the column\n"
      ],
      "metadata": {
        "id": "a6hdNGS23tRg"
      },
      "execution_count": null,
      "outputs": []
    },
    {
      "cell_type": "code",
      "source": [
        "practice = character_list(\"Enter Moroso\")\n",
        "\n",
        "print(practice)\n",
        "\n",
        "#so the function works for something simple like this, but isn't working for the dataframe below..."
      ],
      "metadata": {
        "colab": {
          "base_uri": "https://localhost:8080/"
        },
        "id": "9qP0uL2dIuDp",
        "outputId": "9d4d17ea-bd4c-4046-dd8c-c3e59bfeecf9"
      },
      "execution_count": null,
      "outputs": [
        {
          "output_type": "stream",
          "name": "stdout",
          "text": [
            "['Moroso']\n"
          ]
        }
      ]
    },
    {
      "cell_type": "code",
      "source": [
        "# Use str.split and str.join and astype\n",
        "df['text'] = df['text'].astype(str)"
      ],
      "metadata": {
        "id": "qOmPQ7rii2BZ"
      },
      "execution_count": null,
      "outputs": []
    },
    {
      "cell_type": "code",
      "source": [
        "#df['character_list'] = df['text'].apply(character_list)\n",
        "\n",
        "for index, row in df.iterrows():\n",
        "  row['character_list'] = character_list(row['text']) \n",
        " \n",
        "df.head(20)"
      ],
      "metadata": {
        "colab": {
          "base_uri": "https://localhost:8080/",
          "height": 676
        },
        "id": "i1mVsPD06WNE",
        "outputId": "4bda0db4-1345-4f4a-909b-6df22600bbd8"
      },
      "execution_count": null,
      "outputs": [
        {
          "output_type": "execute_result",
          "data": {
            "text/plain": [
              "          id    speaker direction_type position act scene  \\\n",
              "0   stg-0006        NaN       entrance        0   1     1   \n",
              "1    sp-0008     Moroso            NaN        1   1     1   \n",
              "2    sp-0010     Tranio            NaN        2   1     1   \n",
              "3    sp-0011  Sophocles            NaN        3   1     1   \n",
              "4    sp-0016     Tranio            NaN        4   1     1   \n",
              "5    sp-0021     Moroso            NaN        5   1     1   \n",
              "6    sp-0023  Sophocles            NaN        6   1     1   \n",
              "7    sp-0025     Tranio            NaN        7   1     1   \n",
              "8    sp-0026  Sophocles            NaN        8   1     1   \n",
              "9    sp-0028     Moroso            NaN        9   1     1   \n",
              "10   sp-0030  Sophocles            NaN       10   1     1   \n",
              "11   sp-0032     Tranio            NaN       11   1     1   \n",
              "12   sp-0033     Moroso            NaN       12   1     1   \n",
              "13   sp-0040  Sophocles            NaN       13   1     1   \n",
              "14   sp-0041     Tranio            NaN       14   1     1   \n",
              "15   sp-0044     Moroso            NaN       15   1     1   \n",
              "16   sp-0045     Tranio            NaN       16   1     1   \n",
              "17   sp-0051  Sophocles            NaN       17   1     1   \n",
              "18   sp-0052     Tranio            NaN       18   1     1   \n",
              "19   sp-0060  Sophocles            NaN       19   1     1   \n",
              "\n",
              "                                                 text  \n",
              "0   Enter , , , , . Moroso , , , , . , , , , . Sop...  \n",
              "1        . . . . GOd . . give . . ’em . . joy . . . .  \n",
              "2                                        . . Amen . .  \n",
              "3   , : ; , , ? , : ; , , ? Amen , : ; , , ? , : ;...  \n",
              "4   : , , , , ; . : , , , , ; . ’Tis : , , , , ; ....  \n",
              "5   , . , . Methinks , . now , . , . He’s , . not ...  \n",
              "6   , , . , , . This , , . old , , . thief , , . f...  \n",
              "7               ? ? But ? shall ? he ? have ? her ? ?  \n",
              "8   , . . , . . Yes , . . , . . when , . . I , . ....  \n",
              "9   , . , . I’ll , . assure , . ye , . , . I , . h...  \n",
              "10  , , . , , . Yes , , . sure , , . a , , . wealt...  \n",
              "11                . . Would . ’twere . no . worse . .  \n",
              "12  , , , ( ) , ? , ? , , , ( ) , ? , ? What , , ,...  \n",
              "13                              . . I . fear . it . .  \n",
              "14  : , , — : , , — So : , , — do : , , — I : , , ...  \n",
              "15              ? ? What ? would ? you ? do ? sir ? ?  \n",
              "16  , : ( ) , , , , : , , , . , : ( ) , , , , : , ...  \n",
              "17              . . So . I . should . think . too . .  \n",
              "18  ( , ) , , , ; , , . , , . ( , ) , , , ; , , . ...  \n",
              "19  , : — , : — He’s , : — a , : — good , : — fell...  "
            ],
            "text/html": [
              "\n",
              "  <div id=\"df-c9663d95-4235-4f27-b4ad-d561619eaa8d\">\n",
              "    <div class=\"colab-df-container\">\n",
              "      <div>\n",
              "<style scoped>\n",
              "    .dataframe tbody tr th:only-of-type {\n",
              "        vertical-align: middle;\n",
              "    }\n",
              "\n",
              "    .dataframe tbody tr th {\n",
              "        vertical-align: top;\n",
              "    }\n",
              "\n",
              "    .dataframe thead th {\n",
              "        text-align: right;\n",
              "    }\n",
              "</style>\n",
              "<table border=\"1\" class=\"dataframe\">\n",
              "  <thead>\n",
              "    <tr style=\"text-align: right;\">\n",
              "      <th></th>\n",
              "      <th>id</th>\n",
              "      <th>speaker</th>\n",
              "      <th>direction_type</th>\n",
              "      <th>position</th>\n",
              "      <th>act</th>\n",
              "      <th>scene</th>\n",
              "      <th>text</th>\n",
              "    </tr>\n",
              "  </thead>\n",
              "  <tbody>\n",
              "    <tr>\n",
              "      <th>0</th>\n",
              "      <td>stg-0006</td>\n",
              "      <td>NaN</td>\n",
              "      <td>entrance</td>\n",
              "      <td>0</td>\n",
              "      <td>1</td>\n",
              "      <td>1</td>\n",
              "      <td>Enter , , , , . Moroso , , , , . , , , , . Sop...</td>\n",
              "    </tr>\n",
              "    <tr>\n",
              "      <th>1</th>\n",
              "      <td>sp-0008</td>\n",
              "      <td>Moroso</td>\n",
              "      <td>NaN</td>\n",
              "      <td>1</td>\n",
              "      <td>1</td>\n",
              "      <td>1</td>\n",
              "      <td>. . . . GOd . . give . . ’em . . joy . . . .</td>\n",
              "    </tr>\n",
              "    <tr>\n",
              "      <th>2</th>\n",
              "      <td>sp-0010</td>\n",
              "      <td>Tranio</td>\n",
              "      <td>NaN</td>\n",
              "      <td>2</td>\n",
              "      <td>1</td>\n",
              "      <td>1</td>\n",
              "      <td>. . Amen . .</td>\n",
              "    </tr>\n",
              "    <tr>\n",
              "      <th>3</th>\n",
              "      <td>sp-0011</td>\n",
              "      <td>Sophocles</td>\n",
              "      <td>NaN</td>\n",
              "      <td>3</td>\n",
              "      <td>1</td>\n",
              "      <td>1</td>\n",
              "      <td>, : ; , , ? , : ; , , ? Amen , : ; , , ? , : ;...</td>\n",
              "    </tr>\n",
              "    <tr>\n",
              "      <th>4</th>\n",
              "      <td>sp-0016</td>\n",
              "      <td>Tranio</td>\n",
              "      <td>NaN</td>\n",
              "      <td>4</td>\n",
              "      <td>1</td>\n",
              "      <td>1</td>\n",
              "      <td>: , , , , ; . : , , , , ; . ’Tis : , , , , ; ....</td>\n",
              "    </tr>\n",
              "    <tr>\n",
              "      <th>5</th>\n",
              "      <td>sp-0021</td>\n",
              "      <td>Moroso</td>\n",
              "      <td>NaN</td>\n",
              "      <td>5</td>\n",
              "      <td>1</td>\n",
              "      <td>1</td>\n",
              "      <td>, . , . Methinks , . now , . , . He’s , . not ...</td>\n",
              "    </tr>\n",
              "    <tr>\n",
              "      <th>6</th>\n",
              "      <td>sp-0023</td>\n",
              "      <td>Sophocles</td>\n",
              "      <td>NaN</td>\n",
              "      <td>6</td>\n",
              "      <td>1</td>\n",
              "      <td>1</td>\n",
              "      <td>, , . , , . This , , . old , , . thief , , . f...</td>\n",
              "    </tr>\n",
              "    <tr>\n",
              "      <th>7</th>\n",
              "      <td>sp-0025</td>\n",
              "      <td>Tranio</td>\n",
              "      <td>NaN</td>\n",
              "      <td>7</td>\n",
              "      <td>1</td>\n",
              "      <td>1</td>\n",
              "      <td>? ? But ? shall ? he ? have ? her ? ?</td>\n",
              "    </tr>\n",
              "    <tr>\n",
              "      <th>8</th>\n",
              "      <td>sp-0026</td>\n",
              "      <td>Sophocles</td>\n",
              "      <td>NaN</td>\n",
              "      <td>8</td>\n",
              "      <td>1</td>\n",
              "      <td>1</td>\n",
              "      <td>, . . , . . Yes , . . , . . when , . . I , . ....</td>\n",
              "    </tr>\n",
              "    <tr>\n",
              "      <th>9</th>\n",
              "      <td>sp-0028</td>\n",
              "      <td>Moroso</td>\n",
              "      <td>NaN</td>\n",
              "      <td>9</td>\n",
              "      <td>1</td>\n",
              "      <td>1</td>\n",
              "      <td>, . , . I’ll , . assure , . ye , . , . I , . h...</td>\n",
              "    </tr>\n",
              "    <tr>\n",
              "      <th>10</th>\n",
              "      <td>sp-0030</td>\n",
              "      <td>Sophocles</td>\n",
              "      <td>NaN</td>\n",
              "      <td>10</td>\n",
              "      <td>1</td>\n",
              "      <td>1</td>\n",
              "      <td>, , . , , . Yes , , . sure , , . a , , . wealt...</td>\n",
              "    </tr>\n",
              "    <tr>\n",
              "      <th>11</th>\n",
              "      <td>sp-0032</td>\n",
              "      <td>Tranio</td>\n",
              "      <td>NaN</td>\n",
              "      <td>11</td>\n",
              "      <td>1</td>\n",
              "      <td>1</td>\n",
              "      <td>. . Would . ’twere . no . worse . .</td>\n",
              "    </tr>\n",
              "    <tr>\n",
              "      <th>12</th>\n",
              "      <td>sp-0033</td>\n",
              "      <td>Moroso</td>\n",
              "      <td>NaN</td>\n",
              "      <td>12</td>\n",
              "      <td>1</td>\n",
              "      <td>1</td>\n",
              "      <td>, , , ( ) , ? , ? , , , ( ) , ? , ? What , , ,...</td>\n",
              "    </tr>\n",
              "    <tr>\n",
              "      <th>13</th>\n",
              "      <td>sp-0040</td>\n",
              "      <td>Sophocles</td>\n",
              "      <td>NaN</td>\n",
              "      <td>13</td>\n",
              "      <td>1</td>\n",
              "      <td>1</td>\n",
              "      <td>. . I . fear . it . .</td>\n",
              "    </tr>\n",
              "    <tr>\n",
              "      <th>14</th>\n",
              "      <td>sp-0041</td>\n",
              "      <td>Tranio</td>\n",
              "      <td>NaN</td>\n",
              "      <td>14</td>\n",
              "      <td>1</td>\n",
              "      <td>1</td>\n",
              "      <td>: , , — : , , — So : , , — do : , , — I : , , ...</td>\n",
              "    </tr>\n",
              "    <tr>\n",
              "      <th>15</th>\n",
              "      <td>sp-0044</td>\n",
              "      <td>Moroso</td>\n",
              "      <td>NaN</td>\n",
              "      <td>15</td>\n",
              "      <td>1</td>\n",
              "      <td>1</td>\n",
              "      <td>? ? What ? would ? you ? do ? sir ? ?</td>\n",
              "    </tr>\n",
              "    <tr>\n",
              "      <th>16</th>\n",
              "      <td>sp-0045</td>\n",
              "      <td>Tranio</td>\n",
              "      <td>NaN</td>\n",
              "      <td>16</td>\n",
              "      <td>1</td>\n",
              "      <td>1</td>\n",
              "      <td>, : ( ) , , , , : , , , . , : ( ) , , , , : , ...</td>\n",
              "    </tr>\n",
              "    <tr>\n",
              "      <th>17</th>\n",
              "      <td>sp-0051</td>\n",
              "      <td>Sophocles</td>\n",
              "      <td>NaN</td>\n",
              "      <td>17</td>\n",
              "      <td>1</td>\n",
              "      <td>1</td>\n",
              "      <td>. . So . I . should . think . too . .</td>\n",
              "    </tr>\n",
              "    <tr>\n",
              "      <th>18</th>\n",
              "      <td>sp-0052</td>\n",
              "      <td>Tranio</td>\n",
              "      <td>NaN</td>\n",
              "      <td>18</td>\n",
              "      <td>1</td>\n",
              "      <td>1</td>\n",
              "      <td>( , ) , , , ; , , . , , . ( , ) , , , ; , , . ...</td>\n",
              "    </tr>\n",
              "    <tr>\n",
              "      <th>19</th>\n",
              "      <td>sp-0060</td>\n",
              "      <td>Sophocles</td>\n",
              "      <td>NaN</td>\n",
              "      <td>19</td>\n",
              "      <td>1</td>\n",
              "      <td>1</td>\n",
              "      <td>, : — , : — He’s , : — a , : — good , : — fell...</td>\n",
              "    </tr>\n",
              "  </tbody>\n",
              "</table>\n",
              "</div>\n",
              "      <button class=\"colab-df-convert\" onclick=\"convertToInteractive('df-c9663d95-4235-4f27-b4ad-d561619eaa8d')\"\n",
              "              title=\"Convert this dataframe to an interactive table.\"\n",
              "              style=\"display:none;\">\n",
              "        \n",
              "  <svg xmlns=\"http://www.w3.org/2000/svg\" height=\"24px\"viewBox=\"0 0 24 24\"\n",
              "       width=\"24px\">\n",
              "    <path d=\"M0 0h24v24H0V0z\" fill=\"none\"/>\n",
              "    <path d=\"M18.56 5.44l.94 2.06.94-2.06 2.06-.94-2.06-.94-.94-2.06-.94 2.06-2.06.94zm-11 1L8.5 8.5l.94-2.06 2.06-.94-2.06-.94L8.5 2.5l-.94 2.06-2.06.94zm10 10l.94 2.06.94-2.06 2.06-.94-2.06-.94-.94-2.06-.94 2.06-2.06.94z\"/><path d=\"M17.41 7.96l-1.37-1.37c-.4-.4-.92-.59-1.43-.59-.52 0-1.04.2-1.43.59L10.3 9.45l-7.72 7.72c-.78.78-.78 2.05 0 2.83L4 21.41c.39.39.9.59 1.41.59.51 0 1.02-.2 1.41-.59l7.78-7.78 2.81-2.81c.8-.78.8-2.07 0-2.86zM5.41 20L4 18.59l7.72-7.72 1.47 1.35L5.41 20z\"/>\n",
              "  </svg>\n",
              "      </button>\n",
              "      \n",
              "  <style>\n",
              "    .colab-df-container {\n",
              "      display:flex;\n",
              "      flex-wrap:wrap;\n",
              "      gap: 12px;\n",
              "    }\n",
              "\n",
              "    .colab-df-convert {\n",
              "      background-color: #E8F0FE;\n",
              "      border: none;\n",
              "      border-radius: 50%;\n",
              "      cursor: pointer;\n",
              "      display: none;\n",
              "      fill: #1967D2;\n",
              "      height: 32px;\n",
              "      padding: 0 0 0 0;\n",
              "      width: 32px;\n",
              "    }\n",
              "\n",
              "    .colab-df-convert:hover {\n",
              "      background-color: #E2EBFA;\n",
              "      box-shadow: 0px 1px 2px rgba(60, 64, 67, 0.3), 0px 1px 3px 1px rgba(60, 64, 67, 0.15);\n",
              "      fill: #174EA6;\n",
              "    }\n",
              "\n",
              "    [theme=dark] .colab-df-convert {\n",
              "      background-color: #3B4455;\n",
              "      fill: #D2E3FC;\n",
              "    }\n",
              "\n",
              "    [theme=dark] .colab-df-convert:hover {\n",
              "      background-color: #434B5C;\n",
              "      box-shadow: 0px 1px 3px 1px rgba(0, 0, 0, 0.15);\n",
              "      filter: drop-shadow(0px 1px 2px rgba(0, 0, 0, 0.3));\n",
              "      fill: #FFFFFF;\n",
              "    }\n",
              "  </style>\n",
              "\n",
              "      <script>\n",
              "        const buttonEl =\n",
              "          document.querySelector('#df-c9663d95-4235-4f27-b4ad-d561619eaa8d button.colab-df-convert');\n",
              "        buttonEl.style.display =\n",
              "          google.colab.kernel.accessAllowed ? 'block' : 'none';\n",
              "\n",
              "        async function convertToInteractive(key) {\n",
              "          const element = document.querySelector('#df-c9663d95-4235-4f27-b4ad-d561619eaa8d');\n",
              "          const dataTable =\n",
              "            await google.colab.kernel.invokeFunction('convertToInteractive',\n",
              "                                                     [key], {});\n",
              "          if (!dataTable) return;\n",
              "\n",
              "          const docLinkHtml = 'Like what you see? Visit the ' +\n",
              "            '<a target=\"_blank\" href=https://colab.research.google.com/notebooks/data_table.ipynb>data table notebook</a>'\n",
              "            + ' to learn more about interactive tables.';\n",
              "          element.innerHTML = '';\n",
              "          dataTable['output_type'] = 'display_data';\n",
              "          await google.colab.output.renderOutput(dataTable, element);\n",
              "          const docLink = document.createElement('div');\n",
              "          docLink.innerHTML = docLinkHtml;\n",
              "          element.appendChild(docLink);\n",
              "        }\n",
              "      </script>\n",
              "    </div>\n",
              "  </div>\n",
              "  "
            ]
          },
          "metadata": {},
          "execution_count": 39
        }
      ]
    },
    {
      "cell_type": "code",
      "source": [
        "gender_dict = {}\n",
        "\n",
        "male_characters = ['Moroso','Sophocles', 'Tranio', 'Jacques', 'Doctor', 'Pedro', 'Petruchio', 'Rowland', 'Servant', 'Sophocles', 'Watchmen'] \n",
        "female_characters = ['Bianca', \"CityWife\", \"CountryWife\", \"Livia\", \"Maids\", \"Maria\"] \n",
        "\n",
        "for female_character in female_characters:\n",
        "  gender_dict[female_character] = \"F\"\n",
        "\n",
        "for male_character in male_characters:\n",
        "  gender_dict[male_character] = \"M\"\n",
        "\n",
        "# repeat for each character\n",
        "\n",
        "#somehow add this to the dataframe..\n",
        "\n",
        "print(list(gender_dict.items())[:1]) # print first item in dictionary."
      ],
      "metadata": {
        "colab": {
          "base_uri": "https://localhost:8080/"
        },
        "id": "Ugf-V9xe3taD",
        "outputId": "6cff9d4b-93af-45eb-93b6-62c1dba89dde"
      },
      "execution_count": null,
      "outputs": [
        {
          "output_type": "stream",
          "name": "stdout",
          "text": [
            "[('Bianca', 'F')]\n"
          ]
        }
      ]
    },
    {
      "cell_type": "code",
      "source": [
        "#convert dictionary to dataframe\n",
        "\n",
        "df_gender = pd.DataFrame([gender_dict])"
      ],
      "metadata": {
        "id": "DOh0vmJXpg4Q"
      },
      "execution_count": null,
      "outputs": []
    },
    {
      "cell_type": "code",
      "source": [
        "#transpose dataframe\n",
        "df_gender_transposed = df_gender.T # or df1.transpose()\n",
        "\n",
        "df_gender_transposed"
      ],
      "metadata": {
        "colab": {
          "base_uri": "https://localhost:8080/",
          "height": 551
        },
        "id": "bJ02VGAprVlH",
        "outputId": "f0d1c285-26ed-415e-cb70-e7d2348b1a07"
      },
      "execution_count": null,
      "outputs": [
        {
          "output_type": "execute_result",
          "data": {
            "text/plain": [
              "             0\n",
              "Bianca       F\n",
              "CityWife     F\n",
              "CountryWife  F\n",
              "Livia        F\n",
              "Maids        F\n",
              "Maria        F\n",
              "Moroso       M\n",
              "Sophocles    M\n",
              "Tranio       M\n",
              "Jacques      M\n",
              "Doctor       M\n",
              "Pedro        M\n",
              "Petruchio    M\n",
              "Rowland      M\n",
              "Servant      M\n",
              "Watchmen     M"
            ],
            "text/html": [
              "\n",
              "  <div id=\"df-3768d6c4-459c-496f-9787-bee45c3d9020\">\n",
              "    <div class=\"colab-df-container\">\n",
              "      <div>\n",
              "<style scoped>\n",
              "    .dataframe tbody tr th:only-of-type {\n",
              "        vertical-align: middle;\n",
              "    }\n",
              "\n",
              "    .dataframe tbody tr th {\n",
              "        vertical-align: top;\n",
              "    }\n",
              "\n",
              "    .dataframe thead th {\n",
              "        text-align: right;\n",
              "    }\n",
              "</style>\n",
              "<table border=\"1\" class=\"dataframe\">\n",
              "  <thead>\n",
              "    <tr style=\"text-align: right;\">\n",
              "      <th></th>\n",
              "      <th>0</th>\n",
              "    </tr>\n",
              "  </thead>\n",
              "  <tbody>\n",
              "    <tr>\n",
              "      <th>Bianca</th>\n",
              "      <td>F</td>\n",
              "    </tr>\n",
              "    <tr>\n",
              "      <th>CityWife</th>\n",
              "      <td>F</td>\n",
              "    </tr>\n",
              "    <tr>\n",
              "      <th>CountryWife</th>\n",
              "      <td>F</td>\n",
              "    </tr>\n",
              "    <tr>\n",
              "      <th>Livia</th>\n",
              "      <td>F</td>\n",
              "    </tr>\n",
              "    <tr>\n",
              "      <th>Maids</th>\n",
              "      <td>F</td>\n",
              "    </tr>\n",
              "    <tr>\n",
              "      <th>Maria</th>\n",
              "      <td>F</td>\n",
              "    </tr>\n",
              "    <tr>\n",
              "      <th>Moroso</th>\n",
              "      <td>M</td>\n",
              "    </tr>\n",
              "    <tr>\n",
              "      <th>Sophocles</th>\n",
              "      <td>M</td>\n",
              "    </tr>\n",
              "    <tr>\n",
              "      <th>Tranio</th>\n",
              "      <td>M</td>\n",
              "    </tr>\n",
              "    <tr>\n",
              "      <th>Jacques</th>\n",
              "      <td>M</td>\n",
              "    </tr>\n",
              "    <tr>\n",
              "      <th>Doctor</th>\n",
              "      <td>M</td>\n",
              "    </tr>\n",
              "    <tr>\n",
              "      <th>Pedro</th>\n",
              "      <td>M</td>\n",
              "    </tr>\n",
              "    <tr>\n",
              "      <th>Petruchio</th>\n",
              "      <td>M</td>\n",
              "    </tr>\n",
              "    <tr>\n",
              "      <th>Rowland</th>\n",
              "      <td>M</td>\n",
              "    </tr>\n",
              "    <tr>\n",
              "      <th>Servant</th>\n",
              "      <td>M</td>\n",
              "    </tr>\n",
              "    <tr>\n",
              "      <th>Watchmen</th>\n",
              "      <td>M</td>\n",
              "    </tr>\n",
              "  </tbody>\n",
              "</table>\n",
              "</div>\n",
              "      <button class=\"colab-df-convert\" onclick=\"convertToInteractive('df-3768d6c4-459c-496f-9787-bee45c3d9020')\"\n",
              "              title=\"Convert this dataframe to an interactive table.\"\n",
              "              style=\"display:none;\">\n",
              "        \n",
              "  <svg xmlns=\"http://www.w3.org/2000/svg\" height=\"24px\"viewBox=\"0 0 24 24\"\n",
              "       width=\"24px\">\n",
              "    <path d=\"M0 0h24v24H0V0z\" fill=\"none\"/>\n",
              "    <path d=\"M18.56 5.44l.94 2.06.94-2.06 2.06-.94-2.06-.94-.94-2.06-.94 2.06-2.06.94zm-11 1L8.5 8.5l.94-2.06 2.06-.94-2.06-.94L8.5 2.5l-.94 2.06-2.06.94zm10 10l.94 2.06.94-2.06 2.06-.94-2.06-.94-.94-2.06-.94 2.06-2.06.94z\"/><path d=\"M17.41 7.96l-1.37-1.37c-.4-.4-.92-.59-1.43-.59-.52 0-1.04.2-1.43.59L10.3 9.45l-7.72 7.72c-.78.78-.78 2.05 0 2.83L4 21.41c.39.39.9.59 1.41.59.51 0 1.02-.2 1.41-.59l7.78-7.78 2.81-2.81c.8-.78.8-2.07 0-2.86zM5.41 20L4 18.59l7.72-7.72 1.47 1.35L5.41 20z\"/>\n",
              "  </svg>\n",
              "      </button>\n",
              "      \n",
              "  <style>\n",
              "    .colab-df-container {\n",
              "      display:flex;\n",
              "      flex-wrap:wrap;\n",
              "      gap: 12px;\n",
              "    }\n",
              "\n",
              "    .colab-df-convert {\n",
              "      background-color: #E8F0FE;\n",
              "      border: none;\n",
              "      border-radius: 50%;\n",
              "      cursor: pointer;\n",
              "      display: none;\n",
              "      fill: #1967D2;\n",
              "      height: 32px;\n",
              "      padding: 0 0 0 0;\n",
              "      width: 32px;\n",
              "    }\n",
              "\n",
              "    .colab-df-convert:hover {\n",
              "      background-color: #E2EBFA;\n",
              "      box-shadow: 0px 1px 2px rgba(60, 64, 67, 0.3), 0px 1px 3px 1px rgba(60, 64, 67, 0.15);\n",
              "      fill: #174EA6;\n",
              "    }\n",
              "\n",
              "    [theme=dark] .colab-df-convert {\n",
              "      background-color: #3B4455;\n",
              "      fill: #D2E3FC;\n",
              "    }\n",
              "\n",
              "    [theme=dark] .colab-df-convert:hover {\n",
              "      background-color: #434B5C;\n",
              "      box-shadow: 0px 1px 3px 1px rgba(0, 0, 0, 0.15);\n",
              "      filter: drop-shadow(0px 1px 2px rgba(0, 0, 0, 0.3));\n",
              "      fill: #FFFFFF;\n",
              "    }\n",
              "  </style>\n",
              "\n",
              "      <script>\n",
              "        const buttonEl =\n",
              "          document.querySelector('#df-3768d6c4-459c-496f-9787-bee45c3d9020 button.colab-df-convert');\n",
              "        buttonEl.style.display =\n",
              "          google.colab.kernel.accessAllowed ? 'block' : 'none';\n",
              "\n",
              "        async function convertToInteractive(key) {\n",
              "          const element = document.querySelector('#df-3768d6c4-459c-496f-9787-bee45c3d9020');\n",
              "          const dataTable =\n",
              "            await google.colab.kernel.invokeFunction('convertToInteractive',\n",
              "                                                     [key], {});\n",
              "          if (!dataTable) return;\n",
              "\n",
              "          const docLinkHtml = 'Like what you see? Visit the ' +\n",
              "            '<a target=\"_blank\" href=https://colab.research.google.com/notebooks/data_table.ipynb>data table notebook</a>'\n",
              "            + ' to learn more about interactive tables.';\n",
              "          element.innerHTML = '';\n",
              "          dataTable['output_type'] = 'display_data';\n",
              "          await google.colab.output.renderOutput(dataTable, element);\n",
              "          const docLink = document.createElement('div');\n",
              "          docLink.innerHTML = docLinkHtml;\n",
              "          element.appendChild(docLink);\n",
              "        }\n",
              "      </script>\n",
              "    </div>\n",
              "  </div>\n",
              "  "
            ]
          },
          "metadata": {},
          "execution_count": 42
        }
      ]
    },
    {
      "cell_type": "code",
      "source": [
        "#new version with fixed characters is called file2.json, original version was file.json\n",
        "\n",
        "# storing the data in JSON format\n",
        "df.to_json('file2.json', orient = 'split', compression = 'infer', index = 'true')\n",
        " \n",
        "# reading the JSON file\n",
        "df = pd.read_json('file2.json', orient ='split', compression = 'infer')\n",
        "\n",
        "#I can see them when I access my google drive on the left side now as \"file.json\""
      ],
      "metadata": {
        "id": "MvBciTUSLrWf"
      },
      "execution_count": null,
      "outputs": []
    },
    {
      "cell_type": "code",
      "source": [
        "from google.colab import drive\n",
        "drive.mount('/content/drive')"
      ],
      "metadata": {
        "id": "FkRG9v8uN3P7"
      },
      "execution_count": null,
      "outputs": []
    },
    {
      "cell_type": "code",
      "source": [
        "# save this as a JSON, then use the data frames I created in a new google colab notebook"
      ],
      "metadata": {
        "id": "vsFhNkmLGBdP"
      },
      "execution_count": null,
      "outputs": []
    },
    {
      "cell_type": "code",
      "source": [
        "# convert powerframes lexicon into dataframe w/ three columns\n",
        "# iterrate through that and lemmatize each verb \n",
        "# add verb lemma as additional column in powerframes dataframe\n",
        "\n",
        "# iterrate through each line (row) of main dataframe -- use iterrows()\n",
        "  # for each line, pull out the ['text'] element\n",
        "  # convert that element to a spacy object using nlp()\n",
        "  # iterrate through list of words in nlp object\n",
        "    # if the word is a verb, \n",
        "      # 1. lemmatize \n",
        "      # 2. add to temporary array of verbs \n",
        "\n",
        "  # initialize your 6 power counters at 0\n",
        "    # e.g. pos_agency_counter = 0\n",
        "\n",
        "  # iterrate through list of verbs\n",
        "    # for each verb lemma, check to see if there is a match in the lemma column of the powerframes lexicon;\n",
        "    # this involves looping through each row in the powerframes lexicon and looking for a match <-- might be better method than iterrows but maybe not\n",
        "\n",
        "    # if there is a match, then:\n",
        "      # look at value of power column in that row\n",
        "      # increment appropriate power counter (one of 3 possible choices)\n",
        "      # look at value of agency column in that row\n",
        "      # increment appropriate agency counter (one of 3 possible choices)\n",
        "      # break! \n",
        "\n",
        "  # now that you're done with all of the verbs in that dialogue chunk, add your six counter counts to the main dataframe for that row \n",
        "    \n",
        "### SAVE DATAFRAME AS JSON!!!\n",
        "\n",
        "# \n",
        "\n"
      ],
      "metadata": {
        "id": "3h5RggTdBKj_"
      },
      "execution_count": null,
      "outputs": []
    },
    {
      "cell_type": "code",
      "source": [],
      "metadata": {
        "id": "MNWHZs4YCIAl"
      },
      "execution_count": null,
      "outputs": []
    },
    {
      "cell_type": "markdown",
      "source": [
        "https://colab.research.google.com/drive/1KBRYPxsTJ2-VhiBKzUTE-98ayqMqjkVK#scrollTo=ESic8t4X2RPY\n",
        "\n",
        "Lemmatizing Notebok"
      ],
      "metadata": {
        "id": "29IKlyFyGgW7"
      }
    },
    {
      "cell_type": "code",
      "source": [],
      "metadata": {
        "id": "2XiqMVkaGmG0"
      },
      "execution_count": null,
      "outputs": []
    },
    {
      "cell_type": "markdown",
      "source": [
        "https://maartensap.com/connotation-frames/\n",
        "\n",
        "Link to downloading the frames"
      ],
      "metadata": {
        "id": "BSK3QtTeHzd0"
      }
    }
  ]
}