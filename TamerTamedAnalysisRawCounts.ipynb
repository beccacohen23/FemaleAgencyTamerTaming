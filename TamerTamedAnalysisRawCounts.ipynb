{
  "nbformat": 4,
  "nbformat_minor": 0,
  "metadata": {
    "colab": {
      "provenance": []
    },
    "kernelspec": {
      "name": "python3",
      "display_name": "Python 3"
    },
    "language_info": {
      "name": "python"
    }
  },
  "cells": [
    {
      "cell_type": "code",
      "execution_count": null,
      "metadata": {
        "colab": {
          "base_uri": "https://localhost:8080/",
          "height": 105
        },
        "id": "kmcU7NGoXbWe",
        "outputId": "609934b2-4458-4071-d3a7-9871409cecfe"
      },
      "outputs": [
        {
          "output_type": "stream",
          "name": "stderr",
          "text": [
            "Downloading...\n",
            "From: https://drive.google.com/uc?export=download&id=1C6yYYB-bxPFKIYtjJsiyw7jZZWK7PF_-\n",
            "To: /content/powerframes_final_df_tamertamed_withgendercount.json\n",
            "100%|██████████| 407k/407k [00:00<00:00, 75.0MB/s]\n"
          ]
        },
        {
          "output_type": "execute_result",
          "data": {
            "text/plain": [
              "'powerframes_final_df_tamertamed_withgendercount.json'"
            ],
            "application/vnd.google.colaboratory.intrinsic+json": {
              "type": "string"
            }
          },
          "metadata": {},
          "execution_count": 2
        }
      ],
      "source": [
        "# how to load in a file from someone else's google drive\n",
        "\n",
        "# For downloading large files from Google Drive\n",
        "# https://github.com/wkentaro/gdown\n",
        "import gdown\n",
        "\n",
        "# take sharing link from drive \n",
        "# paste here for reference:\n",
        "# https://drive.google.com/file/d/1aHl1wSvf398chIuWMWaQt-qLcHaTY7Ly/view?usp=drivesdk\n",
        "\n",
        "# copy the document id from above (betwen d/ and /view), and paste into where it says id=XXXXX below\n",
        "\n",
        "# then download the file to your local workspace (NOTE: DOES NOT SAVE AFTER YOU DISCONNECT FROM RUNTIME!!!)\n",
        "gdown.download('https://drive.google.com/uc?export=download&id=1C6yYYB-bxPFKIYtjJsiyw7jZZWK7PF_-', quiet=False) \n",
        "\n",
        "#https://drive.google.com/file/d/1C6yYYB-bxPFKIYtjJsiyw7jZZWK7PF_-/view?usp=sharing"
      ]
    },
    {
      "cell_type": "code",
      "source": [
        "import pandas as pd\n",
        "import json\n",
        "\n",
        "#convert JSON back to dataframe for analysis:\n",
        "\n",
        "df_tamertamed_final = pd.read_json('powerframes_final_df_tamertamed_withgendercount.json')\n",
        "\n",
        "df_tamertamed_final"
      ],
      "metadata": {
        "colab": {
          "base_uri": "https://localhost:8080/",
          "height": 514
        },
        "id": "nv5ExEnuXk2h",
        "outputId": "d9f2cd2e-ae60-4f11-a81c-b9f0a70db29f"
      },
      "execution_count": null,
      "outputs": [
        {
          "output_type": "execute_result",
          "data": {
            "text/plain": [
              "            id    speaker direction_type  position  act  scene  \\\n",
              "0     stg-0006       None       entrance         0    1      1   \n",
              "1      sp-0008     Moroso           None         1    1      1   \n",
              "2      sp-0010     Tranio           None         2    1      1   \n",
              "3      sp-0011  Sophocles           None         3    1      1   \n",
              "4      sp-0016     Tranio           None         4    1      1   \n",
              "...        ...        ...            ...       ...  ...    ...   \n",
              "1417   sp-3396    Rowland           None      1417    5      4   \n",
              "1418   sp-3398     Tranio           None      1418    5      4   \n",
              "1419   sp-3400    Rowland           None      1419    5      4   \n",
              "1420   sp-3401  Petruchio           None      1420    5      4   \n",
              "1421  stg-3404       None           exit      1421    5      4   \n",
              "\n",
              "                                                   text  \\\n",
              "0     Enter Moroso Sophocles and Tranio with Rosemar...   \n",
              "1                                      GOd give ’em joy   \n",
              "2                                                  Amen   \n",
              "3     Amen say I too The Puddings now i’ th’ proof a...   \n",
              "4     ’Tis too true Certain Methinks her father has ...   \n",
              "...                                                 ...   \n",
              "1417  There shall not want my labor sir your money H...   \n",
              "1418  Well I’ll trust her And glad I have so good a ...   \n",
              "1419                                      I’ll watch ye   \n",
              "1420  Let’s in and drink of all hands and be jovial ...   \n",
              "1421                                             Exeunt   \n",
              "\n",
              "                   character_list  \\\n",
              "0     [Moroso, Sophocles, Tranio]   \n",
              "1                              []   \n",
              "2                              []   \n",
              "3                              []   \n",
              "4                              []   \n",
              "...                           ...   \n",
              "1417                           []   \n",
              "1418                           []   \n",
              "1419                           []   \n",
              "1420                           []   \n",
              "1421                           []   \n",
              "\n",
              "                                      verb_lemmas  agency_pos  agency_neg  \\\n",
              "0                                         [enter]           1           0   \n",
              "1                                          [give]           1           0   \n",
              "2                                              []           0           0   \n",
              "3                          [say, ala, thou, work]           2           0   \n",
              "4               [tis, deal, match, protest, pity]           3           0   \n",
              "...                                           ...         ...         ...   \n",
              "1417                        [want, ’s, undertake]           1           1   \n",
              "1418                                [trust, have]           0           2   \n",
              "1419                                      [watch]           0           0   \n",
              "1420  [let, drink, have, carry, marry, let, keep]           3           2   \n",
              "1421                                     [exeunt]           0           0   \n",
              "\n",
              "      agency_equal  power_agent  power_equal  power_theme speaker_gender  \\\n",
              "0                0            1            0            0           None   \n",
              "1                0            1            0            0              M   \n",
              "2                0            0            0            0              M   \n",
              "3                0            0            1            0              M   \n",
              "4                0            1            2            0              M   \n",
              "...            ...          ...          ...          ...            ...   \n",
              "1417             0            0            0            2              M   \n",
              "1418             0            1            0            1              M   \n",
              "1419             1            1            0            0              M   \n",
              "1420             2            1            1            0              M   \n",
              "1421             0            0            0            0           None   \n",
              "\n",
              "      sd_gender  male_gender_count  female_gender_count  \n",
              "0     [M, M, M]                  3                    0  \n",
              "1            []                  0                    0  \n",
              "2            []                  0                    0  \n",
              "3            []                  0                    0  \n",
              "4            []                  0                    0  \n",
              "...         ...                ...                  ...  \n",
              "1417         []                  0                    0  \n",
              "1418         []                  0                    0  \n",
              "1419         []                  0                    0  \n",
              "1420         []                  0                    0  \n",
              "1421         []                  0                    0  \n",
              "\n",
              "[1422 rows x 19 columns]"
            ],
            "text/html": [
              "\n",
              "  <div id=\"df-0ae89050-df0e-41fe-978e-6c3d8597ba12\">\n",
              "    <div class=\"colab-df-container\">\n",
              "      <div>\n",
              "<style scoped>\n",
              "    .dataframe tbody tr th:only-of-type {\n",
              "        vertical-align: middle;\n",
              "    }\n",
              "\n",
              "    .dataframe tbody tr th {\n",
              "        vertical-align: top;\n",
              "    }\n",
              "\n",
              "    .dataframe thead th {\n",
              "        text-align: right;\n",
              "    }\n",
              "</style>\n",
              "<table border=\"1\" class=\"dataframe\">\n",
              "  <thead>\n",
              "    <tr style=\"text-align: right;\">\n",
              "      <th></th>\n",
              "      <th>id</th>\n",
              "      <th>speaker</th>\n",
              "      <th>direction_type</th>\n",
              "      <th>position</th>\n",
              "      <th>act</th>\n",
              "      <th>scene</th>\n",
              "      <th>text</th>\n",
              "      <th>character_list</th>\n",
              "      <th>verb_lemmas</th>\n",
              "      <th>agency_pos</th>\n",
              "      <th>agency_neg</th>\n",
              "      <th>agency_equal</th>\n",
              "      <th>power_agent</th>\n",
              "      <th>power_equal</th>\n",
              "      <th>power_theme</th>\n",
              "      <th>speaker_gender</th>\n",
              "      <th>sd_gender</th>\n",
              "      <th>male_gender_count</th>\n",
              "      <th>female_gender_count</th>\n",
              "    </tr>\n",
              "  </thead>\n",
              "  <tbody>\n",
              "    <tr>\n",
              "      <th>0</th>\n",
              "      <td>stg-0006</td>\n",
              "      <td>None</td>\n",
              "      <td>entrance</td>\n",
              "      <td>0</td>\n",
              "      <td>1</td>\n",
              "      <td>1</td>\n",
              "      <td>Enter Moroso Sophocles and Tranio with Rosemar...</td>\n",
              "      <td>[Moroso, Sophocles, Tranio]</td>\n",
              "      <td>[enter]</td>\n",
              "      <td>1</td>\n",
              "      <td>0</td>\n",
              "      <td>0</td>\n",
              "      <td>1</td>\n",
              "      <td>0</td>\n",
              "      <td>0</td>\n",
              "      <td>None</td>\n",
              "      <td>[M, M, M]</td>\n",
              "      <td>3</td>\n",
              "      <td>0</td>\n",
              "    </tr>\n",
              "    <tr>\n",
              "      <th>1</th>\n",
              "      <td>sp-0008</td>\n",
              "      <td>Moroso</td>\n",
              "      <td>None</td>\n",
              "      <td>1</td>\n",
              "      <td>1</td>\n",
              "      <td>1</td>\n",
              "      <td>GOd give ’em joy</td>\n",
              "      <td>[]</td>\n",
              "      <td>[give]</td>\n",
              "      <td>1</td>\n",
              "      <td>0</td>\n",
              "      <td>0</td>\n",
              "      <td>1</td>\n",
              "      <td>0</td>\n",
              "      <td>0</td>\n",
              "      <td>M</td>\n",
              "      <td>[]</td>\n",
              "      <td>0</td>\n",
              "      <td>0</td>\n",
              "    </tr>\n",
              "    <tr>\n",
              "      <th>2</th>\n",
              "      <td>sp-0010</td>\n",
              "      <td>Tranio</td>\n",
              "      <td>None</td>\n",
              "      <td>2</td>\n",
              "      <td>1</td>\n",
              "      <td>1</td>\n",
              "      <td>Amen</td>\n",
              "      <td>[]</td>\n",
              "      <td>[]</td>\n",
              "      <td>0</td>\n",
              "      <td>0</td>\n",
              "      <td>0</td>\n",
              "      <td>0</td>\n",
              "      <td>0</td>\n",
              "      <td>0</td>\n",
              "      <td>M</td>\n",
              "      <td>[]</td>\n",
              "      <td>0</td>\n",
              "      <td>0</td>\n",
              "    </tr>\n",
              "    <tr>\n",
              "      <th>3</th>\n",
              "      <td>sp-0011</td>\n",
              "      <td>Sophocles</td>\n",
              "      <td>None</td>\n",
              "      <td>3</td>\n",
              "      <td>1</td>\n",
              "      <td>1</td>\n",
              "      <td>Amen say I too The Puddings now i’ th’ proof a...</td>\n",
              "      <td>[]</td>\n",
              "      <td>[say, ala, thou, work]</td>\n",
              "      <td>2</td>\n",
              "      <td>0</td>\n",
              "      <td>0</td>\n",
              "      <td>0</td>\n",
              "      <td>1</td>\n",
              "      <td>0</td>\n",
              "      <td>M</td>\n",
              "      <td>[]</td>\n",
              "      <td>0</td>\n",
              "      <td>0</td>\n",
              "    </tr>\n",
              "    <tr>\n",
              "      <th>4</th>\n",
              "      <td>sp-0016</td>\n",
              "      <td>Tranio</td>\n",
              "      <td>None</td>\n",
              "      <td>4</td>\n",
              "      <td>1</td>\n",
              "      <td>1</td>\n",
              "      <td>’Tis too true Certain Methinks her father has ...</td>\n",
              "      <td>[]</td>\n",
              "      <td>[tis, deal, match, protest, pity]</td>\n",
              "      <td>3</td>\n",
              "      <td>0</td>\n",
              "      <td>0</td>\n",
              "      <td>1</td>\n",
              "      <td>2</td>\n",
              "      <td>0</td>\n",
              "      <td>M</td>\n",
              "      <td>[]</td>\n",
              "      <td>0</td>\n",
              "      <td>0</td>\n",
              "    </tr>\n",
              "    <tr>\n",
              "      <th>...</th>\n",
              "      <td>...</td>\n",
              "      <td>...</td>\n",
              "      <td>...</td>\n",
              "      <td>...</td>\n",
              "      <td>...</td>\n",
              "      <td>...</td>\n",
              "      <td>...</td>\n",
              "      <td>...</td>\n",
              "      <td>...</td>\n",
              "      <td>...</td>\n",
              "      <td>...</td>\n",
              "      <td>...</td>\n",
              "      <td>...</td>\n",
              "      <td>...</td>\n",
              "      <td>...</td>\n",
              "      <td>...</td>\n",
              "      <td>...</td>\n",
              "      <td>...</td>\n",
              "      <td>...</td>\n",
              "    </tr>\n",
              "    <tr>\n",
              "      <th>1417</th>\n",
              "      <td>sp-3396</td>\n",
              "      <td>Rowland</td>\n",
              "      <td>None</td>\n",
              "      <td>1417</td>\n",
              "      <td>5</td>\n",
              "      <td>4</td>\n",
              "      <td>There shall not want my labor sir your money H...</td>\n",
              "      <td>[]</td>\n",
              "      <td>[want, ’s, undertake]</td>\n",
              "      <td>1</td>\n",
              "      <td>1</td>\n",
              "      <td>0</td>\n",
              "      <td>0</td>\n",
              "      <td>0</td>\n",
              "      <td>2</td>\n",
              "      <td>M</td>\n",
              "      <td>[]</td>\n",
              "      <td>0</td>\n",
              "      <td>0</td>\n",
              "    </tr>\n",
              "    <tr>\n",
              "      <th>1418</th>\n",
              "      <td>sp-3398</td>\n",
              "      <td>Tranio</td>\n",
              "      <td>None</td>\n",
              "      <td>1418</td>\n",
              "      <td>5</td>\n",
              "      <td>4</td>\n",
              "      <td>Well I’ll trust her And glad I have so good a ...</td>\n",
              "      <td>[]</td>\n",
              "      <td>[trust, have]</td>\n",
              "      <td>0</td>\n",
              "      <td>2</td>\n",
              "      <td>0</td>\n",
              "      <td>1</td>\n",
              "      <td>0</td>\n",
              "      <td>1</td>\n",
              "      <td>M</td>\n",
              "      <td>[]</td>\n",
              "      <td>0</td>\n",
              "      <td>0</td>\n",
              "    </tr>\n",
              "    <tr>\n",
              "      <th>1419</th>\n",
              "      <td>sp-3400</td>\n",
              "      <td>Rowland</td>\n",
              "      <td>None</td>\n",
              "      <td>1419</td>\n",
              "      <td>5</td>\n",
              "      <td>4</td>\n",
              "      <td>I’ll watch ye</td>\n",
              "      <td>[]</td>\n",
              "      <td>[watch]</td>\n",
              "      <td>0</td>\n",
              "      <td>0</td>\n",
              "      <td>1</td>\n",
              "      <td>1</td>\n",
              "      <td>0</td>\n",
              "      <td>0</td>\n",
              "      <td>M</td>\n",
              "      <td>[]</td>\n",
              "      <td>0</td>\n",
              "      <td>0</td>\n",
              "    </tr>\n",
              "    <tr>\n",
              "      <th>1420</th>\n",
              "      <td>sp-3401</td>\n",
              "      <td>Petruchio</td>\n",
              "      <td>None</td>\n",
              "      <td>1420</td>\n",
              "      <td>5</td>\n",
              "      <td>4</td>\n",
              "      <td>Let’s in and drink of all hands and be jovial ...</td>\n",
              "      <td>[]</td>\n",
              "      <td>[let, drink, have, carry, marry, let, keep]</td>\n",
              "      <td>3</td>\n",
              "      <td>2</td>\n",
              "      <td>2</td>\n",
              "      <td>1</td>\n",
              "      <td>1</td>\n",
              "      <td>0</td>\n",
              "      <td>M</td>\n",
              "      <td>[]</td>\n",
              "      <td>0</td>\n",
              "      <td>0</td>\n",
              "    </tr>\n",
              "    <tr>\n",
              "      <th>1421</th>\n",
              "      <td>stg-3404</td>\n",
              "      <td>None</td>\n",
              "      <td>exit</td>\n",
              "      <td>1421</td>\n",
              "      <td>5</td>\n",
              "      <td>4</td>\n",
              "      <td>Exeunt</td>\n",
              "      <td>[]</td>\n",
              "      <td>[exeunt]</td>\n",
              "      <td>0</td>\n",
              "      <td>0</td>\n",
              "      <td>0</td>\n",
              "      <td>0</td>\n",
              "      <td>0</td>\n",
              "      <td>0</td>\n",
              "      <td>None</td>\n",
              "      <td>[]</td>\n",
              "      <td>0</td>\n",
              "      <td>0</td>\n",
              "    </tr>\n",
              "  </tbody>\n",
              "</table>\n",
              "<p>1422 rows × 19 columns</p>\n",
              "</div>\n",
              "      <button class=\"colab-df-convert\" onclick=\"convertToInteractive('df-0ae89050-df0e-41fe-978e-6c3d8597ba12')\"\n",
              "              title=\"Convert this dataframe to an interactive table.\"\n",
              "              style=\"display:none;\">\n",
              "        \n",
              "  <svg xmlns=\"http://www.w3.org/2000/svg\" height=\"24px\"viewBox=\"0 0 24 24\"\n",
              "       width=\"24px\">\n",
              "    <path d=\"M0 0h24v24H0V0z\" fill=\"none\"/>\n",
              "    <path d=\"M18.56 5.44l.94 2.06.94-2.06 2.06-.94-2.06-.94-.94-2.06-.94 2.06-2.06.94zm-11 1L8.5 8.5l.94-2.06 2.06-.94-2.06-.94L8.5 2.5l-.94 2.06-2.06.94zm10 10l.94 2.06.94-2.06 2.06-.94-2.06-.94-.94-2.06-.94 2.06-2.06.94z\"/><path d=\"M17.41 7.96l-1.37-1.37c-.4-.4-.92-.59-1.43-.59-.52 0-1.04.2-1.43.59L10.3 9.45l-7.72 7.72c-.78.78-.78 2.05 0 2.83L4 21.41c.39.39.9.59 1.41.59.51 0 1.02-.2 1.41-.59l7.78-7.78 2.81-2.81c.8-.78.8-2.07 0-2.86zM5.41 20L4 18.59l7.72-7.72 1.47 1.35L5.41 20z\"/>\n",
              "  </svg>\n",
              "      </button>\n",
              "      \n",
              "  <style>\n",
              "    .colab-df-container {\n",
              "      display:flex;\n",
              "      flex-wrap:wrap;\n",
              "      gap: 12px;\n",
              "    }\n",
              "\n",
              "    .colab-df-convert {\n",
              "      background-color: #E8F0FE;\n",
              "      border: none;\n",
              "      border-radius: 50%;\n",
              "      cursor: pointer;\n",
              "      display: none;\n",
              "      fill: #1967D2;\n",
              "      height: 32px;\n",
              "      padding: 0 0 0 0;\n",
              "      width: 32px;\n",
              "    }\n",
              "\n",
              "    .colab-df-convert:hover {\n",
              "      background-color: #E2EBFA;\n",
              "      box-shadow: 0px 1px 2px rgba(60, 64, 67, 0.3), 0px 1px 3px 1px rgba(60, 64, 67, 0.15);\n",
              "      fill: #174EA6;\n",
              "    }\n",
              "\n",
              "    [theme=dark] .colab-df-convert {\n",
              "      background-color: #3B4455;\n",
              "      fill: #D2E3FC;\n",
              "    }\n",
              "\n",
              "    [theme=dark] .colab-df-convert:hover {\n",
              "      background-color: #434B5C;\n",
              "      box-shadow: 0px 1px 3px 1px rgba(0, 0, 0, 0.15);\n",
              "      filter: drop-shadow(0px 1px 2px rgba(0, 0, 0, 0.3));\n",
              "      fill: #FFFFFF;\n",
              "    }\n",
              "  </style>\n",
              "\n",
              "      <script>\n",
              "        const buttonEl =\n",
              "          document.querySelector('#df-0ae89050-df0e-41fe-978e-6c3d8597ba12 button.colab-df-convert');\n",
              "        buttonEl.style.display =\n",
              "          google.colab.kernel.accessAllowed ? 'block' : 'none';\n",
              "\n",
              "        async function convertToInteractive(key) {\n",
              "          const element = document.querySelector('#df-0ae89050-df0e-41fe-978e-6c3d8597ba12');\n",
              "          const dataTable =\n",
              "            await google.colab.kernel.invokeFunction('convertToInteractive',\n",
              "                                                     [key], {});\n",
              "          if (!dataTable) return;\n",
              "\n",
              "          const docLinkHtml = 'Like what you see? Visit the ' +\n",
              "            '<a target=\"_blank\" href=https://colab.research.google.com/notebooks/data_table.ipynb>data table notebook</a>'\n",
              "            + ' to learn more about interactive tables.';\n",
              "          element.innerHTML = '';\n",
              "          dataTable['output_type'] = 'display_data';\n",
              "          await google.colab.output.renderOutput(dataTable, element);\n",
              "          const docLink = document.createElement('div');\n",
              "          docLink.innerHTML = docLinkHtml;\n",
              "          element.appendChild(docLink);\n",
              "        }\n",
              "      </script>\n",
              "    </div>\n",
              "  </div>\n",
              "  "
            ]
          },
          "metadata": {},
          "execution_count": 3
        }
      ]
    },
    {
      "cell_type": "code",
      "source": [
        "df_tamertamed_final.groupby('speaker_gender')['agency_pos'].sum().plot(kind= 'barh',title= 'Pos Agency By Gender').get_figure().savefig('pos_agency_bygender')"
      ],
      "metadata": {
        "colab": {
          "base_uri": "https://localhost:8080/",
          "height": 281
        },
        "id": "IChfjwdiXmuj",
        "outputId": "9fa12cf4-620b-43fc-b735-64f92660c006"
      },
      "execution_count": null,
      "outputs": [
        {
          "output_type": "display_data",
          "data": {
            "text/plain": [
              "<Figure size 432x288 with 1 Axes>"
            ],
            "image/png": "[encoded data removed]"
          },
          "metadata": {
            "needs_background": "light"
          }
        }
      ]
    },
    {
      "cell_type": "code",
      "source": [
        "df_tamertamed_final.groupby('speaker_gender')['agency_neg'].sum().plot(kind= 'barh',title= 'Neg Agency By Gender').get_figure().savefig('neg_agency_bygender')"
      ],
      "metadata": {
        "colab": {
          "base_uri": "https://localhost:8080/",
          "height": 281
        },
        "id": "GTwjX0-5X0U6",
        "outputId": "63abe2ca-d989-49c4-d847-682aefe14c23"
      },
      "execution_count": null,
      "outputs": [
        {
          "output_type": "display_data",
          "data": {
            "text/plain": [
              "<Figure size 432x288 with 1 Axes>"
            ],
            "image/png": "[encoded data removed]"
          },
          "metadata": {
            "needs_background": "light"
          }
        }
      ]
    },
    {
      "cell_type": "code",
      "source": [
        "df_tamertamed_final.groupby('speaker_gender')['agency_equal'].sum().plot(kind= 'barh',title= 'Equal Agency By Gender').get_figure().savefig('equal_agency_bygender')"
      ],
      "metadata": {
        "colab": {
          "base_uri": "https://localhost:8080/",
          "height": 281
        },
        "id": "JoxF-M-sYEUq",
        "outputId": "3e5dc4a2-c16e-44a3-b8b3-b6f9e3b5633d"
      },
      "execution_count": null,
      "outputs": [
        {
          "output_type": "display_data",
          "data": {
            "text/plain": [
              "<Figure size 432x288 with 1 Axes>"
            ],
            "image/png": "[encoded data removed]"
          },
          "metadata": {
            "needs_background": "light"
          }
        }
      ]
    },
    {
      "cell_type": "code",
      "source": [
        "df_tamertamed_final.groupby('speaker_gender')['power_agent'].sum().plot(kind= 'barh',title= 'Power Agent By Gender').get_figure().savefig('poweragent_bygender')"
      ],
      "metadata": {
        "colab": {
          "base_uri": "https://localhost:8080/",
          "height": 281
        },
        "id": "s8qdQk2iX3vp",
        "outputId": "5ef4fb2d-db1a-4e8e-cb7f-ff97c9092954"
      },
      "execution_count": null,
      "outputs": [
        {
          "output_type": "display_data",
          "data": {
            "text/plain": [
              "<Figure size 432x288 with 1 Axes>"
            ],
            "image/png": "[encoded data removed]"
          },
          "metadata": {
            "needs_background": "light"
          }
        }
      ]
    },
    {
      "cell_type": "code",
      "source": [
        "df_tamertamed_final.groupby('speaker_gender')['power_theme'].sum().plot(kind= 'barh',title= 'Power Theme By Gender').get_figure().savefig('powertheme_bygender')"
      ],
      "metadata": {
        "colab": {
          "base_uri": "https://localhost:8080/",
          "height": 281
        },
        "id": "NrJzewprYMoG",
        "outputId": "e66badc4-583d-4c96-f1f0-a039e85e8b2d"
      },
      "execution_count": null,
      "outputs": [
        {
          "output_type": "display_data",
          "data": {
            "text/plain": [
              "<Figure size 432x288 with 1 Axes>"
            ],
            "image/png": "[encoded data removed]"
          },
          "metadata": {
            "needs_background": "light"
          }
        }
      ]
    },
    {
      "cell_type": "code",
      "source": [
        "df_tamertamed_final.groupby('speaker_gender')['power_equal'].sum().plot(kind= 'barh',title= 'Power Equal By Gender').get_figure().savefig('powerequal_bygender')"
      ],
      "metadata": {
        "colab": {
          "base_uri": "https://localhost:8080/",
          "height": 281
        },
        "id": "K-gH5si9YVSi",
        "outputId": "99e94859-76de-4367-f28a-f2aa18eb62c0"
      },
      "execution_count": null,
      "outputs": [
        {
          "output_type": "display_data",
          "data": {
            "text/plain": [
              "<Figure size 432x288 with 1 Axes>"
            ],
            "image/png": "[encoded data removed]"
          },
          "metadata": {
            "needs_background": "light"
          }
        }
      ]
    },
    {
      "cell_type": "code",
      "source": [
        "#BY CHARACTER"
      ],
      "metadata": {
        "id": "4e8m7ouOY58-"
      },
      "execution_count": null,
      "outputs": []
    },
    {
      "cell_type": "code",
      "source": [
        "df_tamertamed_final.groupby('speaker')['agency_pos'].sum().plot(kind= 'barh',title= 'Pos Agency By Speaker').get_figure().savefig('pos_agency_byspeaker')"
      ],
      "metadata": {
        "colab": {
          "base_uri": "https://localhost:8080/",
          "height": 281
        },
        "id": "2YCKEroOY7nu",
        "outputId": "d9729158-1337-4d75-c160-6ac51190c952"
      },
      "execution_count": null,
      "outputs": [
        {
          "output_type": "display_data",
          "data": {
            "text/plain": [
              "<Figure size 432x288 with 1 Axes>"
            ],
            "image/png": "[encoded data removed]"
          },
          "metadata": {
            "needs_background": "light"
          }
        }
      ]
    },
    {
      "cell_type": "code",
      "source": [
        "df_tamertamed_final.groupby('speaker')['agency_neg'].sum().plot(kind= 'barh',title= 'Neg Agency By Speaker').get_figure().savefig('neg_agency_byspeaker')"
      ],
      "metadata": {
        "colab": {
          "base_uri": "https://localhost:8080/",
          "height": 281
        },
        "id": "boMiKO9SY_wU",
        "outputId": "efe819b3-ef78-49ce-baae-d6bc42ecd71e"
      },
      "execution_count": null,
      "outputs": [
        {
          "output_type": "display_data",
          "data": {
            "text/plain": [
              "<Figure size 432x288 with 1 Axes>"
            ],
            "image/png": "[encoded data removed]"
          },
          "metadata": {
            "needs_background": "light"
          }
        }
      ]
    },
    {
      "cell_type": "code",
      "source": [
        "df_tamertamed_final.groupby('speaker')['agency_equal'].sum().plot(kind= 'barh',title= 'Equal Agency By Speaker').get_figure().savefig('agencyequal_bygender')"
      ],
      "metadata": {
        "colab": {
          "base_uri": "https://localhost:8080/",
          "height": 281
        },
        "id": "PhpItXcWZIZq",
        "outputId": "7691575f-5ed0-4563-b6e4-58daa2de03bc"
      },
      "execution_count": null,
      "outputs": [
        {
          "output_type": "display_data",
          "data": {
            "text/plain": [
              "<Figure size 432x288 with 1 Axes>"
            ],
            "image/png": "[encoded data removed]"
          },
          "metadata": {
            "needs_background": "light"
          }
        }
      ]
    },
    {
      "cell_type": "code",
      "source": [
        "df_tamertamed_final.groupby('speaker')['power_equal'].sum().plot(kind= 'barh',title= 'Equal Power By Speaker').get_figure().savefig('powerequal_byspeaker')"
      ],
      "metadata": {
        "id": "tGzaHjF-ZF6S",
        "colab": {
          "base_uri": "https://localhost:8080/",
          "height": 281
        },
        "outputId": "948cf9a8-006e-4c95-bd4e-c52c6252b724"
      },
      "execution_count": null,
      "outputs": [
        {
          "output_type": "display_data",
          "data": {
            "text/plain": [
              "<Figure size 432x288 with 1 Axes>"
            ],
            "image/png": "[encoded data removed]"
          },
          "metadata": {
            "needs_background": "light"
          }
        }
      ]
    },
    {
      "cell_type": "code",
      "source": [
        "df_tamertamed_final.groupby('speaker')['power_theme'].sum().plot(kind= 'barh',title= 'Power Theme By Speaker').get_figure().savefig('powerequal_byspeaker')"
      ],
      "metadata": {
        "colab": {
          "base_uri": "https://localhost:8080/",
          "height": 281
        },
        "id": "tuquKORYWEQN",
        "outputId": "962b348f-ba13-4a0e-ef29-508bc5ae5d54"
      },
      "execution_count": null,
      "outputs": [
        {
          "output_type": "display_data",
          "data": {
            "text/plain": [
              "<Figure size 432x288 with 1 Axes>"
            ],
            "image/png": "[encoded data removed]"
          },
          "metadata": {
            "needs_background": "light"
          }
        }
      ]
    },
    {
      "cell_type": "code",
      "source": [
        "df_tamertamed_final.groupby('speaker')['power_agent'].sum().plot(kind= 'barh',title= 'Power Agent By Speaker').get_figure().savefig('poweragent_byspeaker')"
      ],
      "metadata": {
        "colab": {
          "base_uri": "https://localhost:8080/",
          "height": 281
        },
        "id": "l8luEaq2WOGW",
        "outputId": "9207f17f-82dd-4cb6-ae10-615c161e3000"
      },
      "execution_count": null,
      "outputs": [
        {
          "output_type": "display_data",
          "data": {
            "text/plain": [
              "<Figure size 432x288 with 1 Axes>"
            ],
            "image/png": "[encoded data removed]"
          },
          "metadata": {
            "needs_background": "light"
          }
        }
      ]
    },
    {
      "cell_type": "markdown",
      "source": [
        "next steps:\n",
        "\n",
        "in another file, create line,word,verb etc counts (see notion)\n",
        "\n",
        "then create another notebook for analyzing the normalized data"
      ],
      "metadata": {
        "id": "vbQqbA0xYfQH"
      }
    }
  ]
}